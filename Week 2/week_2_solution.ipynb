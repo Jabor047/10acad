{
 "cells": [
  {
   "cell_type": "markdown",
   "metadata": {},
   "source": [
    "# User Analytics in the Telecommunication Industry"
   ]
  },
  {
   "cell_type": "markdown",
   "metadata": {},
   "source": [
    "## Task 1: User Overview analysis"
   ]
  },
  {
   "cell_type": "code",
   "execution_count": 1,
   "metadata": {},
   "outputs": [],
   "source": [
    "import pandas as pd\n",
    "import numpy as np\n",
    "import matplotlib.pyplot as plt\n",
    "import seaborn as sns\n",
    "pd.set_option('display.precision',9)"
   ]
  },
  {
   "cell_type": "code",
   "execution_count": 2,
   "metadata": {},
   "outputs": [
    {
     "data": {
      "text/html": [
       "<div>\n",
       "<style scoped>\n",
       "    .dataframe tbody tr th:only-of-type {\n",
       "        vertical-align: middle;\n",
       "    }\n",
       "\n",
       "    .dataframe tbody tr th {\n",
       "        vertical-align: top;\n",
       "    }\n",
       "\n",
       "    .dataframe thead th {\n",
       "        text-align: right;\n",
       "    }\n",
       "</style>\n",
       "<table border=\"1\" class=\"dataframe\">\n",
       "  <thead>\n",
       "    <tr style=\"text-align: right;\">\n",
       "      <th></th>\n",
       "      <th>Bearer Id</th>\n",
       "      <th>Start</th>\n",
       "      <th>Start ms</th>\n",
       "      <th>End</th>\n",
       "      <th>End ms</th>\n",
       "      <th>Dur. (ms)</th>\n",
       "      <th>IMSI</th>\n",
       "      <th>MSISDN/Number</th>\n",
       "      <th>IMEI</th>\n",
       "      <th>Last Location Name</th>\n",
       "      <th>...</th>\n",
       "      <th>Youtube DL (Bytes)</th>\n",
       "      <th>Youtube UL (Bytes)</th>\n",
       "      <th>Netflix DL (Bytes)</th>\n",
       "      <th>Netflix UL (Bytes)</th>\n",
       "      <th>Gaming DL (Bytes)</th>\n",
       "      <th>Gaming UL (Bytes)</th>\n",
       "      <th>Other DL (Bytes)</th>\n",
       "      <th>Other UL (Bytes)</th>\n",
       "      <th>Total UL (Bytes)</th>\n",
       "      <th>Total DL (Bytes)</th>\n",
       "    </tr>\n",
       "  </thead>\n",
       "  <tbody>\n",
       "    <tr>\n",
       "      <th>0</th>\n",
       "      <td>13114483460844900352</td>\n",
       "      <td>2019-04-04 12:01:18</td>\n",
       "      <td>770.0</td>\n",
       "      <td>2019-04-25 14:35:31</td>\n",
       "      <td>662.0</td>\n",
       "      <td>1823652.0</td>\n",
       "      <td>2.082014481e+14</td>\n",
       "      <td>33664962239.0</td>\n",
       "      <td>3.552120951e+13</td>\n",
       "      <td>9164566995485190</td>\n",
       "      <td>...</td>\n",
       "      <td>15854611.0</td>\n",
       "      <td>2501332.0</td>\n",
       "      <td>8198936.0</td>\n",
       "      <td>9656251.0</td>\n",
       "      <td>278082303.0</td>\n",
       "      <td>14344150.0</td>\n",
       "      <td>171744450.0</td>\n",
       "      <td>8814393.0</td>\n",
       "      <td>36749741.0</td>\n",
       "      <td>308879636.0</td>\n",
       "    </tr>\n",
       "    <tr>\n",
       "      <th>1</th>\n",
       "      <td>13114483482878900224</td>\n",
       "      <td>2019-04-09 13:04:04</td>\n",
       "      <td>235.0</td>\n",
       "      <td>2019-04-25 08:15:48</td>\n",
       "      <td>606.0</td>\n",
       "      <td>1365104.0</td>\n",
       "      <td>2.082019092e+14</td>\n",
       "      <td>33681854413.0</td>\n",
       "      <td>3.579400901e+13</td>\n",
       "      <td>L77566A</td>\n",
       "      <td>...</td>\n",
       "      <td>20247395.0</td>\n",
       "      <td>19111729.0</td>\n",
       "      <td>18338413.0</td>\n",
       "      <td>17227132.0</td>\n",
       "      <td>608750074.0</td>\n",
       "      <td>1170709.0</td>\n",
       "      <td>526904238.0</td>\n",
       "      <td>15055145.0</td>\n",
       "      <td>53800391.0</td>\n",
       "      <td>653384965.0</td>\n",
       "    </tr>\n",
       "    <tr>\n",
       "      <th>2</th>\n",
       "      <td>13114483484080500736</td>\n",
       "      <td>2019-04-09 17:42:11</td>\n",
       "      <td>1.0</td>\n",
       "      <td>2019-04-25 11:58:13</td>\n",
       "      <td>652.0</td>\n",
       "      <td>1361762.0</td>\n",
       "      <td>2.082003145e+14</td>\n",
       "      <td>33760627129.0</td>\n",
       "      <td>3.528151036e+13</td>\n",
       "      <td>D42335A</td>\n",
       "      <td>...</td>\n",
       "      <td>19725661.0</td>\n",
       "      <td>14699576.0</td>\n",
       "      <td>17587794.0</td>\n",
       "      <td>6163408.0</td>\n",
       "      <td>229584621.0</td>\n",
       "      <td>395630.0</td>\n",
       "      <td>410692588.0</td>\n",
       "      <td>4215763.0</td>\n",
       "      <td>27883638.0</td>\n",
       "      <td>279807335.0</td>\n",
       "    </tr>\n",
       "    <tr>\n",
       "      <th>3</th>\n",
       "      <td>13114483485442799616</td>\n",
       "      <td>2019-04-10 00:31:25</td>\n",
       "      <td>486.0</td>\n",
       "      <td>2019-04-25 07:36:35</td>\n",
       "      <td>171.0</td>\n",
       "      <td>1321509.0</td>\n",
       "      <td>2.082014023e+14</td>\n",
       "      <td>33750343200.0</td>\n",
       "      <td>3.535661016e+13</td>\n",
       "      <td>T21824A</td>\n",
       "      <td>...</td>\n",
       "      <td>21388122.0</td>\n",
       "      <td>15146643.0</td>\n",
       "      <td>13994646.0</td>\n",
       "      <td>1097942.0</td>\n",
       "      <td>799538153.0</td>\n",
       "      <td>10849722.0</td>\n",
       "      <td>749039933.0</td>\n",
       "      <td>12797283.0</td>\n",
       "      <td>43324218.0</td>\n",
       "      <td>846028530.0</td>\n",
       "    </tr>\n",
       "    <tr>\n",
       "      <th>4</th>\n",
       "      <td>13114483499480700928</td>\n",
       "      <td>2019-04-12 20:10:23</td>\n",
       "      <td>565.0</td>\n",
       "      <td>2019-04-25 10:40:32</td>\n",
       "      <td>954.0</td>\n",
       "      <td>1089009.0</td>\n",
       "      <td>2.082014014e+14</td>\n",
       "      <td>33699795932.0</td>\n",
       "      <td>3.540700975e+13</td>\n",
       "      <td>D88865A</td>\n",
       "      <td>...</td>\n",
       "      <td>15259380.0</td>\n",
       "      <td>18962873.0</td>\n",
       "      <td>17124581.0</td>\n",
       "      <td>415218.0</td>\n",
       "      <td>527707248.0</td>\n",
       "      <td>3529801.0</td>\n",
       "      <td>550709500.0</td>\n",
       "      <td>13910322.0</td>\n",
       "      <td>38542814.0</td>\n",
       "      <td>569138589.0</td>\n",
       "    </tr>\n",
       "  </tbody>\n",
       "</table>\n",
       "<p>5 rows × 55 columns</p>\n",
       "</div>"
      ],
      "text/plain": [
       "              Bearer Id               Start  Start ms                 End  \\\n",
       "0  13114483460844900352 2019-04-04 12:01:18     770.0 2019-04-25 14:35:31   \n",
       "1  13114483482878900224 2019-04-09 13:04:04     235.0 2019-04-25 08:15:48   \n",
       "2  13114483484080500736 2019-04-09 17:42:11       1.0 2019-04-25 11:58:13   \n",
       "3  13114483485442799616 2019-04-10 00:31:25     486.0 2019-04-25 07:36:35   \n",
       "4  13114483499480700928 2019-04-12 20:10:23     565.0 2019-04-25 10:40:32   \n",
       "\n",
       "   End ms  Dur. (ms)             IMSI  MSISDN/Number             IMEI  \\\n",
       "0   662.0  1823652.0  2.082014481e+14  33664962239.0  3.552120951e+13   \n",
       "1   606.0  1365104.0  2.082019092e+14  33681854413.0  3.579400901e+13   \n",
       "2   652.0  1361762.0  2.082003145e+14  33760627129.0  3.528151036e+13   \n",
       "3   171.0  1321509.0  2.082014023e+14  33750343200.0  3.535661016e+13   \n",
       "4   954.0  1089009.0  2.082014014e+14  33699795932.0  3.540700975e+13   \n",
       "\n",
       "  Last Location Name  ...  Youtube DL (Bytes)  Youtube UL (Bytes)  \\\n",
       "0   9164566995485190  ...          15854611.0           2501332.0   \n",
       "1            L77566A  ...          20247395.0          19111729.0   \n",
       "2            D42335A  ...          19725661.0          14699576.0   \n",
       "3            T21824A  ...          21388122.0          15146643.0   \n",
       "4            D88865A  ...          15259380.0          18962873.0   \n",
       "\n",
       "   Netflix DL (Bytes)  Netflix UL (Bytes)  Gaming DL (Bytes)  \\\n",
       "0           8198936.0           9656251.0        278082303.0   \n",
       "1          18338413.0          17227132.0        608750074.0   \n",
       "2          17587794.0           6163408.0        229584621.0   \n",
       "3          13994646.0           1097942.0        799538153.0   \n",
       "4          17124581.0            415218.0        527707248.0   \n",
       "\n",
       "   Gaming UL (Bytes)  Other DL (Bytes)  Other UL (Bytes)  Total UL (Bytes)  \\\n",
       "0         14344150.0       171744450.0         8814393.0        36749741.0   \n",
       "1          1170709.0       526904238.0        15055145.0        53800391.0   \n",
       "2           395630.0       410692588.0         4215763.0        27883638.0   \n",
       "3         10849722.0       749039933.0        12797283.0        43324218.0   \n",
       "4          3529801.0       550709500.0        13910322.0        38542814.0   \n",
       "\n",
       "   Total DL (Bytes)  \n",
       "0       308879636.0  \n",
       "1       653384965.0  \n",
       "2       279807335.0  \n",
       "3       846028530.0  \n",
       "4       569138589.0  \n",
       "\n",
       "[5 rows x 55 columns]"
      ]
     },
     "execution_count": 2,
     "metadata": {},
     "output_type": "execute_result"
    }
   ],
   "source": [
    "df = pd.read_excel('Week2_challenge_data_source.xlsx')\n",
    "df.head()"
   ]
  },
  {
   "cell_type": "code",
   "execution_count": 3,
   "metadata": {},
   "outputs": [
    {
     "data": {
      "text/plain": [
       "Index(['Bearer Id', 'Start', 'Start ms', 'End', 'End ms', 'Dur. (ms)', 'IMSI',\n",
       "       'MSISDN/Number', 'IMEI', 'Last Location Name', 'Avg RTT DL (ms)',\n",
       "       'Avg RTT UL (ms)', 'Avg Bearer TP DL (kbps)', 'Avg Bearer TP UL (kbps)',\n",
       "       'TCP DL Retrans. Vol (Bytes)', 'TCP UL Retrans. Vol (Bytes)',\n",
       "       'DL TP < 50 Kbps (%)', '50 Kbps < DL TP < 250 Kbps (%)',\n",
       "       '250 Kbps < DL TP < 1 Mbps (%)', 'DL TP > 1 Mbps (%)',\n",
       "       'UL TP < 10 Kbps (%)', '10 Kbps < UL TP < 50 Kbps (%)',\n",
       "       '50 Kbps < UL TP < 300 Kbps (%)', 'UL TP > 300 Kbps (%)',\n",
       "       'HTTP DL (Bytes)', 'HTTP UL (Bytes)', 'Activity Duration DL (ms)',\n",
       "       'Activity Duration UL (ms)', 'Dur. (ms).1', 'Handset Manufacturer',\n",
       "       'Handset Type', 'Nb of sec with 125000B < Vol DL',\n",
       "       'Nb of sec with 1250B < Vol UL < 6250B',\n",
       "       'Nb of sec with 31250B < Vol DL < 125000B',\n",
       "       'Nb of sec with 37500B < Vol UL',\n",
       "       'Nb of sec with 6250B < Vol DL < 31250B',\n",
       "       'Nb of sec with 6250B < Vol UL < 37500B',\n",
       "       'Nb of sec with Vol DL < 6250B', 'Nb of sec with Vol UL < 1250B',\n",
       "       'Social Media DL (Bytes)', 'Social Media UL (Bytes)',\n",
       "       'Google DL (Bytes)', 'Google UL (Bytes)', 'Email DL (Bytes)',\n",
       "       'Email UL (Bytes)', 'Youtube DL (Bytes)', 'Youtube UL (Bytes)',\n",
       "       'Netflix DL (Bytes)', 'Netflix UL (Bytes)', 'Gaming DL (Bytes)',\n",
       "       'Gaming UL (Bytes)', 'Other DL (Bytes)', 'Other UL (Bytes)',\n",
       "       'Total UL (Bytes)', 'Total DL (Bytes)'],\n",
       "      dtype='object')"
      ]
     },
     "execution_count": 3,
     "metadata": {},
     "output_type": "execute_result"
    }
   ],
   "source": [
    "df.columns "
   ]
  },
  {
   "cell_type": "markdown",
   "metadata": {},
   "source": [
    "### Top Ten handsets used by Customers"
   ]
  },
  {
   "cell_type": "code",
   "execution_count": 4,
   "metadata": {},
   "outputs": [
    {
     "data": {
      "text/plain": [
       "Handset Type\n",
       "Huawei B528S-23A                19727\n",
       "Apple iPhone 6S (A1688)          9413\n",
       "Apple iPhone 6 (A1586)           9012\n",
       "undefined                        8931\n",
       "Apple iPhone 7 (A1778)           6304\n",
       "Apple iPhone Se (A1723)          5176\n",
       "Apple iPhone 8 (A1905)           4985\n",
       "Apple iPhone Xr (A2105)          4562\n",
       "Samsung Galaxy S8 (Sm-G950F)     4480\n",
       "Apple iPhone X (A1901)           3810\n",
       "Name: MSISDN/Number, dtype: int64"
      ]
     },
     "execution_count": 4,
     "metadata": {},
     "output_type": "execute_result"
    }
   ],
   "source": [
    "df.groupby('Handset Type')['MSISDN/Number'].count().nlargest(10)"
   ]
  },
  {
   "cell_type": "markdown",
   "metadata": {},
   "source": [
    "### Top Three handest Manufacturers"
   ]
  },
  {
   "cell_type": "code",
   "execution_count": 5,
   "metadata": {},
   "outputs": [
    {
     "data": {
      "text/plain": [
       "Handset Manufacturer\n",
       "Apple      59565\n",
       "Samsung    40839\n",
       "Huawei     34423\n",
       "Name: Bearer Id, dtype: int64"
      ]
     },
     "execution_count": 5,
     "metadata": {},
     "output_type": "execute_result"
    }
   ],
   "source": [
    "top3M = df.groupby('Handset Manufacturer')['Bearer Id'].count().nlargest(3)\n",
    "top3M"
   ]
  },
  {
   "cell_type": "markdown",
   "metadata": {},
   "source": [
    "### The top 5 handsets per handset manufacturer"
   ]
  },
  {
   "cell_type": "code",
   "execution_count": 6,
   "metadata": {},
   "outputs": [
    {
     "name": "stdout",
     "output_type": "stream",
     "text": [
      "Top Five devices for the Manufaturer Apple\n",
      "Handset Type\n",
      "Apple iPhone 6S (A1688)    9419\n",
      "Apple iPhone 6 (A1586)     9023\n",
      "Apple iPhone 7 (A1778)     6326\n",
      "Apple iPhone Se (A1723)    5187\n",
      "Apple iPhone 8 (A1905)     4993\n",
      "Name: Bearer Id, dtype: int64\n",
      "\n",
      "\n",
      "Top Five devices for the Manufaturer Samsung\n",
      "Handset Type\n",
      "Samsung Galaxy S8 (Sm-G950F)    4520\n",
      "Samsung Galaxy A5 Sm-A520F      3724\n",
      "Samsung Galaxy J5 (Sm-J530)     3696\n",
      "Samsung Galaxy J3 (Sm-J330)     3484\n",
      "Samsung Galaxy S7 (Sm-G930X)    3199\n",
      "Name: Bearer Id, dtype: int64\n",
      "\n",
      "\n",
      "Top Five devices for the Manufaturer Huawei\n",
      "Handset Type\n",
      "Huawei B528S-23A                  19752\n",
      "Huawei E5180                       2079\n",
      "Huawei P20 Lite Huawei Nova 3E     2021\n",
      "Huawei P20                         1480\n",
      "Huawei Y6 2018                      997\n",
      "Name: Bearer Id, dtype: int64\n",
      "\n",
      "\n"
     ]
    }
   ],
   "source": [
    "def getFiveTop(toplist, df):\n",
    "    topM = df.groupby('Handset Manufacturer')\n",
    "    for key, value in toplist.items():\n",
    "        print(\"Top Five devices for the Manufaturer \" + key)\n",
    "        print(topM.get_group(key).groupby('Handset Type')['Bearer Id'].count().nlargest(5))\n",
    "        print(\"\\n\")\n",
    "\n",
    "getFiveTop(top3M, df)"
   ]
  },
  {
   "cell_type": "markdown",
   "metadata": {},
   "source": [
    "## Task 1.1 Aggregating column data"
   ]
  },
  {
   "cell_type": "markdown",
   "metadata": {},
   "source": [
    "### Total Number of xDR sessions"
   ]
  },
  {
   "cell_type": "code",
   "execution_count": 7,
   "metadata": {},
   "outputs": [
    {
     "data": {
      "text/html": [
       "<div>\n",
       "<style scoped>\n",
       "    .dataframe tbody tr th:only-of-type {\n",
       "        vertical-align: middle;\n",
       "    }\n",
       "\n",
       "    .dataframe tbody tr th {\n",
       "        vertical-align: top;\n",
       "    }\n",
       "\n",
       "    .dataframe thead th {\n",
       "        text-align: right;\n",
       "    }\n",
       "</style>\n",
       "<table border=\"1\" class=\"dataframe\">\n",
       "  <thead>\n",
       "    <tr style=\"text-align: right;\">\n",
       "      <th></th>\n",
       "      <th>Bearer Id</th>\n",
       "      <th>Total Number of xDR sessions</th>\n",
       "    </tr>\n",
       "  </thead>\n",
       "  <tbody>\n",
       "    <tr>\n",
       "      <th>0</th>\n",
       "      <td>13042425979269199872</td>\n",
       "      <td>16</td>\n",
       "    </tr>\n",
       "    <tr>\n",
       "      <th>1</th>\n",
       "      <td>13042425965944199168</td>\n",
       "      <td>10</td>\n",
       "    </tr>\n",
       "    <tr>\n",
       "      <th>2</th>\n",
       "      <td>13042425972278300672</td>\n",
       "      <td>9</td>\n",
       "    </tr>\n",
       "    <tr>\n",
       "      <th>3</th>\n",
       "      <td>13042425981873399808</td>\n",
       "      <td>9</td>\n",
       "    </tr>\n",
       "    <tr>\n",
       "      <th>4</th>\n",
       "      <td>13042425974582800384</td>\n",
       "      <td>9</td>\n",
       "    </tr>\n",
       "    <tr>\n",
       "      <th>...</th>\n",
       "      <td>...</td>\n",
       "      <td>...</td>\n",
       "    </tr>\n",
       "    <tr>\n",
       "      <th>134703</th>\n",
       "      <td>13042425960981700608</td>\n",
       "      <td>1</td>\n",
       "    </tr>\n",
       "    <tr>\n",
       "      <th>134704</th>\n",
       "      <td>13042425960981999616</td>\n",
       "      <td>1</td>\n",
       "    </tr>\n",
       "    <tr>\n",
       "      <th>134705</th>\n",
       "      <td>13042425960982099968</td>\n",
       "      <td>1</td>\n",
       "    </tr>\n",
       "    <tr>\n",
       "      <th>134706</th>\n",
       "      <td>13042425960982999040</td>\n",
       "      <td>1</td>\n",
       "    </tr>\n",
       "    <tr>\n",
       "      <th>134707</th>\n",
       "      <td>6917537518543529984</td>\n",
       "      <td>1</td>\n",
       "    </tr>\n",
       "  </tbody>\n",
       "</table>\n",
       "<p>134708 rows × 2 columns</p>\n",
       "</div>"
      ],
      "text/plain": [
       "                   Bearer Id  Total Number of xDR sessions\n",
       "0       13042425979269199872                            16\n",
       "1       13042425965944199168                            10\n",
       "2       13042425972278300672                             9\n",
       "3       13042425981873399808                             9\n",
       "4       13042425974582800384                             9\n",
       "...                      ...                           ...\n",
       "134703  13042425960981700608                             1\n",
       "134704  13042425960981999616                             1\n",
       "134705  13042425960982099968                             1\n",
       "134706  13042425960982999040                             1\n",
       "134707   6917537518543529984                             1\n",
       "\n",
       "[134708 rows x 2 columns]"
      ]
     },
     "execution_count": 7,
     "metadata": {},
     "output_type": "execute_result"
    }
   ],
   "source": [
    "df3 = df[df['Bearer Id'].notna()]\n",
    "seTxdr = df3.groupby('Bearer Id')['Dur. (ms)'].count().sort_values(ascending=False)[1:]\n",
    "dfTotalXdr = pd.DataFrame({'Bearer Id': seTxdr.index, 'Total Number of xDR sessions': seTxdr.values})\n",
    "dfTotalXdr"
   ]
  },
  {
   "cell_type": "markdown",
   "metadata": {},
   "source": [
    "### Total session duration in Microseconds"
   ]
  },
  {
   "cell_type": "code",
   "execution_count": 8,
   "metadata": {},
   "outputs": [
    {
     "data": {
      "text/html": [
       "<div>\n",
       "<style scoped>\n",
       "    .dataframe tbody tr th:only-of-type {\n",
       "        vertical-align: middle;\n",
       "    }\n",
       "\n",
       "    .dataframe tbody tr th {\n",
       "        vertical-align: top;\n",
       "    }\n",
       "\n",
       "    .dataframe thead th {\n",
       "        text-align: right;\n",
       "    }\n",
       "</style>\n",
       "<table border=\"1\" class=\"dataframe\">\n",
       "  <thead>\n",
       "    <tr style=\"text-align: right;\">\n",
       "      <th></th>\n",
       "      <th>Bearer Id</th>\n",
       "      <th>Total Duration (ms)</th>\n",
       "    </tr>\n",
       "  </thead>\n",
       "  <tbody>\n",
       "    <tr>\n",
       "      <th>0</th>\n",
       "      <td>13114483561758900224</td>\n",
       "      <td>5659733.0</td>\n",
       "    </tr>\n",
       "    <tr>\n",
       "      <th>1</th>\n",
       "      <td>13042425972205000704</td>\n",
       "      <td>4838428.0</td>\n",
       "    </tr>\n",
       "    <tr>\n",
       "      <th>2</th>\n",
       "      <td>13042425978965499904</td>\n",
       "      <td>3990246.0</td>\n",
       "    </tr>\n",
       "    <tr>\n",
       "      <th>3</th>\n",
       "      <td>13042425975793299456</td>\n",
       "      <td>3667444.0</td>\n",
       "    </tr>\n",
       "    <tr>\n",
       "      <th>4</th>\n",
       "      <td>13042425981873399808</td>\n",
       "      <td>2863468.0</td>\n",
       "    </tr>\n",
       "    <tr>\n",
       "      <th>...</th>\n",
       "      <td>...</td>\n",
       "      <td>...</td>\n",
       "    </tr>\n",
       "    <tr>\n",
       "      <th>134703</th>\n",
       "      <td>7277825656116110336</td>\n",
       "      <td>7284.0</td>\n",
       "    </tr>\n",
       "    <tr>\n",
       "      <th>134704</th>\n",
       "      <td>6917537685489510400</td>\n",
       "      <td>7267.0</td>\n",
       "    </tr>\n",
       "    <tr>\n",
       "      <th>134705</th>\n",
       "      <td>6917537673690099712</td>\n",
       "      <td>7258.0</td>\n",
       "    </tr>\n",
       "    <tr>\n",
       "      <th>134706</th>\n",
       "      <td>6917537669513839616</td>\n",
       "      <td>7146.0</td>\n",
       "    </tr>\n",
       "    <tr>\n",
       "      <th>134707</th>\n",
       "      <td>13042425959676700672</td>\n",
       "      <td>7142.0</td>\n",
       "    </tr>\n",
       "  </tbody>\n",
       "</table>\n",
       "<p>134708 rows × 2 columns</p>\n",
       "</div>"
      ],
      "text/plain": [
       "                   Bearer Id  Total Duration (ms)\n",
       "0       13114483561758900224            5659733.0\n",
       "1       13042425972205000704            4838428.0\n",
       "2       13042425978965499904            3990246.0\n",
       "3       13042425975793299456            3667444.0\n",
       "4       13042425981873399808            2863468.0\n",
       "...                      ...                  ...\n",
       "134703   7277825656116110336               7284.0\n",
       "134704   6917537685489510400               7267.0\n",
       "134705   6917537673690099712               7258.0\n",
       "134706   6917537669513839616               7146.0\n",
       "134707  13042425959676700672               7142.0\n",
       "\n",
       "[134708 rows x 2 columns]"
      ]
     },
     "execution_count": 8,
     "metadata": {},
     "output_type": "execute_result"
    }
   ],
   "source": [
    "seDxdr = df3.groupby('Bearer Id')['Dur. (ms)'].agg('sum').sort_values(ascending=False)[1:]\n",
    "dfDur = pd.DataFrame({'Bearer Id': seDxdr.index, 'Total Duration (ms)': seDxdr.values})\n",
    "dfDur"
   ]
  },
  {
   "cell_type": "markdown",
   "metadata": {},
   "source": [
    "### Total Download Data in Bytes"
   ]
  },
  {
   "cell_type": "code",
   "execution_count": 9,
   "metadata": {},
   "outputs": [
    {
     "name": "stderr",
     "output_type": "stream",
     "text": [
      "c:\\users\\gkkar\\appdata\\local\\programs\\python\\python36\\lib\\site-packages\\ipykernel_launcher.py:3: SettingWithCopyWarning: \n",
      "A value is trying to be set on a copy of a slice from a DataFrame.\n",
      "Try using .loc[row_indexer,col_indexer] = value instead\n",
      "\n",
      "See the caveats in the documentation: https://pandas.pydata.org/pandas-docs/stable/user_guide/indexing.html#returning-a-view-versus-a-copy\n",
      "  This is separate from the ipykernel package so we can avoid doing imports until\n"
     ]
    },
    {
     "data": {
      "text/html": [
       "<div>\n",
       "<style scoped>\n",
       "    .dataframe tbody tr th:only-of-type {\n",
       "        vertical-align: middle;\n",
       "    }\n",
       "\n",
       "    .dataframe tbody tr th {\n",
       "        vertical-align: top;\n",
       "    }\n",
       "\n",
       "    .dataframe thead th {\n",
       "        text-align: right;\n",
       "    }\n",
       "</style>\n",
       "<table border=\"1\" class=\"dataframe\">\n",
       "  <thead>\n",
       "    <tr style=\"text-align: right;\">\n",
       "      <th></th>\n",
       "      <th>MSISDN/Number</th>\n",
       "      <th>Total Download Data (Bytes)</th>\n",
       "    </tr>\n",
       "  </thead>\n",
       "  <tbody>\n",
       "    <tr>\n",
       "      <th>0</th>\n",
       "      <td>33760536639</td>\n",
       "      <td>7811295382.0</td>\n",
       "    </tr>\n",
       "    <tr>\n",
       "      <th>1</th>\n",
       "      <td>33625779332</td>\n",
       "      <td>7770043342.0</td>\n",
       "    </tr>\n",
       "    <tr>\n",
       "      <th>2</th>\n",
       "      <td>33675877202</td>\n",
       "      <td>7309541816.0</td>\n",
       "    </tr>\n",
       "    <tr>\n",
       "      <th>3</th>\n",
       "      <td>33626320676</td>\n",
       "      <td>7301516540.0</td>\n",
       "    </tr>\n",
       "    <tr>\n",
       "      <th>4</th>\n",
       "      <td>33659725664</td>\n",
       "      <td>7081602462.0</td>\n",
       "    </tr>\n",
       "    <tr>\n",
       "      <th>...</th>\n",
       "      <td>...</td>\n",
       "      <td>...</td>\n",
       "    </tr>\n",
       "    <tr>\n",
       "      <th>106850</th>\n",
       "      <td>33666684512</td>\n",
       "      <td>9455608.0</td>\n",
       "    </tr>\n",
       "    <tr>\n",
       "      <th>106851</th>\n",
       "      <td>33760578459</td>\n",
       "      <td>9275626.0</td>\n",
       "    </tr>\n",
       "    <tr>\n",
       "      <th>106852</th>\n",
       "      <td>33658797043</td>\n",
       "      <td>9199518.0</td>\n",
       "    </tr>\n",
       "    <tr>\n",
       "      <th>106853</th>\n",
       "      <td>33659200818</td>\n",
       "      <td>9046209.0</td>\n",
       "    </tr>\n",
       "    <tr>\n",
       "      <th>106854</th>\n",
       "      <td>33767419347</td>\n",
       "      <td>8827082.0</td>\n",
       "    </tr>\n",
       "  </tbody>\n",
       "</table>\n",
       "<p>106855 rows × 2 columns</p>\n",
       "</div>"
      ],
      "text/plain": [
       "        MSISDN/Number  Total Download Data (Bytes)\n",
       "0         33760536639                 7811295382.0\n",
       "1         33625779332                 7770043342.0\n",
       "2         33675877202                 7309541816.0\n",
       "3         33626320676                 7301516540.0\n",
       "4         33659725664                 7081602462.0\n",
       "...               ...                          ...\n",
       "106850    33666684512                    9455608.0\n",
       "106851    33760578459                    9275626.0\n",
       "106852    33658797043                    9199518.0\n",
       "106853    33659200818                    9046209.0\n",
       "106854    33767419347                    8827082.0\n",
       "\n",
       "[106855 rows x 2 columns]"
      ]
     },
     "execution_count": 9,
     "metadata": {},
     "output_type": "execute_result"
    }
   ],
   "source": [
    "df2 = df\n",
    "df2 = df2[df2['MSISDN/Number'].notna()]\n",
    "df2['MSISDN/Number'] = df2['MSISDN/Number'].apply(np.int64)\n",
    "seSDown = df2.groupby('MSISDN/Number')['Total DL (Bytes)'].agg('sum').sort_values(ascending=False)[1:]\n",
    "dfDown = pd.DataFrame({'MSISDN/Number': seSDown.index, 'Total Download Data (Bytes)': seSDown.values})\n",
    "dfDown\n"
   ]
  },
  {
   "cell_type": "markdown",
   "metadata": {},
   "source": [
    "### Total Upload data in Bytes "
   ]
  },
  {
   "cell_type": "code",
   "execution_count": 10,
   "metadata": {},
   "outputs": [
    {
     "data": {
      "text/html": [
       "<div>\n",
       "<style scoped>\n",
       "    .dataframe tbody tr th:only-of-type {\n",
       "        vertical-align: middle;\n",
       "    }\n",
       "\n",
       "    .dataframe tbody tr th {\n",
       "        vertical-align: top;\n",
       "    }\n",
       "\n",
       "    .dataframe thead th {\n",
       "        text-align: right;\n",
       "    }\n",
       "</style>\n",
       "<table border=\"1\" class=\"dataframe\">\n",
       "  <thead>\n",
       "    <tr style=\"text-align: right;\">\n",
       "      <th></th>\n",
       "      <th>MSISDN/Number</th>\n",
       "      <th>Total Uploaded Data (Bytes)</th>\n",
       "    </tr>\n",
       "  </thead>\n",
       "  <tbody>\n",
       "    <tr>\n",
       "      <th>0</th>\n",
       "      <td>33625779332</td>\n",
       "      <td>729577380.0</td>\n",
       "    </tr>\n",
       "    <tr>\n",
       "      <th>1</th>\n",
       "      <td>33760536639</td>\n",
       "      <td>703478581.0</td>\n",
       "    </tr>\n",
       "    <tr>\n",
       "      <th>2</th>\n",
       "      <td>33614892860</td>\n",
       "      <td>689483001.0</td>\n",
       "    </tr>\n",
       "    <tr>\n",
       "      <th>3</th>\n",
       "      <td>33626320676</td>\n",
       "      <td>669650721.0</td>\n",
       "    </tr>\n",
       "    <tr>\n",
       "      <th>4</th>\n",
       "      <td>33659725664</td>\n",
       "      <td>624260321.0</td>\n",
       "    </tr>\n",
       "    <tr>\n",
       "      <th>...</th>\n",
       "      <td>...</td>\n",
       "      <td>...</td>\n",
       "    </tr>\n",
       "    <tr>\n",
       "      <th>106851</th>\n",
       "      <td>33661893084</td>\n",
       "      <td>5921981.0</td>\n",
       "    </tr>\n",
       "    <tr>\n",
       "      <th>106852</th>\n",
       "      <td>33669429697</td>\n",
       "      <td>5461287.0</td>\n",
       "    </tr>\n",
       "    <tr>\n",
       "      <th>106853</th>\n",
       "      <td>33659052775</td>\n",
       "      <td>5276726.0</td>\n",
       "    </tr>\n",
       "    <tr>\n",
       "      <th>106854</th>\n",
       "      <td>33664682771</td>\n",
       "      <td>4338786.0</td>\n",
       "    </tr>\n",
       "    <tr>\n",
       "      <th>106855</th>\n",
       "      <td>33698150805</td>\n",
       "      <td>2866892.0</td>\n",
       "    </tr>\n",
       "  </tbody>\n",
       "</table>\n",
       "<p>106856 rows × 2 columns</p>\n",
       "</div>"
      ],
      "text/plain": [
       "        MSISDN/Number  Total Uploaded Data (Bytes)\n",
       "0         33625779332                  729577380.0\n",
       "1         33760536639                  703478581.0\n",
       "2         33614892860                  689483001.0\n",
       "3         33626320676                  669650721.0\n",
       "4         33659725664                  624260321.0\n",
       "...               ...                          ...\n",
       "106851    33661893084                    5921981.0\n",
       "106852    33669429697                    5461287.0\n",
       "106853    33659052775                    5276726.0\n",
       "106854    33664682771                    4338786.0\n",
       "106855    33698150805                    2866892.0\n",
       "\n",
       "[106856 rows x 2 columns]"
      ]
     },
     "execution_count": 10,
     "metadata": {},
     "output_type": "execute_result"
    }
   ],
   "source": [
    "seSUp = df2.groupby('MSISDN/Number')['Total UL (Bytes)'].agg('sum').sort_values(ascending=False)\n",
    "dfUp = pd.DataFrame({'MSISDN/Number': seSUp.index, 'Total Uploaded Data (Bytes)': seSUp.values})\n",
    "dfUp"
   ]
  },
  {
   "cell_type": "markdown",
   "metadata": {},
   "source": [
    "### Total Data volume for the  for each application"
   ]
  },
  {
   "cell_type": "code",
   "execution_count": 11,
   "metadata": {},
   "outputs": [],
   "source": [
    "dfApps = df2.loc[:, 'Social Media DL (Bytes)': 'Other UL (Bytes)']\n",
    "dfApps = dfApps.apply(lambda x : x.fillna(x.mean()), axis=0)\n",
    "\n",
    "apps = [\"Social Media\", \"Google\", \"Email\", \"Youtube\", \"Netflix\", \"Gaming\", \"Other\"]\n",
    "\n",
    "for item in apps:\n",
    "    down = item + \" DL (Bytes)\"\n",
    "    up = item + \" UL (Bytes)\"\n",
    "    total = \"Total Data \" + item\n",
    "    dfApps[total] = dfApps[down] + dfApps[up]\n",
    "\n",
    "dfAppsTotal = dfApps.loc[:, 'Total Data Social Media': 'Total Data Other']\n",
    "dfAppsTotal['MSISDN/Number'] = df2[\"MSISDN/Number\"]\n",
    "\n",
    "def aggTotalDataEach(dataf, col):\n",
    "    s = dataf.groupby('MSISDN/Number')[col].agg('sum').sort_values(ascending=False)\n",
    "    df = pd.DataFrame({'MSISDN/Number': s.index, col: s.values})\n",
    "    return df\n",
    "\n",
    "dfSm = aggTotalDataEach(dfAppsTotal, 'Total Data Social Media')\n",
    "dfGo = aggTotalDataEach(dfAppsTotal, 'Total Data Google')\n",
    "dfEm = aggTotalDataEach(dfAppsTotal, 'Total Data Email')\n",
    "dfYo = aggTotalDataEach(dfAppsTotal, 'Total Data Youtube')\n",
    "dfNe = aggTotalDataEach(dfAppsTotal, 'Total Data Netflix')\n",
    "dfGa = aggTotalDataEach(dfAppsTotal, 'Total Data Gaming')\n",
    "dfOt = aggTotalDataEach(dfAppsTotal, 'Total Data Other')"
   ]
  },
  {
   "cell_type": "markdown",
   "metadata": {},
   "source": [
    "#### Total Data Volume Social Media"
   ]
  },
  {
   "cell_type": "code",
   "execution_count": 12,
   "metadata": {},
   "outputs": [
    {
     "data": {
      "text/html": [
       "<div>\n",
       "<style scoped>\n",
       "    .dataframe tbody tr th:only-of-type {\n",
       "        vertical-align: middle;\n",
       "    }\n",
       "\n",
       "    .dataframe tbody tr th {\n",
       "        vertical-align: top;\n",
       "    }\n",
       "\n",
       "    .dataframe thead th {\n",
       "        text-align: right;\n",
       "    }\n",
       "</style>\n",
       "<table border=\"1\" class=\"dataframe\">\n",
       "  <thead>\n",
       "    <tr style=\"text-align: right;\">\n",
       "      <th></th>\n",
       "      <th>MSISDN/Number</th>\n",
       "      <th>Total Data Social Media</th>\n",
       "    </tr>\n",
       "  </thead>\n",
       "  <tbody>\n",
       "    <tr>\n",
       "      <th>0</th>\n",
       "      <td>33626320676</td>\n",
       "      <td>43374779.0</td>\n",
       "    </tr>\n",
       "    <tr>\n",
       "      <th>1</th>\n",
       "      <td>33760536639</td>\n",
       "      <td>39783189.0</td>\n",
       "    </tr>\n",
       "    <tr>\n",
       "      <th>2</th>\n",
       "      <td>33659725664</td>\n",
       "      <td>35412358.0</td>\n",
       "    </tr>\n",
       "    <tr>\n",
       "      <th>3</th>\n",
       "      <td>33614892860</td>\n",
       "      <td>28294544.0</td>\n",
       "    </tr>\n",
       "    <tr>\n",
       "      <th>4</th>\n",
       "      <td>33625779332</td>\n",
       "      <td>27135500.0</td>\n",
       "    </tr>\n",
       "    <tr>\n",
       "      <th>...</th>\n",
       "      <td>...</td>\n",
       "      <td>...</td>\n",
       "    </tr>\n",
       "    <tr>\n",
       "      <th>106851</th>\n",
       "      <td>33762201799</td>\n",
       "      <td>7503.0</td>\n",
       "    </tr>\n",
       "    <tr>\n",
       "      <th>106852</th>\n",
       "      <td>33760490061</td>\n",
       "      <td>7382.0</td>\n",
       "    </tr>\n",
       "    <tr>\n",
       "      <th>106853</th>\n",
       "      <td>33668248171</td>\n",
       "      <td>4469.0</td>\n",
       "    </tr>\n",
       "    <tr>\n",
       "      <th>106854</th>\n",
       "      <td>33659843938</td>\n",
       "      <td>2003.0</td>\n",
       "    </tr>\n",
       "    <tr>\n",
       "      <th>106855</th>\n",
       "      <td>33661190767</td>\n",
       "      <td>1563.0</td>\n",
       "    </tr>\n",
       "  </tbody>\n",
       "</table>\n",
       "<p>106856 rows × 2 columns</p>\n",
       "</div>"
      ],
      "text/plain": [
       "        MSISDN/Number  Total Data Social Media\n",
       "0         33626320676               43374779.0\n",
       "1         33760536639               39783189.0\n",
       "2         33659725664               35412358.0\n",
       "3         33614892860               28294544.0\n",
       "4         33625779332               27135500.0\n",
       "...               ...                      ...\n",
       "106851    33762201799                   7503.0\n",
       "106852    33760490061                   7382.0\n",
       "106853    33668248171                   4469.0\n",
       "106854    33659843938                   2003.0\n",
       "106855    33661190767                   1563.0\n",
       "\n",
       "[106856 rows x 2 columns]"
      ]
     },
     "execution_count": 12,
     "metadata": {},
     "output_type": "execute_result"
    }
   ],
   "source": [
    "dfSm"
   ]
  },
  {
   "cell_type": "markdown",
   "metadata": {},
   "source": [
    "#### Total Data Volume Google"
   ]
  },
  {
   "cell_type": "code",
   "execution_count": 13,
   "metadata": {},
   "outputs": [
    {
     "data": {
      "text/html": [
       "<div>\n",
       "<style scoped>\n",
       "    .dataframe tbody tr th:only-of-type {\n",
       "        vertical-align: middle;\n",
       "    }\n",
       "\n",
       "    .dataframe tbody tr th {\n",
       "        vertical-align: top;\n",
       "    }\n",
       "\n",
       "    .dataframe thead th {\n",
       "        text-align: right;\n",
       "    }\n",
       "</style>\n",
       "<table border=\"1\" class=\"dataframe\">\n",
       "  <thead>\n",
       "    <tr style=\"text-align: right;\">\n",
       "      <th></th>\n",
       "      <th>MSISDN/Number</th>\n",
       "      <th>Total Data Google</th>\n",
       "    </tr>\n",
       "  </thead>\n",
       "  <tbody>\n",
       "    <tr>\n",
       "      <th>0</th>\n",
       "      <td>33626320676</td>\n",
       "      <td>152191852.0</td>\n",
       "    </tr>\n",
       "    <tr>\n",
       "      <th>1</th>\n",
       "      <td>33625779332</td>\n",
       "      <td>142307915.0</td>\n",
       "    </tr>\n",
       "    <tr>\n",
       "      <th>2</th>\n",
       "      <td>33614892860</td>\n",
       "      <td>127973787.0</td>\n",
       "    </tr>\n",
       "    <tr>\n",
       "      <th>3</th>\n",
       "      <td>33760536639</td>\n",
       "      <td>123223099.0</td>\n",
       "    </tr>\n",
       "    <tr>\n",
       "      <th>4</th>\n",
       "      <td>33659725664</td>\n",
       "      <td>116516345.0</td>\n",
       "    </tr>\n",
       "    <tr>\n",
       "      <th>...</th>\n",
       "      <td>...</td>\n",
       "      <td>...</td>\n",
       "    </tr>\n",
       "    <tr>\n",
       "      <th>106851</th>\n",
       "      <td>33761321476</td>\n",
       "      <td>112674.0</td>\n",
       "    </tr>\n",
       "    <tr>\n",
       "      <th>106852</th>\n",
       "      <td>33669526270</td>\n",
       "      <td>112590.0</td>\n",
       "    </tr>\n",
       "    <tr>\n",
       "      <th>106853</th>\n",
       "      <td>33674088978</td>\n",
       "      <td>99826.0</td>\n",
       "    </tr>\n",
       "    <tr>\n",
       "      <th>106854</th>\n",
       "      <td>33698001031</td>\n",
       "      <td>89856.0</td>\n",
       "    </tr>\n",
       "    <tr>\n",
       "      <th>106855</th>\n",
       "      <td>33687267454</td>\n",
       "      <td>40330.0</td>\n",
       "    </tr>\n",
       "  </tbody>\n",
       "</table>\n",
       "<p>106856 rows × 2 columns</p>\n",
       "</div>"
      ],
      "text/plain": [
       "        MSISDN/Number  Total Data Google\n",
       "0         33626320676        152191852.0\n",
       "1         33625779332        142307915.0\n",
       "2         33614892860        127973787.0\n",
       "3         33760536639        123223099.0\n",
       "4         33659725664        116516345.0\n",
       "...               ...                ...\n",
       "106851    33761321476           112674.0\n",
       "106852    33669526270           112590.0\n",
       "106853    33674088978            99826.0\n",
       "106854    33698001031            89856.0\n",
       "106855    33687267454            40330.0\n",
       "\n",
       "[106856 rows x 2 columns]"
      ]
     },
     "execution_count": 13,
     "metadata": {},
     "output_type": "execute_result"
    }
   ],
   "source": [
    "dfGo"
   ]
  },
  {
   "cell_type": "markdown",
   "metadata": {},
   "source": [
    "#### Total Data Volume Email"
   ]
  },
  {
   "cell_type": "code",
   "execution_count": 14,
   "metadata": {},
   "outputs": [
    {
     "data": {
      "text/html": [
       "<div>\n",
       "<style scoped>\n",
       "    .dataframe tbody tr th:only-of-type {\n",
       "        vertical-align: middle;\n",
       "    }\n",
       "\n",
       "    .dataframe tbody tr th {\n",
       "        vertical-align: top;\n",
       "    }\n",
       "\n",
       "    .dataframe thead th {\n",
       "        text-align: right;\n",
       "    }\n",
       "</style>\n",
       "<table border=\"1\" class=\"dataframe\">\n",
       "  <thead>\n",
       "    <tr style=\"text-align: right;\">\n",
       "      <th></th>\n",
       "      <th>MSISDN/Number</th>\n",
       "      <th>Total Data Email</th>\n",
       "    </tr>\n",
       "  </thead>\n",
       "  <tbody>\n",
       "    <tr>\n",
       "      <th>0</th>\n",
       "      <td>33626320676</td>\n",
       "      <td>42418782.0</td>\n",
       "    </tr>\n",
       "    <tr>\n",
       "      <th>1</th>\n",
       "      <td>33614892860</td>\n",
       "      <td>40788634.0</td>\n",
       "    </tr>\n",
       "    <tr>\n",
       "      <th>2</th>\n",
       "      <td>33625779332</td>\n",
       "      <td>40633966.0</td>\n",
       "    </tr>\n",
       "    <tr>\n",
       "      <th>3</th>\n",
       "      <td>33786323068</td>\n",
       "      <td>36310123.0</td>\n",
       "    </tr>\n",
       "    <tr>\n",
       "      <th>4</th>\n",
       "      <td>33659725664</td>\n",
       "      <td>35999792.0</td>\n",
       "    </tr>\n",
       "    <tr>\n",
       "      <th>...</th>\n",
       "      <td>...</td>\n",
       "      <td>...</td>\n",
       "    </tr>\n",
       "    <tr>\n",
       "      <th>106851</th>\n",
       "      <td>33664898641</td>\n",
       "      <td>29451.0</td>\n",
       "    </tr>\n",
       "    <tr>\n",
       "      <th>106852</th>\n",
       "      <td>33675896712</td>\n",
       "      <td>27503.0</td>\n",
       "    </tr>\n",
       "    <tr>\n",
       "      <th>106853</th>\n",
       "      <td>33644791426</td>\n",
       "      <td>26116.0</td>\n",
       "    </tr>\n",
       "    <tr>\n",
       "      <th>106854</th>\n",
       "      <td>33652039542</td>\n",
       "      <td>26087.0</td>\n",
       "    </tr>\n",
       "    <tr>\n",
       "      <th>106855</th>\n",
       "      <td>33651141682</td>\n",
       "      <td>18176.0</td>\n",
       "    </tr>\n",
       "  </tbody>\n",
       "</table>\n",
       "<p>106856 rows × 2 columns</p>\n",
       "</div>"
      ],
      "text/plain": [
       "        MSISDN/Number  Total Data Email\n",
       "0         33626320676        42418782.0\n",
       "1         33614892860        40788634.0\n",
       "2         33625779332        40633966.0\n",
       "3         33786323068        36310123.0\n",
       "4         33659725664        35999792.0\n",
       "...               ...               ...\n",
       "106851    33664898641           29451.0\n",
       "106852    33675896712           27503.0\n",
       "106853    33644791426           26116.0\n",
       "106854    33652039542           26087.0\n",
       "106855    33651141682           18176.0\n",
       "\n",
       "[106856 rows x 2 columns]"
      ]
     },
     "execution_count": 14,
     "metadata": {},
     "output_type": "execute_result"
    }
   ],
   "source": [
    "dfEm"
   ]
  },
  {
   "cell_type": "markdown",
   "metadata": {},
   "source": [
    "#### Total Data Volume Yotube"
   ]
  },
  {
   "cell_type": "code",
   "execution_count": 15,
   "metadata": {},
   "outputs": [
    {
     "data": {
      "text/html": [
       "<div>\n",
       "<style scoped>\n",
       "    .dataframe tbody tr th:only-of-type {\n",
       "        vertical-align: middle;\n",
       "    }\n",
       "\n",
       "    .dataframe tbody tr th {\n",
       "        vertical-align: top;\n",
       "    }\n",
       "\n",
       "    .dataframe thead th {\n",
       "        text-align: right;\n",
       "    }\n",
       "</style>\n",
       "<table border=\"1\" class=\"dataframe\">\n",
       "  <thead>\n",
       "    <tr style=\"text-align: right;\">\n",
       "      <th></th>\n",
       "      <th>MSISDN/Number</th>\n",
       "      <th>Total Data Youtube</th>\n",
       "    </tr>\n",
       "  </thead>\n",
       "  <tbody>\n",
       "    <tr>\n",
       "      <th>0</th>\n",
       "      <td>33625779332</td>\n",
       "      <td>452958769.0</td>\n",
       "    </tr>\n",
       "    <tr>\n",
       "      <th>1</th>\n",
       "      <td>33760536639</td>\n",
       "      <td>396289198.0</td>\n",
       "    </tr>\n",
       "    <tr>\n",
       "      <th>2</th>\n",
       "      <td>33614892860</td>\n",
       "      <td>394370218.0</td>\n",
       "    </tr>\n",
       "    <tr>\n",
       "      <th>3</th>\n",
       "      <td>33626320676</td>\n",
       "      <td>374483047.0</td>\n",
       "    </tr>\n",
       "    <tr>\n",
       "      <th>4</th>\n",
       "      <td>33675877202</td>\n",
       "      <td>317410572.0</td>\n",
       "    </tr>\n",
       "    <tr>\n",
       "      <th>...</th>\n",
       "      <td>...</td>\n",
       "      <td>...</td>\n",
       "    </tr>\n",
       "    <tr>\n",
       "      <th>106851</th>\n",
       "      <td>33699704781</td>\n",
       "      <td>239357.0</td>\n",
       "    </tr>\n",
       "    <tr>\n",
       "      <th>106852</th>\n",
       "      <td>33768483944</td>\n",
       "      <td>226562.0</td>\n",
       "    </tr>\n",
       "    <tr>\n",
       "      <th>106853</th>\n",
       "      <td>33648091896</td>\n",
       "      <td>207955.0</td>\n",
       "    </tr>\n",
       "    <tr>\n",
       "      <th>106854</th>\n",
       "      <td>33669488505</td>\n",
       "      <td>157446.0</td>\n",
       "    </tr>\n",
       "    <tr>\n",
       "      <th>106855</th>\n",
       "      <td>33658174677</td>\n",
       "      <td>78903.0</td>\n",
       "    </tr>\n",
       "  </tbody>\n",
       "</table>\n",
       "<p>106856 rows × 2 columns</p>\n",
       "</div>"
      ],
      "text/plain": [
       "        MSISDN/Number  Total Data Youtube\n",
       "0         33625779332         452958769.0\n",
       "1         33760536639         396289198.0\n",
       "2         33614892860         394370218.0\n",
       "3         33626320676         374483047.0\n",
       "4         33675877202         317410572.0\n",
       "...               ...                 ...\n",
       "106851    33699704781            239357.0\n",
       "106852    33768483944            226562.0\n",
       "106853    33648091896            207955.0\n",
       "106854    33669488505            157446.0\n",
       "106855    33658174677             78903.0\n",
       "\n",
       "[106856 rows x 2 columns]"
      ]
     },
     "execution_count": 15,
     "metadata": {},
     "output_type": "execute_result"
    }
   ],
   "source": [
    "dfYo"
   ]
  },
  {
   "cell_type": "markdown",
   "metadata": {},
   "source": [
    "#### Total Data Volume Netflix"
   ]
  },
  {
   "cell_type": "code",
   "execution_count": 16,
   "metadata": {},
   "outputs": [
    {
     "data": {
      "text/html": [
       "<div>\n",
       "<style scoped>\n",
       "    .dataframe tbody tr th:only-of-type {\n",
       "        vertical-align: middle;\n",
       "    }\n",
       "\n",
       "    .dataframe tbody tr th {\n",
       "        vertical-align: top;\n",
       "    }\n",
       "\n",
       "    .dataframe thead th {\n",
       "        text-align: right;\n",
       "    }\n",
       "</style>\n",
       "<table border=\"1\" class=\"dataframe\">\n",
       "  <thead>\n",
       "    <tr style=\"text-align: right;\">\n",
       "      <th></th>\n",
       "      <th>MSISDN/Number</th>\n",
       "      <th>Total Data Netflix</th>\n",
       "    </tr>\n",
       "  </thead>\n",
       "  <tbody>\n",
       "    <tr>\n",
       "      <th>0</th>\n",
       "      <td>33659725664</td>\n",
       "      <td>399519079.0</td>\n",
       "    </tr>\n",
       "    <tr>\n",
       "      <th>1</th>\n",
       "      <td>33614892860</td>\n",
       "      <td>361401046.0</td>\n",
       "    </tr>\n",
       "    <tr>\n",
       "      <th>2</th>\n",
       "      <td>33625779332</td>\n",
       "      <td>356980607.0</td>\n",
       "    </tr>\n",
       "    <tr>\n",
       "      <th>3</th>\n",
       "      <td>33760536639</td>\n",
       "      <td>334643269.0</td>\n",
       "    </tr>\n",
       "    <tr>\n",
       "      <th>4</th>\n",
       "      <td>33626320676</td>\n",
       "      <td>328725740.0</td>\n",
       "    </tr>\n",
       "    <tr>\n",
       "      <th>...</th>\n",
       "      <td>...</td>\n",
       "      <td>...</td>\n",
       "    </tr>\n",
       "    <tr>\n",
       "      <th>106851</th>\n",
       "      <td>33698486515</td>\n",
       "      <td>284133.0</td>\n",
       "    </tr>\n",
       "    <tr>\n",
       "      <th>106852</th>\n",
       "      <td>33698533842</td>\n",
       "      <td>260252.0</td>\n",
       "    </tr>\n",
       "    <tr>\n",
       "      <th>106853</th>\n",
       "      <td>33667489726</td>\n",
       "      <td>248628.0</td>\n",
       "    </tr>\n",
       "    <tr>\n",
       "      <th>106854</th>\n",
       "      <td>33615884686</td>\n",
       "      <td>201564.0</td>\n",
       "    </tr>\n",
       "    <tr>\n",
       "      <th>106855</th>\n",
       "      <td>33677590604</td>\n",
       "      <td>184569.0</td>\n",
       "    </tr>\n",
       "  </tbody>\n",
       "</table>\n",
       "<p>106856 rows × 2 columns</p>\n",
       "</div>"
      ],
      "text/plain": [
       "        MSISDN/Number  Total Data Netflix\n",
       "0         33659725664         399519079.0\n",
       "1         33614892860         361401046.0\n",
       "2         33625779332         356980607.0\n",
       "3         33760536639         334643269.0\n",
       "4         33626320676         328725740.0\n",
       "...               ...                 ...\n",
       "106851    33698486515            284133.0\n",
       "106852    33698533842            260252.0\n",
       "106853    33667489726            248628.0\n",
       "106854    33615884686            201564.0\n",
       "106855    33677590604            184569.0\n",
       "\n",
       "[106856 rows x 2 columns]"
      ]
     },
     "execution_count": 16,
     "metadata": {},
     "output_type": "execute_result"
    }
   ],
   "source": [
    "dfNe"
   ]
  },
  {
   "cell_type": "markdown",
   "metadata": {},
   "source": [
    "#### Total Data Volume Gaming"
   ]
  },
  {
   "cell_type": "code",
   "execution_count": 17,
   "metadata": {},
   "outputs": [
    {
     "data": {
      "text/html": [
       "<div>\n",
       "<style scoped>\n",
       "    .dataframe tbody tr th:only-of-type {\n",
       "        vertical-align: middle;\n",
       "    }\n",
       "\n",
       "    .dataframe tbody tr th {\n",
       "        vertical-align: top;\n",
       "    }\n",
       "\n",
       "    .dataframe thead th {\n",
       "        text-align: right;\n",
       "    }\n",
       "</style>\n",
       "<table border=\"1\" class=\"dataframe\">\n",
       "  <thead>\n",
       "    <tr style=\"text-align: right;\">\n",
       "      <th></th>\n",
       "      <th>MSISDN/Number</th>\n",
       "      <th>Total Data Gaming</th>\n",
       "    </tr>\n",
       "  </thead>\n",
       "  <tbody>\n",
       "    <tr>\n",
       "      <th>0</th>\n",
       "      <td>33614892860</td>\n",
       "      <td>7749432234.0</td>\n",
       "    </tr>\n",
       "    <tr>\n",
       "      <th>1</th>\n",
       "      <td>33760536639</td>\n",
       "      <td>7461045228.0</td>\n",
       "    </tr>\n",
       "    <tr>\n",
       "      <th>2</th>\n",
       "      <td>33625779332</td>\n",
       "      <td>7326673487.0</td>\n",
       "    </tr>\n",
       "    <tr>\n",
       "      <th>3</th>\n",
       "      <td>33675877202</td>\n",
       "      <td>6970567597.0</td>\n",
       "    </tr>\n",
       "    <tr>\n",
       "      <th>4</th>\n",
       "      <td>33626320676</td>\n",
       "      <td>6887572116.0</td>\n",
       "    </tr>\n",
       "    <tr>\n",
       "      <th>...</th>\n",
       "      <td>...</td>\n",
       "      <td>...</td>\n",
       "    </tr>\n",
       "    <tr>\n",
       "      <th>106851</th>\n",
       "      <td>33698056654</td>\n",
       "      <td>1180903.0</td>\n",
       "    </tr>\n",
       "    <tr>\n",
       "      <th>106852</th>\n",
       "      <td>33698080559</td>\n",
       "      <td>939116.0</td>\n",
       "    </tr>\n",
       "    <tr>\n",
       "      <th>106853</th>\n",
       "      <td>33769596346</td>\n",
       "      <td>690038.0</td>\n",
       "    </tr>\n",
       "    <tr>\n",
       "      <th>106854</th>\n",
       "      <td>33682310624</td>\n",
       "      <td>595375.0</td>\n",
       "    </tr>\n",
       "    <tr>\n",
       "      <th>106855</th>\n",
       "      <td>33669357152</td>\n",
       "      <td>306358.0</td>\n",
       "    </tr>\n",
       "  </tbody>\n",
       "</table>\n",
       "<p>106856 rows × 2 columns</p>\n",
       "</div>"
      ],
      "text/plain": [
       "        MSISDN/Number  Total Data Gaming\n",
       "0         33614892860       7749432234.0\n",
       "1         33760536639       7461045228.0\n",
       "2         33625779332       7326673487.0\n",
       "3         33675877202       6970567597.0\n",
       "4         33626320676       6887572116.0\n",
       "...               ...                ...\n",
       "106851    33698056654          1180903.0\n",
       "106852    33698080559           939116.0\n",
       "106853    33769596346           690038.0\n",
       "106854    33682310624           595375.0\n",
       "106855    33669357152           306358.0\n",
       "\n",
       "[106856 rows x 2 columns]"
      ]
     },
     "execution_count": 17,
     "metadata": {},
     "output_type": "execute_result"
    }
   ],
   "source": [
    "dfGa"
   ]
  },
  {
   "cell_type": "markdown",
   "metadata": {},
   "source": [
    "#### Total Data Volume Other"
   ]
  },
  {
   "cell_type": "code",
   "execution_count": 18,
   "metadata": {},
   "outputs": [
    {
     "data": {
      "text/html": [
       "<div>\n",
       "<style scoped>\n",
       "    .dataframe tbody tr th:only-of-type {\n",
       "        vertical-align: middle;\n",
       "    }\n",
       "\n",
       "    .dataframe tbody tr th {\n",
       "        vertical-align: top;\n",
       "    }\n",
       "\n",
       "    .dataframe thead th {\n",
       "        text-align: right;\n",
       "    }\n",
       "</style>\n",
       "<table border=\"1\" class=\"dataframe\">\n",
       "  <thead>\n",
       "    <tr style=\"text-align: right;\">\n",
       "      <th></th>\n",
       "      <th>MSISDN/Number</th>\n",
       "      <th>Total Data Other</th>\n",
       "    </tr>\n",
       "  </thead>\n",
       "  <tbody>\n",
       "    <tr>\n",
       "      <th>0</th>\n",
       "      <td>33626320676</td>\n",
       "      <td>8167877776.0</td>\n",
       "    </tr>\n",
       "    <tr>\n",
       "      <th>1</th>\n",
       "      <td>33614892860</td>\n",
       "      <td>7639263572.0</td>\n",
       "    </tr>\n",
       "    <tr>\n",
       "      <th>2</th>\n",
       "      <td>33675877202</td>\n",
       "      <td>6798515150.0</td>\n",
       "    </tr>\n",
       "    <tr>\n",
       "      <th>3</th>\n",
       "      <td>33625779332</td>\n",
       "      <td>6354583086.0</td>\n",
       "    </tr>\n",
       "    <tr>\n",
       "      <th>4</th>\n",
       "      <td>33603127838</td>\n",
       "      <td>6326670874.0</td>\n",
       "    </tr>\n",
       "    <tr>\n",
       "      <th>...</th>\n",
       "      <td>...</td>\n",
       "      <td>...</td>\n",
       "    </tr>\n",
       "    <tr>\n",
       "      <th>106851</th>\n",
       "      <td>33663539547</td>\n",
       "      <td>1130046.0</td>\n",
       "    </tr>\n",
       "    <tr>\n",
       "      <th>106852</th>\n",
       "      <td>33626033383</td>\n",
       "      <td>1127863.0</td>\n",
       "    </tr>\n",
       "    <tr>\n",
       "      <th>106853</th>\n",
       "      <td>33761590308</td>\n",
       "      <td>972727.0</td>\n",
       "    </tr>\n",
       "    <tr>\n",
       "      <th>106854</th>\n",
       "      <td>33633594222</td>\n",
       "      <td>511769.0</td>\n",
       "    </tr>\n",
       "    <tr>\n",
       "      <th>106855</th>\n",
       "      <td>33761702077</td>\n",
       "      <td>149045.0</td>\n",
       "    </tr>\n",
       "  </tbody>\n",
       "</table>\n",
       "<p>106856 rows × 2 columns</p>\n",
       "</div>"
      ],
      "text/plain": [
       "        MSISDN/Number  Total Data Other\n",
       "0         33626320676      8167877776.0\n",
       "1         33614892860      7639263572.0\n",
       "2         33675877202      6798515150.0\n",
       "3         33625779332      6354583086.0\n",
       "4         33603127838      6326670874.0\n",
       "...               ...               ...\n",
       "106851    33663539547         1130046.0\n",
       "106852    33626033383         1127863.0\n",
       "106853    33761590308          972727.0\n",
       "106854    33633594222          511769.0\n",
       "106855    33761702077          149045.0\n",
       "\n",
       "[106856 rows x 2 columns]"
      ]
     },
     "execution_count": 18,
     "metadata": {},
     "output_type": "execute_result"
    }
   ],
   "source": [
    "dfOt"
   ]
  },
  {
   "cell_type": "markdown",
   "metadata": {},
   "source": [
    "# Interim Submission"
   ]
  },
  {
   "cell_type": "markdown",
   "metadata": {},
   "source": [
    "## univariate analysis"
   ]
  },
  {
   "cell_type": "markdown",
   "metadata": {},
   "source": [
    "### Total Number of xDR sessions"
   ]
  },
  {
   "cell_type": "code",
   "execution_count": 19,
   "metadata": {},
   "outputs": [
    {
     "data": {
      "text/html": [
       "<div>\n",
       "<style scoped>\n",
       "    .dataframe tbody tr th:only-of-type {\n",
       "        vertical-align: middle;\n",
       "    }\n",
       "\n",
       "    .dataframe tbody tr th {\n",
       "        vertical-align: top;\n",
       "    }\n",
       "\n",
       "    .dataframe thead th {\n",
       "        text-align: right;\n",
       "    }\n",
       "</style>\n",
       "<table border=\"1\" class=\"dataframe\">\n",
       "  <thead>\n",
       "    <tr style=\"text-align: right;\">\n",
       "      <th></th>\n",
       "      <th>Total Number of xDR sessions</th>\n",
       "    </tr>\n",
       "  </thead>\n",
       "  <tbody>\n",
       "    <tr>\n",
       "      <th>count</th>\n",
       "      <td>134708.000000000</td>\n",
       "    </tr>\n",
       "    <tr>\n",
       "      <th>mean</th>\n",
       "      <td>1.106170383</td>\n",
       "    </tr>\n",
       "    <tr>\n",
       "      <th>std</th>\n",
       "      <td>0.385198611</td>\n",
       "    </tr>\n",
       "    <tr>\n",
       "      <th>min</th>\n",
       "      <td>1.000000000</td>\n",
       "    </tr>\n",
       "    <tr>\n",
       "      <th>25%</th>\n",
       "      <td>1.000000000</td>\n",
       "    </tr>\n",
       "    <tr>\n",
       "      <th>50%</th>\n",
       "      <td>1.000000000</td>\n",
       "    </tr>\n",
       "    <tr>\n",
       "      <th>75%</th>\n",
       "      <td>1.000000000</td>\n",
       "    </tr>\n",
       "    <tr>\n",
       "      <th>max</th>\n",
       "      <td>16.000000000</td>\n",
       "    </tr>\n",
       "  </tbody>\n",
       "</table>\n",
       "</div>"
      ],
      "text/plain": [
       "       Total Number of xDR sessions\n",
       "count              134708.000000000\n",
       "mean                    1.106170383\n",
       "std                     0.385198611\n",
       "min                     1.000000000\n",
       "25%                     1.000000000\n",
       "50%                     1.000000000\n",
       "75%                     1.000000000\n",
       "max                    16.000000000"
      ]
     },
     "execution_count": 19,
     "metadata": {},
     "output_type": "execute_result"
    }
   ],
   "source": [
    "dfTotalXdr.describe()"
   ]
  },
  {
   "cell_type": "markdown",
   "metadata": {},
   "source": [
    "###  \tTotal Duration (ms)"
   ]
  },
  {
   "cell_type": "code",
   "execution_count": 20,
   "metadata": {},
   "outputs": [
    {
     "data": {
      "text/html": [
       "<div>\n",
       "<style scoped>\n",
       "    .dataframe tbody tr th:only-of-type {\n",
       "        vertical-align: middle;\n",
       "    }\n",
       "\n",
       "    .dataframe tbody tr th {\n",
       "        vertical-align: top;\n",
       "    }\n",
       "\n",
       "    .dataframe thead th {\n",
       "        text-align: right;\n",
       "    }\n",
       "</style>\n",
       "<table border=\"1\" class=\"dataframe\">\n",
       "  <thead>\n",
       "    <tr style=\"text-align: right;\">\n",
       "      <th></th>\n",
       "      <th>Total Duration (ms)</th>\n",
       "    </tr>\n",
       "  </thead>\n",
       "  <tbody>\n",
       "    <tr>\n",
       "      <th>count</th>\n",
       "      <td>1.347080000e+05</td>\n",
       "    </tr>\n",
       "    <tr>\n",
       "      <th>mean</th>\n",
       "      <td>1.161104899e+05</td>\n",
       "    </tr>\n",
       "    <tr>\n",
       "      <th>std</th>\n",
       "      <td>9.982828103e+04</td>\n",
       "    </tr>\n",
       "    <tr>\n",
       "      <th>min</th>\n",
       "      <td>7.142000000e+03</td>\n",
       "    </tr>\n",
       "    <tr>\n",
       "      <th>25%</th>\n",
       "      <td>6.008050000e+04</td>\n",
       "    </tr>\n",
       "    <tr>\n",
       "      <th>50%</th>\n",
       "      <td>8.640000000e+04</td>\n",
       "    </tr>\n",
       "    <tr>\n",
       "      <th>75%</th>\n",
       "      <td>1.530890000e+05</td>\n",
       "    </tr>\n",
       "    <tr>\n",
       "      <th>max</th>\n",
       "      <td>5.659733000e+06</td>\n",
       "    </tr>\n",
       "  </tbody>\n",
       "</table>\n",
       "</div>"
      ],
      "text/plain": [
       "       Total Duration (ms)\n",
       "count      1.347080000e+05\n",
       "mean       1.161104899e+05\n",
       "std        9.982828103e+04\n",
       "min        7.142000000e+03\n",
       "25%        6.008050000e+04\n",
       "50%        8.640000000e+04\n",
       "75%        1.530890000e+05\n",
       "max        5.659733000e+06"
      ]
     },
     "execution_count": 20,
     "metadata": {},
     "output_type": "execute_result"
    }
   ],
   "source": [
    "dfDur.describe()"
   ]
  },
  {
   "cell_type": "markdown",
   "metadata": {},
   "source": [
    "### Total Download Data (Bytes)"
   ]
  },
  {
   "cell_type": "code",
   "execution_count": 21,
   "metadata": {},
   "outputs": [
    {
     "data": {
      "text/plain": [
       "count    1.068550000e+05\n",
       "mean     6.335822762e+08\n",
       "std      4.639867989e+08\n",
       "min      8.827082000e+06\n",
       "25%      3.148239395e+08\n",
       "50%      5.703641900e+08\n",
       "75%      8.073558785e+08\n",
       "max      7.811295382e+09\n",
       "Name: Total Download Data (Bytes), dtype: float64"
      ]
     },
     "execution_count": 21,
     "metadata": {},
     "output_type": "execute_result"
    }
   ],
   "source": [
    "dfDown[\"Total Download Data (Bytes)\"].describe()"
   ]
  },
  {
   "cell_type": "markdown",
   "metadata": {},
   "source": [
    "### Total Uploaded Data (Bytes)"
   ]
  },
  {
   "cell_type": "code",
   "execution_count": 22,
   "metadata": {},
   "outputs": [
    {
     "data": {
      "text/plain": [
       "count    1.068560000e+05\n",
       "mean     5.730942241e+07\n",
       "std      3.565764975e+07\n",
       "min      2.866892000e+06\n",
       "25%      3.639547475e+07\n",
       "50%      4.679386550e+07\n",
       "75%      6.573199300e+07\n",
       "max      7.295773800e+08\n",
       "Name: Total Uploaded Data (Bytes), dtype: float64"
      ]
     },
     "execution_count": 22,
     "metadata": {},
     "output_type": "execute_result"
    }
   ],
   "source": [
    "dfUp[\"Total Uploaded Data (Bytes)\"].describe()"
   ]
  },
  {
   "cell_type": "markdown",
   "metadata": {},
   "source": [
    "### Total Data Social Media"
   ]
  },
  {
   "cell_type": "code",
   "execution_count": 23,
   "metadata": {},
   "outputs": [
    {
     "data": {
      "text/plain": [
       "count    1.068560000e+05\n",
       "mean     2.547966816e+06\n",
       "std      1.908038042e+06\n",
       "min      1.563000000e+03\n",
       "25%      1.211281500e+06\n",
       "50%      2.303756000e+06\n",
       "75%      3.307509000e+06\n",
       "max      4.337477900e+07\n",
       "Name: Total Data Social Media, dtype: float64"
      ]
     },
     "execution_count": 23,
     "metadata": {},
     "output_type": "execute_result"
    }
   ],
   "source": [
    "dfSm[\"Total Data Social Media\"].describe()"
   ]
  },
  {
   "cell_type": "markdown",
   "metadata": {},
   "source": [
    "### Total Data Google"
   ]
  },
  {
   "cell_type": "code",
   "execution_count": 24,
   "metadata": {},
   "outputs": [
    {
     "data": {
      "text/plain": [
       "count    1.068560000e+05\n",
       "mean     1.088243442e+07\n",
       "std      7.544861437e+06\n",
       "min      4.033000000e+04\n",
       "25%      5.942636000e+06\n",
       "50%      9.586153000e+06\n",
       "75%      1.321473975e+07\n",
       "max      1.521918520e+08\n",
       "Name: Total Data Google, dtype: float64"
      ]
     },
     "execution_count": 24,
     "metadata": {},
     "output_type": "execute_result"
    }
   ],
   "source": [
    "dfGo['Total Data Google'].describe()"
   ]
  },
  {
   "cell_type": "markdown",
   "metadata": {},
   "source": [
    "### Total Data Email"
   ]
  },
  {
   "cell_type": "code",
   "execution_count": 25,
   "metadata": {},
   "outputs": [
    {
     "data": {
      "text/plain": [
       "count    1.068560000e+05\n",
       "mean     3.148795811e+06\n",
       "std      2.222400100e+06\n",
       "min      1.817600000e+04\n",
       "25%      1.674481000e+06\n",
       "50%      2.799824500e+06\n",
       "75%      3.847197500e+06\n",
       "max      4.241878200e+07\n",
       "Name: Total Data Email, dtype: float64"
      ]
     },
     "execution_count": 25,
     "metadata": {},
     "output_type": "execute_result"
    }
   ],
   "source": [
    "dfEm['Total Data Email'].describe()"
   ]
  },
  {
   "cell_type": "markdown",
   "metadata": {},
   "source": [
    "### Total Data Youtube"
   ]
  },
  {
   "cell_type": "code",
   "execution_count": 26,
   "metadata": {},
   "outputs": [
    {
     "data": {
      "text/plain": [
       "count    1.068560000e+05\n",
       "mean     3.155839928e+07\n",
       "std      2.129491768e+07\n",
       "min      7.890300000e+04\n",
       "25%      1.863108850e+07\n",
       "50%      2.680037600e+07\n",
       "75%      3.792797575e+07\n",
       "max      4.529587690e+08\n",
       "Name: Total Data Youtube, dtype: float64"
      ]
     },
     "execution_count": 26,
     "metadata": {},
     "output_type": "execute_result"
    }
   ],
   "source": [
    "dfYo['Total Data Youtube'].describe()"
   ]
  },
  {
   "cell_type": "markdown",
   "metadata": {},
   "source": [
    "### Total Data Netflix"
   ]
  },
  {
   "cell_type": "code",
   "execution_count": 27,
   "metadata": {},
   "outputs": [
    {
     "data": {
      "text/plain": [
       "count    1.068560000e+05\n",
       "mean     3.153833231e+07\n",
       "std      2.128955697e+07\n",
       "min      1.845690000e+05\n",
       "25%      1.855597275e+07\n",
       "50%      2.671888950e+07\n",
       "75%      3.797695700e+07\n",
       "max      3.995190790e+08\n",
       "Name: Total Data Netflix, dtype: float64"
      ]
     },
     "execution_count": 27,
     "metadata": {},
     "output_type": "execute_result"
    }
   ],
   "source": [
    "dfNe['Total Data Netflix'].describe()"
   ]
  },
  {
   "cell_type": "markdown",
   "metadata": {},
   "source": [
    "### Total Data Gaming"
   ]
  },
  {
   "cell_type": "code",
   "execution_count": 28,
   "metadata": {},
   "outputs": [
    {
     "data": {
      "text/plain": [
       "count    1.068560000e+05\n",
       "mean     5.997690107e+08\n",
       "std      4.491504624e+08\n",
       "min      3.063580000e+05\n",
       "25%      2.880631125e+08\n",
       "50%      5.423492065e+08\n",
       "75%      7.773041380e+08\n",
       "max      7.749432234e+09\n",
       "Name: Total Data Gaming, dtype: float64"
      ]
     },
     "execution_count": 28,
     "metadata": {},
     "output_type": "execute_result"
    }
   ],
   "source": [
    "dfGa['Total Data Gaming'].describe()"
   ]
  },
  {
   "cell_type": "markdown",
   "metadata": {},
   "source": [
    "### Total Data Other"
   ]
  },
  {
   "cell_type": "markdown",
   "metadata": {},
   "source": [
    "# Graphical Univariate & Bivariate  Analysis"
   ]
  },
  {
   "cell_type": "markdown",
   "metadata": {},
   "source": [
    "### Total Number of xDR sessions"
   ]
  },
  {
   "cell_type": "code",
   "execution_count": 29,
   "metadata": {},
   "outputs": [
    {
     "data": {
      "text/plain": [
       "array([[<matplotlib.axes._subplots.AxesSubplot object at 0x00000218124E3D68>]],\n",
       "      dtype=object)"
      ]
     },
     "execution_count": 29,
     "metadata": {},
     "output_type": "execute_result"
    },
    {
     "data": {
      "image/png": "[encoded data removed]",
      "text/plain": [
       "<Figure size 432x288 with 1 Axes>"
      ]
     },
     "metadata": {
      "needs_background": "light"
     },
     "output_type": "display_data"
    }
   ],
   "source": [
    "dfTotalXdr.hist(bins=50)"
   ]
  },
  {
   "cell_type": "code",
   "execution_count": 30,
   "metadata": {},
   "outputs": [
    {
     "data": {
      "text/plain": [
       "<matplotlib.axes._subplots.AxesSubplot at 0x21813e026d8>"
      ]
     },
     "execution_count": 30,
     "metadata": {},
     "output_type": "execute_result"
    },
    {
     "data": {
      "image/png": "[encoded data removed]",
      "text/plain": [
       "<Figure size 432x288 with 1 Axes>"
      ]
     },
     "metadata": {
      "needs_background": "light"
     },
     "output_type": "display_data"
    }
   ],
   "source": [
    "dfTotalXdr.boxplot()"
   ]
  },
  {
   "cell_type": "markdown",
   "metadata": {},
   "source": [
    "###  \tTotal Duration (ms)"
   ]
  },
  {
   "cell_type": "code",
   "execution_count": 31,
   "metadata": {},
   "outputs": [
    {
     "data": {
      "text/plain": [
       "array([[<matplotlib.axes._subplots.AxesSubplot object at 0x0000021810D73EF0>]],\n",
       "      dtype=object)"
      ]
     },
     "execution_count": 31,
     "metadata": {},
     "output_type": "execute_result"
    },
    {
     "data": {
      "image/png": "[encoded data removed]",
      "text/plain": [
       "<Figure size 432x288 with 1 Axes>"
      ]
     },
     "metadata": {
      "needs_background": "light"
     },
     "output_type": "display_data"
    }
   ],
   "source": [
    "dfDur.hist(bins=50)"
   ]
  },
  {
   "cell_type": "code",
   "execution_count": 32,
   "metadata": {},
   "outputs": [
    {
     "data": {
      "text/plain": [
       "<matplotlib.axes._subplots.AxesSubplot at 0x21815050b38>"
      ]
     },
     "execution_count": 32,
     "metadata": {},
     "output_type": "execute_result"
    },
    {
     "data": {
      "image/png": "[encoded data removed]",
      "text/plain": [
       "<Figure size 432x288 with 1 Axes>"
      ]
     },
     "metadata": {
      "needs_background": "light"
     },
     "output_type": "display_data"
    }
   ],
   "source": [
    "dfDur.boxplot()"
   ]
  },
  {
   "cell_type": "markdown",
   "metadata": {},
   "source": [
    "### Total Download Data (Bytes)"
   ]
  },
  {
   "cell_type": "code",
   "execution_count": 33,
   "metadata": {},
   "outputs": [
    {
     "data": {
      "text/plain": [
       "<matplotlib.axes._subplots.AxesSubplot at 0x21811935cc0>"
      ]
     },
     "execution_count": 33,
     "metadata": {},
     "output_type": "execute_result"
    },
    {
     "data": {
      "image/png": "[encoded data removed]",
      "text/plain": [
       "<Figure size 432x288 with 1 Axes>"
      ]
     },
     "metadata": {
      "needs_background": "light"
     },
     "output_type": "display_data"
    }
   ],
   "source": [
    "dfDown[\"Total Download Data (Bytes)\"].hist(bins=50)"
   ]
  },
  {
   "cell_type": "code",
   "execution_count": 34,
   "metadata": {},
   "outputs": [
    {
     "data": {
      "text/plain": [
       "<matplotlib.axes._subplots.AxesSubplot at 0x2181a41a208>"
      ]
     },
     "execution_count": 34,
     "metadata": {},
     "output_type": "execute_result"
    },
    {
     "data": {
      "image/png": "[encoded data removed]",
      "text/plain": [
       "<Figure size 432x288 with 1 Axes>"
      ]
     },
     "metadata": {
      "needs_background": "light"
     },
     "output_type": "display_data"
    }
   ],
   "source": [
    "dfDown.boxplot(column = 'Total Download Data (Bytes)')"
   ]
  },
  {
   "cell_type": "markdown",
   "metadata": {},
   "source": [
    "### Total Uploaded Data (Bytes)"
   ]
  },
  {
   "cell_type": "code",
   "execution_count": 35,
   "metadata": {},
   "outputs": [
    {
     "data": {
      "text/plain": [
       "<matplotlib.axes._subplots.AxesSubplot at 0x218190a2f98>"
      ]
     },
     "execution_count": 35,
     "metadata": {},
     "output_type": "execute_result"
    },
    {
     "data": {
      "image/png": "[encoded data removed]",
      "text/plain": [
       "<Figure size 432x288 with 1 Axes>"
      ]
     },
     "metadata": {
      "needs_background": "light"
     },
     "output_type": "display_data"
    }
   ],
   "source": [
    "dfUp[\"Total Uploaded Data (Bytes)\"].hist(bins=50)"
   ]
  },
  {
   "cell_type": "code",
   "execution_count": 36,
   "metadata": {},
   "outputs": [
    {
     "data": {
      "text/plain": [
       "<matplotlib.axes._subplots.AxesSubplot at 0x218158be198>"
      ]
     },
     "execution_count": 36,
     "metadata": {},
     "output_type": "execute_result"
    },
    {
     "data": {
      "image/png": "[encoded data removed]",
      "text/plain": [
       "<Figure size 432x288 with 1 Axes>"
      ]
     },
     "metadata": {
      "needs_background": "light"
     },
     "output_type": "display_data"
    }
   ],
   "source": [
    "dfUp.boxplot(column=\"Total Uploaded Data (Bytes)\")"
   ]
  },
  {
   "cell_type": "markdown",
   "metadata": {},
   "source": [
    "### Total Data Social Media"
   ]
  },
  {
   "cell_type": "code",
   "execution_count": 37,
   "metadata": {},
   "outputs": [
    {
     "data": {
      "text/plain": [
       "<matplotlib.axes._subplots.AxesSubplot at 0x21814cf5ac8>"
      ]
     },
     "execution_count": 37,
     "metadata": {},
     "output_type": "execute_result"
    },
    {
     "data": {
      "image/png": "[encoded data removed]",
      "text/plain": [
       "<Figure size 432x288 with 1 Axes>"
      ]
     },
     "metadata": {
      "needs_background": "light"
     },
     "output_type": "display_data"
    }
   ],
   "source": [
    "# dfSm[\"Total Data Social Media\"].hist(bins=50)\n",
    "sns.distplot(dfSm['Total Data Social Media'])"
   ]
  },
  {
   "cell_type": "code",
   "execution_count": 38,
   "metadata": {},
   "outputs": [
    {
     "data": {
      "text/plain": [
       "<matplotlib.axes._subplots.AxesSubplot at 0x21811a22908>"
      ]
     },
     "execution_count": 38,
     "metadata": {},
     "output_type": "execute_result"
    },
    {
     "data": {
      "image/png": "[encoded data removed]",
      "text/plain": [
       "<Figure size 432x288 with 1 Axes>"
      ]
     },
     "metadata": {
      "needs_background": "light"
     },
     "output_type": "display_data"
    }
   ],
   "source": [
    "# dfSm.boxplot(column=\"Total Data Social Media\")\n",
    "sns.boxplot(dfSm['Total Data Social Media'])"
   ]
  },
  {
   "cell_type": "markdown",
   "metadata": {},
   "source": [
    "### Total Data Google"
   ]
  },
  {
   "cell_type": "code",
   "execution_count": 39,
   "metadata": {},
   "outputs": [
    {
     "data": {
      "text/plain": [
       "<matplotlib.axes._subplots.AxesSubplot at 0x2180ffa7518>"
      ]
     },
     "execution_count": 39,
     "metadata": {},
     "output_type": "execute_result"
    },
    {
     "data": {
      "image/png": "[encoded data removed]",
      "text/plain": [
       "<Figure size 432x288 with 1 Axes>"
      ]
     },
     "metadata": {
      "needs_background": "light"
     },
     "output_type": "display_data"
    }
   ],
   "source": [
    "# dfGo['Total Data Google'].hist(bins=50)\n",
    "sns.distplot(dfGo['Total Data Google'])"
   ]
  },
  {
   "cell_type": "code",
   "execution_count": 40,
   "metadata": {},
   "outputs": [
    {
     "data": {
      "text/plain": [
       "<matplotlib.axes._subplots.AxesSubplot at 0x21814cf5978>"
      ]
     },
     "execution_count": 40,
     "metadata": {},
     "output_type": "execute_result"
    },
    {
     "data": {
      "image/png": "[encoded data removed]",
      "text/plain": [
       "<Figure size 432x288 with 1 Axes>"
      ]
     },
     "metadata": {
      "needs_background": "light"
     },
     "output_type": "display_data"
    }
   ],
   "source": [
    "# dfGo.boxplot(column='Total Data Google')\n",
    "sns.boxplot(dfGo['Total Data Google'])"
   ]
  },
  {
   "cell_type": "markdown",
   "metadata": {},
   "source": [
    "### Total Data Email"
   ]
  },
  {
   "cell_type": "code",
   "execution_count": 41,
   "metadata": {},
   "outputs": [
    {
     "data": {
      "text/plain": [
       "<matplotlib.axes._subplots.AxesSubplot at 0x21811850cc0>"
      ]
     },
     "execution_count": 41,
     "metadata": {},
     "output_type": "execute_result"
    },
    {
     "data": {
      "image/png": "[encoded data removed]",
      "text/plain": [
       "<Figure size 432x288 with 1 Axes>"
      ]
     },
     "metadata": {
      "needs_background": "light"
     },
     "output_type": "display_data"
    }
   ],
   "source": [
    "# dfEm['Total Data Email'].hist(bins=50)\n",
    "sns.distplot(dfEm['Total Data Email'])"
   ]
  },
  {
   "cell_type": "code",
   "execution_count": 42,
   "metadata": {},
   "outputs": [
    {
     "data": {
      "text/plain": [
       "<matplotlib.axes._subplots.AxesSubplot at 0x2181704feb8>"
      ]
     },
     "execution_count": 42,
     "metadata": {},
     "output_type": "execute_result"
    },
    {
     "data": {
      "image/png": "[encoded data removed]",
      "text/plain": [
       "<Figure size 432x288 with 1 Axes>"
      ]
     },
     "metadata": {
      "needs_background": "light"
     },
     "output_type": "display_data"
    }
   ],
   "source": [
    "# dfEm.boxplot(column='Total Data Email')\n",
    "sns.boxplot(dfEm['Total Data Email'])"
   ]
  },
  {
   "cell_type": "markdown",
   "metadata": {},
   "source": [
    "### Total Data Youtube"
   ]
  },
  {
   "cell_type": "code",
   "execution_count": 43,
   "metadata": {},
   "outputs": [
    {
     "data": {
      "text/plain": [
       "<matplotlib.axes._subplots.AxesSubplot at 0x218150506a0>"
      ]
     },
     "execution_count": 43,
     "metadata": {},
     "output_type": "execute_result"
    },
    {
     "data": {
      "image/png": "[encoded data removed]",
      "text/plain": [
       "<Figure size 432x288 with 1 Axes>"
      ]
     },
     "metadata": {
      "needs_background": "light"
     },
     "output_type": "display_data"
    }
   ],
   "source": [
    "# dfYo['Total Data Youtube'].hist(bins=50)\n",
    "sns.distplot(dfYo['Total Data Youtube'])"
   ]
  },
  {
   "cell_type": "code",
   "execution_count": 44,
   "metadata": {},
   "outputs": [
    {
     "data": {
      "text/plain": [
       "<matplotlib.axes._subplots.AxesSubplot at 0x2181c1a8668>"
      ]
     },
     "execution_count": 44,
     "metadata": {},
     "output_type": "execute_result"
    },
    {
     "data": {
      "image/png": "[encoded data removed]",
      "text/plain": [
       "<Figure size 432x288 with 1 Axes>"
      ]
     },
     "metadata": {
      "needs_background": "light"
     },
     "output_type": "display_data"
    }
   ],
   "source": [
    "# dfYo.boxplot(column='Total Data Youtube')\n",
    "sns.boxplot(dfYo['Total Data Youtube'])"
   ]
  },
  {
   "cell_type": "markdown",
   "metadata": {},
   "source": [
    "### Total Data Netflix"
   ]
  },
  {
   "cell_type": "code",
   "execution_count": 45,
   "metadata": {},
   "outputs": [
    {
     "data": {
      "text/plain": [
       "<matplotlib.axes._subplots.AxesSubplot at 0x2181c237f98>"
      ]
     },
     "execution_count": 45,
     "metadata": {},
     "output_type": "execute_result"
    },
    {
     "data": {
      "image/png": "[encoded data removed]",
      "text/plain": [
       "<Figure size 432x288 with 1 Axes>"
      ]
     },
     "metadata": {
      "needs_background": "light"
     },
     "output_type": "display_data"
    }
   ],
   "source": [
    "# dfNe['Total Data Netflix'].hist(bins=50)\n",
    "sns.distplot(dfNe['Total Data Netflix'])"
   ]
  },
  {
   "cell_type": "code",
   "execution_count": 46,
   "metadata": {},
   "outputs": [
    {
     "data": {
      "text/plain": [
       "<matplotlib.axes._subplots.AxesSubplot at 0x2181c1d52b0>"
      ]
     },
     "execution_count": 46,
     "metadata": {},
     "output_type": "execute_result"
    },
    {
     "data": {
      "image/png": "[encoded data removed]",
      "text/plain": [
       "<Figure size 432x288 with 1 Axes>"
      ]
     },
     "metadata": {
      "needs_background": "light"
     },
     "output_type": "display_data"
    }
   ],
   "source": [
    "# dfNe.boxplot(column='Total Data Netflix')\n",
    "sns.boxplot(dfNe['Total Data Netflix'])"
   ]
  },
  {
   "cell_type": "markdown",
   "metadata": {},
   "source": [
    "### Total Data Gaming"
   ]
  },
  {
   "cell_type": "code",
   "execution_count": 47,
   "metadata": {},
   "outputs": [
    {
     "data": {
      "text/plain": [
       "<matplotlib.axes._subplots.AxesSubplot at 0x2180bc443c8>"
      ]
     },
     "execution_count": 47,
     "metadata": {},
     "output_type": "execute_result"
    },
    {
     "data": {
      "image/png": "[encoded data removed]",
      "text/plain": [
       "<Figure size 432x288 with 1 Axes>"
      ]
     },
     "metadata": {
      "needs_background": "light"
     },
     "output_type": "display_data"
    }
   ],
   "source": [
    "# dfGa['Total Data Gaming'].hist(bins=50)\n",
    "sns.distplot(dfGa['Total Data Gaming'], kde=False)"
   ]
  },
  {
   "cell_type": "code",
   "execution_count": 48,
   "metadata": {},
   "outputs": [
    {
     "data": {
      "text/plain": [
       "<matplotlib.axes._subplots.AxesSubplot at 0x2181c3af3c8>"
      ]
     },
     "execution_count": 48,
     "metadata": {},
     "output_type": "execute_result"
    },
    {
     "data": {
      "image/png": "[encoded data removed]",
      "text/plain": [
       "<Figure size 432x288 with 1 Axes>"
      ]
     },
     "metadata": {
      "needs_background": "light"
     },
     "output_type": "display_data"
    }
   ],
   "source": [
    "# dfGa.boxplot(column='Total Data Gaming')\n",
    "sns.boxplot(dfGa['Total Data Gaming'])"
   ]
  },
  {
   "cell_type": "markdown",
   "metadata": {},
   "source": [
    "### Total Data Other"
   ]
  },
  {
   "cell_type": "code",
   "execution_count": 49,
   "metadata": {},
   "outputs": [
    {
     "data": {
      "text/plain": [
       "<matplotlib.axes._subplots.AxesSubplot at 0x2181c200dd8>"
      ]
     },
     "execution_count": 49,
     "metadata": {},
     "output_type": "execute_result"
    },
    {
     "data": {
      "image/png": "[encoded data removed]",
      "text/plain": [
       "<Figure size 432x288 with 1 Axes>"
      ]
     },
     "metadata": {
      "needs_background": "light"
     },
     "output_type": "display_data"
    }
   ],
   "source": [
    "# dfOt['Total Data Other'].hist(bins=50)\n",
    "sns.distplot(dfOt['Total Data Other'], kde=False)"
   ]
  },
  {
   "cell_type": "code",
   "execution_count": 50,
   "metadata": {},
   "outputs": [
    {
     "data": {
      "text/plain": [
       "<matplotlib.axes._subplots.AxesSubplot at 0x2181c20fe10>"
      ]
     },
     "execution_count": 50,
     "metadata": {},
     "output_type": "execute_result"
    },
    {
     "data": {
      "image/png": "[encoded data removed]",
      "text/plain": [
       "<Figure size 432x288 with 1 Axes>"
      ]
     },
     "metadata": {
      "needs_background": "light"
     },
     "output_type": "display_data"
    }
   ],
   "source": [
    "# dfOt.boxplot(column='Total Data Other')\n",
    "sns.boxplot(x=dfOt['Total Data Other'])"
   ]
  },
  {
   "cell_type": "markdown",
   "metadata": {},
   "source": [
    "### Variable Transformation"
   ]
  },
  {
   "cell_type": "code",
   "execution_count": 51,
   "metadata": {},
   "outputs": [],
   "source": [
    "# Dropping the columns that are identifiers and not of type Int\n",
    "dfNan = df3.drop(['Bearer Id', 'IMSI', 'MSISDN/Number','IMEI','Start', 'End', 'Last Location Name',\n",
    "          'Handset Manufacturer', 'Handset Type'], axis=1)\n",
    "# Filling the nan values with the mean of that column\n",
    "dfNan = dfNan.apply(lambda x : x.fillna(x.mean()), axis=0)\n",
    "cols = dfNan.columns.to_list()\n",
    "for col in cols:\n",
    "    df3[col] = dfNan[col]"
   ]
  },
  {
   "cell_type": "code",
   "execution_count": 52,
   "metadata": {},
   "outputs": [],
   "source": [
    "# Segmenting into 5 deciles groups \n",
    "dfDxdr = df3.groupby('Bearer Id').agg('sum')\n",
    "deciles = pd.qcut(dfDxdr['Dur. (ms)'], 5).values.codes\n",
    "dfDxdr['deciles'] = deciles"
   ]
  },
  {
   "cell_type": "code",
   "execution_count": 53,
   "metadata": {},
   "outputs": [
    {
     "data": {
      "text/plain": [
       "deciles\n",
       "0    1.384439238e+13\n",
       "1    1.881200017e+13\n",
       "2    8.618751528e+12\n",
       "3    1.404230878e+13\n",
       "4    1.904773836e+13\n",
       "Name: Total Data, dtype: float64"
      ]
     },
     "execution_count": 53,
     "metadata": {},
     "output_type": "execute_result"
    }
   ],
   "source": [
    "#Computing the Total Data in each Decile Group\n",
    "dfDxdr['Total Data'] = dfDxdr['Total UL (Bytes)'] + dfDxdr['Total DL (Bytes)']\n",
    "dfDxdr.groupby('deciles')['Total Data'].sum()"
   ]
  },
  {
   "cell_type": "markdown",
   "metadata": {},
   "source": [
    "### Correlation Matrix"
   ]
  },
  {
   "cell_type": "code",
   "execution_count": 54,
   "metadata": {},
   "outputs": [
    {
     "data": {
      "text/html": [
       "<div>\n",
       "<style scoped>\n",
       "    .dataframe tbody tr th:only-of-type {\n",
       "        vertical-align: middle;\n",
       "    }\n",
       "\n",
       "    .dataframe tbody tr th {\n",
       "        vertical-align: top;\n",
       "    }\n",
       "\n",
       "    .dataframe thead th {\n",
       "        text-align: right;\n",
       "    }\n",
       "</style>\n",
       "<table border=\"1\" class=\"dataframe\">\n",
       "  <thead>\n",
       "    <tr style=\"text-align: right;\">\n",
       "      <th></th>\n",
       "      <th>Total Data Social Media</th>\n",
       "      <th>Total Data Google</th>\n",
       "      <th>Total Data Email</th>\n",
       "      <th>Total Data Youtube</th>\n",
       "      <th>Total Data Netflix</th>\n",
       "      <th>Total Data Gaming</th>\n",
       "      <th>Total Data Other</th>\n",
       "      <th>MSISDN/Number</th>\n",
       "    </tr>\n",
       "  </thead>\n",
       "  <tbody>\n",
       "    <tr>\n",
       "      <th>Total Data Social Media</th>\n",
       "      <td>1.000000000</td>\n",
       "      <td>-0.001854767</td>\n",
       "      <td>0.004121803</td>\n",
       "      <td>0.000677292</td>\n",
       "      <td>0.001420754</td>\n",
       "      <td>0.001386754</td>\n",
       "      <td>0.005849199</td>\n",
       "      <td>-0.001834714</td>\n",
       "    </tr>\n",
       "    <tr>\n",
       "      <th>Total Data Google</th>\n",
       "      <td>-0.001854767</td>\n",
       "      <td>1.000000000</td>\n",
       "      <td>-0.000287685</td>\n",
       "      <td>0.002542071</td>\n",
       "      <td>-0.001911094</td>\n",
       "      <td>-0.000948950</td>\n",
       "      <td>-0.001904419</td>\n",
       "      <td>0.001509232</td>\n",
       "    </tr>\n",
       "    <tr>\n",
       "      <th>Total Data Email</th>\n",
       "      <td>0.004121803</td>\n",
       "      <td>-0.000287685</td>\n",
       "      <td>1.000000000</td>\n",
       "      <td>-0.003232960</td>\n",
       "      <td>0.001286868</td>\n",
       "      <td>-0.000513061</td>\n",
       "      <td>-0.001034390</td>\n",
       "      <td>0.003330695</td>\n",
       "    </tr>\n",
       "    <tr>\n",
       "      <th>Total Data Youtube</th>\n",
       "      <td>0.000677292</td>\n",
       "      <td>0.002542071</td>\n",
       "      <td>-0.003232960</td>\n",
       "      <td>1.000000000</td>\n",
       "      <td>0.003194428</td>\n",
       "      <td>-0.003117644</td>\n",
       "      <td>0.003197871</td>\n",
       "      <td>0.006189000</td>\n",
       "    </tr>\n",
       "    <tr>\n",
       "      <th>Total Data Netflix</th>\n",
       "      <td>0.001420754</td>\n",
       "      <td>-0.001911094</td>\n",
       "      <td>0.001286868</td>\n",
       "      <td>0.003194428</td>\n",
       "      <td>1.000000000</td>\n",
       "      <td>-0.003091629</td>\n",
       "      <td>-0.008791003</td>\n",
       "      <td>0.002455634</td>\n",
       "    </tr>\n",
       "    <tr>\n",
       "      <th>Total Data Gaming</th>\n",
       "      <td>0.001386754</td>\n",
       "      <td>-0.000948950</td>\n",
       "      <td>-0.000513061</td>\n",
       "      <td>-0.003117644</td>\n",
       "      <td>-0.003091629</td>\n",
       "      <td>1.000000000</td>\n",
       "      <td>-0.002789205</td>\n",
       "      <td>-0.003547991</td>\n",
       "    </tr>\n",
       "    <tr>\n",
       "      <th>Total Data Other</th>\n",
       "      <td>0.005849199</td>\n",
       "      <td>-0.001904419</td>\n",
       "      <td>-0.001034390</td>\n",
       "      <td>0.003197871</td>\n",
       "      <td>-0.008791003</td>\n",
       "      <td>-0.002789205</td>\n",
       "      <td>1.000000000</td>\n",
       "      <td>-0.001342522</td>\n",
       "    </tr>\n",
       "    <tr>\n",
       "      <th>MSISDN/Number</th>\n",
       "      <td>-0.001834714</td>\n",
       "      <td>0.001509232</td>\n",
       "      <td>0.003330695</td>\n",
       "      <td>0.006189000</td>\n",
       "      <td>0.002455634</td>\n",
       "      <td>-0.003547991</td>\n",
       "      <td>-0.001342522</td>\n",
       "      <td>1.000000000</td>\n",
       "    </tr>\n",
       "  </tbody>\n",
       "</table>\n",
       "</div>"
      ],
      "text/plain": [
       "                         Total Data Social Media  Total Data Google  \\\n",
       "Total Data Social Media              1.000000000       -0.001854767   \n",
       "Total Data Google                   -0.001854767        1.000000000   \n",
       "Total Data Email                     0.004121803       -0.000287685   \n",
       "Total Data Youtube                   0.000677292        0.002542071   \n",
       "Total Data Netflix                   0.001420754       -0.001911094   \n",
       "Total Data Gaming                    0.001386754       -0.000948950   \n",
       "Total Data Other                     0.005849199       -0.001904419   \n",
       "MSISDN/Number                       -0.001834714        0.001509232   \n",
       "\n",
       "                         Total Data Email  Total Data Youtube  \\\n",
       "Total Data Social Media       0.004121803         0.000677292   \n",
       "Total Data Google            -0.000287685         0.002542071   \n",
       "Total Data Email              1.000000000        -0.003232960   \n",
       "Total Data Youtube           -0.003232960         1.000000000   \n",
       "Total Data Netflix            0.001286868         0.003194428   \n",
       "Total Data Gaming            -0.000513061        -0.003117644   \n",
       "Total Data Other             -0.001034390         0.003197871   \n",
       "MSISDN/Number                 0.003330695         0.006189000   \n",
       "\n",
       "                         Total Data Netflix  Total Data Gaming  \\\n",
       "Total Data Social Media         0.001420754        0.001386754   \n",
       "Total Data Google              -0.001911094       -0.000948950   \n",
       "Total Data Email                0.001286868       -0.000513061   \n",
       "Total Data Youtube              0.003194428       -0.003117644   \n",
       "Total Data Netflix              1.000000000       -0.003091629   \n",
       "Total Data Gaming              -0.003091629        1.000000000   \n",
       "Total Data Other               -0.008791003       -0.002789205   \n",
       "MSISDN/Number                   0.002455634       -0.003547991   \n",
       "\n",
       "                         Total Data Other  MSISDN/Number  \n",
       "Total Data Social Media       0.005849199   -0.001834714  \n",
       "Total Data Google            -0.001904419    0.001509232  \n",
       "Total Data Email             -0.001034390    0.003330695  \n",
       "Total Data Youtube            0.003197871    0.006189000  \n",
       "Total Data Netflix           -0.008791003    0.002455634  \n",
       "Total Data Gaming            -0.002789205   -0.003547991  \n",
       "Total Data Other              1.000000000   -0.001342522  \n",
       "MSISDN/Number                -0.001342522    1.000000000  "
      ]
     },
     "execution_count": 54,
     "metadata": {},
     "output_type": "execute_result"
    }
   ],
   "source": [
    "#Getting the variable correlation Matrix\n",
    "dfAppsTotal.corr(method=\"pearson\")"
   ]
  },
  {
   "cell_type": "markdown",
   "metadata": {},
   "source": [
    "### Dimensionality Reduction (PCA)"
   ]
  },
  {
   "cell_type": "code",
   "execution_count": 55,
   "metadata": {},
   "outputs": [],
   "source": [
    "# Reducing the Dimensions of the Data to 2D using PCA \n",
    "from sklearn.decomposition import PCA\n",
    "pca = PCA(n_components=2)\n",
    "dfNoStr = df3.drop(['Start', 'End', 'Last Location Name', 'Handset Manufacturer', 'Handset Type', 'Bearer Id'], axis=1)\n",
    "dfNoStr = dfNoStr.dropna()\n",
    "pca.fit(dfNoStr)\n",
    "transformed = pca.transform(dfNoStr)"
   ]
  },
  {
   "cell_type": "code",
   "execution_count": 56,
   "metadata": {},
   "outputs": [
    {
     "data": {
      "text/plain": [
       "array([0.98823222, 0.01176752])"
      ]
     },
     "execution_count": 56,
     "metadata": {},
     "output_type": "execute_result"
    }
   ],
   "source": [
    "pca.explained_variance_ratio_"
   ]
  },
  {
   "cell_type": "markdown",
   "metadata": {},
   "source": [
    "# Task 2 - User Engagement analysis"
   ]
  },
  {
   "cell_type": "markdown",
   "metadata": {},
   "source": [
    "### Aggregating engagement metrics"
   ]
  },
  {
   "cell_type": "code",
   "execution_count": 57,
   "metadata": {},
   "outputs": [
    {
     "data": {
      "text/plain": [
       "MSISDN/Number\n",
       "33626320676    18\n",
       "33614892860    17\n",
       "33625779332    17\n",
       "33659725664    16\n",
       "33675877202    15\n",
       "33760536639    15\n",
       "33667163239    13\n",
       "33603127838    12\n",
       "33604515716    12\n",
       "33627080969    12\n",
       "Name: Dur. (ms), dtype: int64"
      ]
     },
     "execution_count": 57,
     "metadata": {},
     "output_type": "execute_result"
    }
   ],
   "source": [
    "# How many times the users have had a session (Top 10)\n",
    "df2.groupby('MSISDN/Number')['Dur. (ms)'].count().nlargest(10)"
   ]
  },
  {
   "cell_type": "code",
   "execution_count": 58,
   "metadata": {},
   "outputs": [
    {
     "data": {
      "text/plain": [
       "MSISDN/Number\n",
       "33625779332    18553754.0\n",
       "33614892860     9966898.0\n",
       "33760536639     9279434.0\n",
       "33626320676     8791927.0\n",
       "33667163239     8744914.0\n",
       "33662840755     6614270.0\n",
       "33664693736     6288730.0\n",
       "33603127838     6287761.0\n",
       "33667456716     5649882.0\n",
       "33760413819     5321667.0\n",
       "Name: Dur. (ms), dtype: float64"
      ]
     },
     "execution_count": 58,
     "metadata": {},
     "output_type": "execute_result"
    }
   ],
   "source": [
    "#Getting the top users with the most time spent on the sessions (Top 10)\n",
    "df2.groupby('MSISDN/Number')['Dur. (ms)'].agg('sum').nlargest(10)"
   ]
  },
  {
   "cell_type": "code",
   "execution_count": 59,
   "metadata": {},
   "outputs": [
    {
     "name": "stderr",
     "output_type": "stream",
     "text": [
      "c:\\users\\gkkar\\appdata\\local\\programs\\python\\python36\\lib\\site-packages\\ipykernel_launcher.py:2: SettingWithCopyWarning: \n",
      "A value is trying to be set on a copy of a slice from a DataFrame.\n",
      "Try using .loc[row_indexer,col_indexer] = value instead\n",
      "\n",
      "See the caveats in the documentation: https://pandas.pydata.org/pandas-docs/stable/user_guide/indexing.html#returning-a-view-versus-a-copy\n",
      "  \n"
     ]
    },
    {
     "data": {
      "text/plain": [
       "MSISDN/Number\n",
       "33614892860    8846226494.0\n",
       "33760536639    8514773963.0\n",
       "33625779332    8499620722.0\n",
       "33626320676    7971167261.0\n",
       "33675877202    7891110608.0\n",
       "33659725664    7705862783.0\n",
       "33666464084    7308500938.0\n",
       "33760413819    7132370514.0\n",
       "33664712899    6872018208.0\n",
       "33698792269    6540899126.0\n",
       "Name: Total traffic, dtype: float64"
      ]
     },
     "execution_count": 59,
     "metadata": {},
     "output_type": "execute_result"
    }
   ],
   "source": [
    "# Getting 10 highest users with the most total traffic\n",
    "df2['Total traffic'] = df2['Total DL (Bytes)'] + df2['Total UL (Bytes)']\n",
    "df2.groupby('MSISDN/Number')['Total traffic'].agg('sum').nlargest(10)"
   ]
  },
  {
   "cell_type": "markdown",
   "metadata": {},
   "source": [
    "### Normalizing the engagement metrics and K-means"
   ]
  },
  {
   "cell_type": "code",
   "execution_count": 60,
   "metadata": {},
   "outputs": [
    {
     "data": {
      "text/html": [
       "<div>\n",
       "<style scoped>\n",
       "    .dataframe tbody tr th:only-of-type {\n",
       "        vertical-align: middle;\n",
       "    }\n",
       "\n",
       "    .dataframe tbody tr th {\n",
       "        vertical-align: top;\n",
       "    }\n",
       "\n",
       "    .dataframe thead th {\n",
       "        text-align: right;\n",
       "    }\n",
       "</style>\n",
       "<table border=\"1\" class=\"dataframe\">\n",
       "  <thead>\n",
       "    <tr style=\"text-align: right;\">\n",
       "      <th></th>\n",
       "      <th>Dur. (ms)</th>\n",
       "      <th>Total traffic</th>\n",
       "      <th>sessions frequency</th>\n",
       "    </tr>\n",
       "  </thead>\n",
       "  <tbody>\n",
       "    <tr>\n",
       "      <th>0</th>\n",
       "      <td>18553754.0</td>\n",
       "      <td>8499620722.0</td>\n",
       "      <td>17</td>\n",
       "    </tr>\n",
       "    <tr>\n",
       "      <th>1</th>\n",
       "      <td>9966898.0</td>\n",
       "      <td>8846226494.0</td>\n",
       "      <td>17</td>\n",
       "    </tr>\n",
       "    <tr>\n",
       "      <th>2</th>\n",
       "      <td>9279434.0</td>\n",
       "      <td>8514773963.0</td>\n",
       "      <td>15</td>\n",
       "    </tr>\n",
       "    <tr>\n",
       "      <th>3</th>\n",
       "      <td>8791927.0</td>\n",
       "      <td>7971167261.0</td>\n",
       "      <td>18</td>\n",
       "    </tr>\n",
       "    <tr>\n",
       "      <th>4</th>\n",
       "      <td>8744914.0</td>\n",
       "      <td>5618394054.0</td>\n",
       "      <td>13</td>\n",
       "    </tr>\n",
       "    <tr>\n",
       "      <th>...</th>\n",
       "      <td>...</td>\n",
       "      <td>...</td>\n",
       "      <td>...</td>\n",
       "    </tr>\n",
       "    <tr>\n",
       "      <th>106851</th>\n",
       "      <td>7267.0</td>\n",
       "      <td>208893702.0</td>\n",
       "      <td>1</td>\n",
       "    </tr>\n",
       "    <tr>\n",
       "      <th>106852</th>\n",
       "      <td>7258.0</td>\n",
       "      <td>836659601.0</td>\n",
       "      <td>1</td>\n",
       "    </tr>\n",
       "    <tr>\n",
       "      <th>106853</th>\n",
       "      <td>7189.0</td>\n",
       "      <td>279804529.0</td>\n",
       "      <td>1</td>\n",
       "    </tr>\n",
       "    <tr>\n",
       "      <th>106854</th>\n",
       "      <td>7146.0</td>\n",
       "      <td>678517390.0</td>\n",
       "      <td>1</td>\n",
       "    </tr>\n",
       "    <tr>\n",
       "      <th>106855</th>\n",
       "      <td>7142.0</td>\n",
       "      <td>558334893.0</td>\n",
       "      <td>1</td>\n",
       "    </tr>\n",
       "  </tbody>\n",
       "</table>\n",
       "<p>106856 rows × 3 columns</p>\n",
       "</div>"
      ],
      "text/plain": [
       "         Dur. (ms)  Total traffic  sessions frequency\n",
       "0       18553754.0   8499620722.0                  17\n",
       "1        9966898.0   8846226494.0                  17\n",
       "2        9279434.0   8514773963.0                  15\n",
       "3        8791927.0   7971167261.0                  18\n",
       "4        8744914.0   5618394054.0                  13\n",
       "...            ...            ...                 ...\n",
       "106851      7267.0    208893702.0                   1\n",
       "106852      7258.0    836659601.0                   1\n",
       "106853      7189.0    279804529.0                   1\n",
       "106854      7146.0    678517390.0                   1\n",
       "106855      7142.0    558334893.0                   1\n",
       "\n",
       "[106856 rows x 3 columns]"
      ]
     },
     "execution_count": 60,
     "metadata": {},
     "output_type": "execute_result"
    }
   ],
   "source": [
    "# Preparing the data for Kmeans i.e getting the columns we want\n",
    "dfMsDur = aggTotalDataEach(df2, 'Dur. (ms)')\n",
    "dfMTt = aggTotalDataEach(df2, 'Total traffic')\n",
    "dfEM = pd.merge(dfMsDur, dfMTt, on='MSISDN/Number')\n",
    "\n",
    "sDur = df2.groupby('MSISDN/Number')['Dur. (ms)'].count().sort_values(ascending=False)\n",
    "dfSDur = pd.DataFrame({'MSISDN/Number': sDur.index, 'sessions frequency': sDur.values})\n",
    "\n",
    "dfEM = pd.merge(dfEM, dfSDur, on='MSISDN/Number')\n",
    "dfNom = dfEM.drop('MSISDN/Number', axis=1)\n",
    "dfNNom = dfEM.drop('MSISDN/Number', axis=1)\n",
    "dfNNom"
   ]
  },
  {
   "cell_type": "code",
   "execution_count": 61,
   "metadata": {
    "scrolled": true
   },
   "outputs": [],
   "source": [
    "from sklearn.preprocessing import normalize\n",
    "from sklearn.cluster import KMeans\n",
    "\n",
    "# Normalizing the Duration and Total traffic columns\n",
    "dfNom['Dur. (ms)'] = np.transpose(normalize([np.array(dfNom['Dur. (ms)'])]))\n",
    "dfNom['Total traffic'] = np.transpose(normalize([np.array(dfNom['Total traffic'])]))\n",
    "\n",
    "# Kmeans clustering on the normalized data\n",
    "kmeans = KMeans(n_clusters=3, random_state=0).fit(dfNom)"
   ]
  },
  {
   "cell_type": "code",
   "execution_count": 62,
   "metadata": {},
   "outputs": [
    {
     "data": {
      "text/plain": [
       "array([1, 1, 1, ..., 0, 0, 0])"
      ]
     },
     "execution_count": 62,
     "metadata": {},
     "output_type": "execute_result"
    }
   ],
   "source": [
    "kmeans.labels_"
   ]
  },
  {
   "cell_type": "code",
   "execution_count": 63,
   "metadata": {},
   "outputs": [
    {
     "data": {
      "text/plain": [
       "array([[1.33739906e-03, 1.79362238e-03, 1.00000000e+00],\n",
       "       [8.13972094e-03, 8.24225288e-03, 4.62442325e+00],\n",
       "       [2.75642855e-03, 3.87407852e-03, 2.17090516e+00]])"
      ]
     },
     "execution_count": 63,
     "metadata": {},
     "output_type": "execute_result"
    }
   ],
   "source": [
    "# cluster Centers of each cluster\n",
    "kmeans.cluster_centers_"
   ]
  },
  {
   "cell_type": "code",
   "execution_count": 64,
   "metadata": {},
   "outputs": [
    {
     "data": {
      "text/html": [
       "<div>\n",
       "<style scoped>\n",
       "    .dataframe tbody tr th:only-of-type {\n",
       "        vertical-align: middle;\n",
       "    }\n",
       "\n",
       "    .dataframe tbody tr th {\n",
       "        vertical-align: top;\n",
       "    }\n",
       "\n",
       "    .dataframe thead th {\n",
       "        text-align: right;\n",
       "    }\n",
       "</style>\n",
       "<table border=\"1\" class=\"dataframe\">\n",
       "  <thead>\n",
       "    <tr style=\"text-align: right;\">\n",
       "      <th></th>\n",
       "      <th>Dur. (ms)</th>\n",
       "      <th>Total traffic</th>\n",
       "      <th>sessions frequency</th>\n",
       "      <th>kmeansLabels</th>\n",
       "    </tr>\n",
       "  </thead>\n",
       "  <tbody>\n",
       "    <tr>\n",
       "      <th>0</th>\n",
       "      <td>18553754.0</td>\n",
       "      <td>8499620722.0</td>\n",
       "      <td>17</td>\n",
       "      <td>1</td>\n",
       "    </tr>\n",
       "    <tr>\n",
       "      <th>1</th>\n",
       "      <td>9966898.0</td>\n",
       "      <td>8846226494.0</td>\n",
       "      <td>17</td>\n",
       "      <td>1</td>\n",
       "    </tr>\n",
       "    <tr>\n",
       "      <th>2</th>\n",
       "      <td>9279434.0</td>\n",
       "      <td>8514773963.0</td>\n",
       "      <td>15</td>\n",
       "      <td>1</td>\n",
       "    </tr>\n",
       "    <tr>\n",
       "      <th>3</th>\n",
       "      <td>8791927.0</td>\n",
       "      <td>7971167261.0</td>\n",
       "      <td>18</td>\n",
       "      <td>1</td>\n",
       "    </tr>\n",
       "    <tr>\n",
       "      <th>4</th>\n",
       "      <td>8744914.0</td>\n",
       "      <td>5618394054.0</td>\n",
       "      <td>13</td>\n",
       "      <td>1</td>\n",
       "    </tr>\n",
       "    <tr>\n",
       "      <th>...</th>\n",
       "      <td>...</td>\n",
       "      <td>...</td>\n",
       "      <td>...</td>\n",
       "      <td>...</td>\n",
       "    </tr>\n",
       "    <tr>\n",
       "      <th>106851</th>\n",
       "      <td>7267.0</td>\n",
       "      <td>208893702.0</td>\n",
       "      <td>1</td>\n",
       "      <td>0</td>\n",
       "    </tr>\n",
       "    <tr>\n",
       "      <th>106852</th>\n",
       "      <td>7258.0</td>\n",
       "      <td>836659601.0</td>\n",
       "      <td>1</td>\n",
       "      <td>0</td>\n",
       "    </tr>\n",
       "    <tr>\n",
       "      <th>106853</th>\n",
       "      <td>7189.0</td>\n",
       "      <td>279804529.0</td>\n",
       "      <td>1</td>\n",
       "      <td>0</td>\n",
       "    </tr>\n",
       "    <tr>\n",
       "      <th>106854</th>\n",
       "      <td>7146.0</td>\n",
       "      <td>678517390.0</td>\n",
       "      <td>1</td>\n",
       "      <td>0</td>\n",
       "    </tr>\n",
       "    <tr>\n",
       "      <th>106855</th>\n",
       "      <td>7142.0</td>\n",
       "      <td>558334893.0</td>\n",
       "      <td>1</td>\n",
       "      <td>0</td>\n",
       "    </tr>\n",
       "  </tbody>\n",
       "</table>\n",
       "<p>106856 rows × 4 columns</p>\n",
       "</div>"
      ],
      "text/plain": [
       "         Dur. (ms)  Total traffic  sessions frequency  kmeansLabels\n",
       "0       18553754.0   8499620722.0                  17             1\n",
       "1        9966898.0   8846226494.0                  17             1\n",
       "2        9279434.0   8514773963.0                  15             1\n",
       "3        8791927.0   7971167261.0                  18             1\n",
       "4        8744914.0   5618394054.0                  13             1\n",
       "...            ...            ...                 ...           ...\n",
       "106851      7267.0    208893702.0                   1             0\n",
       "106852      7258.0    836659601.0                   1             0\n",
       "106853      7189.0    279804529.0                   1             0\n",
       "106854      7146.0    678517390.0                   1             0\n",
       "106855      7142.0    558334893.0                   1             0\n",
       "\n",
       "[106856 rows x 4 columns]"
      ]
     },
     "execution_count": 64,
     "metadata": {},
     "output_type": "execute_result"
    }
   ],
   "source": [
    "# Appending the labels to the data that has not been normalized\n",
    "dfNNom['kmeansLabels'] = np.transpose(kmeans.labels_)\n",
    "dfNNom"
   ]
  },
  {
   "cell_type": "markdown",
   "metadata": {},
   "source": [
    "### the minimum, maximum, average & total non- normalized metrics for each cluster"
   ]
  },
  {
   "cell_type": "code",
   "execution_count": 65,
   "metadata": {},
   "outputs": [
    {
     "data": {
      "text/html": [
       "<div>\n",
       "<style scoped>\n",
       "    .dataframe tbody tr th:only-of-type {\n",
       "        vertical-align: middle;\n",
       "    }\n",
       "\n",
       "    .dataframe tbody tr th {\n",
       "        vertical-align: top;\n",
       "    }\n",
       "\n",
       "    .dataframe thead th {\n",
       "        text-align: right;\n",
       "    }\n",
       "</style>\n",
       "<table border=\"1\" class=\"dataframe\">\n",
       "  <thead>\n",
       "    <tr style=\"text-align: right;\">\n",
       "      <th></th>\n",
       "      <th>Dur. (ms)</th>\n",
       "      <th>Total traffic</th>\n",
       "      <th>sessions frequency</th>\n",
       "    </tr>\n",
       "    <tr>\n",
       "      <th>kmeansLabels</th>\n",
       "      <th></th>\n",
       "      <th></th>\n",
       "      <th></th>\n",
       "    </tr>\n",
       "  </thead>\n",
       "  <tbody>\n",
       "    <tr>\n",
       "      <th>0</th>\n",
       "      <td>1573420.0</td>\n",
       "      <td>950760661.0</td>\n",
       "      <td>1</td>\n",
       "    </tr>\n",
       "    <tr>\n",
       "      <th>1</th>\n",
       "      <td>18553754.0</td>\n",
       "      <td>8846226494.0</td>\n",
       "      <td>18</td>\n",
       "    </tr>\n",
       "    <tr>\n",
       "      <th>2</th>\n",
       "      <td>3174824.0</td>\n",
       "      <td>2679130626.0</td>\n",
       "      <td>3</td>\n",
       "    </tr>\n",
       "  </tbody>\n",
       "</table>\n",
       "</div>"
      ],
      "text/plain": [
       "               Dur. (ms)  Total traffic  sessions frequency\n",
       "kmeansLabels                                               \n",
       "0              1573420.0    950760661.0                   1\n",
       "1             18553754.0   8846226494.0                  18\n",
       "2              3174824.0   2679130626.0                   3"
      ]
     },
     "execution_count": 65,
     "metadata": {},
     "output_type": "execute_result"
    }
   ],
   "source": [
    "# finding the max values of each cluster\n",
    "dfNNom.groupby('kmeansLabels').max()"
   ]
  },
  {
   "cell_type": "code",
   "execution_count": 66,
   "metadata": {},
   "outputs": [
    {
     "data": {
      "text/html": [
       "<div>\n",
       "<style scoped>\n",
       "    .dataframe tbody tr th:only-of-type {\n",
       "        vertical-align: middle;\n",
       "    }\n",
       "\n",
       "    .dataframe tbody tr th {\n",
       "        vertical-align: top;\n",
       "    }\n",
       "\n",
       "    .dataframe thead th {\n",
       "        text-align: right;\n",
       "    }\n",
       "</style>\n",
       "<table border=\"1\" class=\"dataframe\">\n",
       "  <thead>\n",
       "    <tr style=\"text-align: right;\">\n",
       "      <th></th>\n",
       "      <th>Dur. (ms)</th>\n",
       "      <th>Total traffic</th>\n",
       "      <th>sessions frequency</th>\n",
       "    </tr>\n",
       "    <tr>\n",
       "      <th>kmeansLabels</th>\n",
       "      <th></th>\n",
       "      <th></th>\n",
       "      <th></th>\n",
       "    </tr>\n",
       "  </thead>\n",
       "  <tbody>\n",
       "    <tr>\n",
       "      <th>0</th>\n",
       "      <td>7142.0</td>\n",
       "      <td>33249009.0</td>\n",
       "      <td>1</td>\n",
       "    </tr>\n",
       "    <tr>\n",
       "      <th>1</th>\n",
       "      <td>46896.0</td>\n",
       "      <td>474595196.0</td>\n",
       "      <td>4</td>\n",
       "    </tr>\n",
       "    <tr>\n",
       "      <th>2</th>\n",
       "      <td>18235.0</td>\n",
       "      <td>119768539.0</td>\n",
       "      <td>2</td>\n",
       "    </tr>\n",
       "  </tbody>\n",
       "</table>\n",
       "</div>"
      ],
      "text/plain": [
       "              Dur. (ms)  Total traffic  sessions frequency\n",
       "kmeansLabels                                              \n",
       "0                7142.0     33249009.0                   1\n",
       "1               46896.0    474595196.0                   4\n",
       "2               18235.0    119768539.0                   2"
      ]
     },
     "execution_count": 66,
     "metadata": {},
     "output_type": "execute_result"
    }
   ],
   "source": [
    "# finding the min values of each cluster\n",
    "dfNNom.groupby('kmeansLabels').min()"
   ]
  },
  {
   "cell_type": "code",
   "execution_count": 67,
   "metadata": {},
   "outputs": [
    {
     "data": {
      "text/html": [
       "<div>\n",
       "<style scoped>\n",
       "    .dataframe tbody tr th:only-of-type {\n",
       "        vertical-align: middle;\n",
       "    }\n",
       "\n",
       "    .dataframe tbody tr th {\n",
       "        vertical-align: top;\n",
       "    }\n",
       "\n",
       "    .dataframe thead th {\n",
       "        text-align: right;\n",
       "    }\n",
       "</style>\n",
       "<table border=\"1\" class=\"dataframe\">\n",
       "  <thead>\n",
       "    <tr style=\"text-align: right;\">\n",
       "      <th></th>\n",
       "      <th>Dur. (ms)</th>\n",
       "      <th>Total traffic</th>\n",
       "      <th>sessions frequency</th>\n",
       "    </tr>\n",
       "    <tr>\n",
       "      <th>kmeansLabels</th>\n",
       "      <th></th>\n",
       "      <th></th>\n",
       "      <th></th>\n",
       "    </tr>\n",
       "  </thead>\n",
       "  <tbody>\n",
       "    <tr>\n",
       "      <th>0</th>\n",
       "      <td>103542.568138838</td>\n",
       "      <td>4.970071918e+08</td>\n",
       "      <td>1.000000000</td>\n",
       "    </tr>\n",
       "    <tr>\n",
       "      <th>1</th>\n",
       "      <td>630184.089510920</td>\n",
       "      <td>2.283902674e+09</td>\n",
       "      <td>4.624423254</td>\n",
       "    </tr>\n",
       "    <tr>\n",
       "      <th>2</th>\n",
       "      <td>213405.032735565</td>\n",
       "      <td>1.073495126e+09</td>\n",
       "      <td>2.170905156</td>\n",
       "    </tr>\n",
       "  </tbody>\n",
       "</table>\n",
       "</div>"
      ],
      "text/plain": [
       "                     Dur. (ms)    Total traffic  sessions frequency\n",
       "kmeansLabels                                                       \n",
       "0             103542.568138838  4.970071918e+08         1.000000000\n",
       "1             630184.089510920  2.283902674e+09         4.624423254\n",
       "2             213405.032735565  1.073495126e+09         2.170905156"
      ]
     },
     "execution_count": 67,
     "metadata": {},
     "output_type": "execute_result"
    }
   ],
   "source": [
    "# finding the mean values of each cluster\n",
    "dfNNom.groupby('kmeansLabels').mean()"
   ]
  },
  {
   "cell_type": "code",
   "execution_count": 68,
   "metadata": {},
   "outputs": [
    {
     "data": {
      "text/html": [
       "<div>\n",
       "<style scoped>\n",
       "    .dataframe tbody tr th:only-of-type {\n",
       "        vertical-align: middle;\n",
       "    }\n",
       "\n",
       "    .dataframe tbody tr th {\n",
       "        vertical-align: top;\n",
       "    }\n",
       "\n",
       "    .dataframe thead th {\n",
       "        text-align: right;\n",
       "    }\n",
       "</style>\n",
       "<table border=\"1\" class=\"dataframe\">\n",
       "  <thead>\n",
       "    <tr style=\"text-align: right;\">\n",
       "      <th></th>\n",
       "      <th>Dur. (ms)</th>\n",
       "      <th>Total traffic</th>\n",
       "      <th>sessions frequency</th>\n",
       "    </tr>\n",
       "    <tr>\n",
       "      <th>kmeansLabels</th>\n",
       "      <th></th>\n",
       "      <th></th>\n",
       "      <th></th>\n",
       "    </tr>\n",
       "  </thead>\n",
       "  <tbody>\n",
       "    <tr>\n",
       "      <th>0</th>\n",
       "      <td>8048467364.0</td>\n",
       "      <td>3.863286602e+13</td>\n",
       "      <td>77731</td>\n",
       "    </tr>\n",
       "    <tr>\n",
       "      <th>1</th>\n",
       "      <td>2048728475.0</td>\n",
       "      <td>7.424967594e+12</td>\n",
       "      <td>15034</td>\n",
       "    </tr>\n",
       "    <tr>\n",
       "      <th>2</th>\n",
       "      <td>5521641817.0</td>\n",
       "      <td>2.777561289e+13</td>\n",
       "      <td>56170</td>\n",
       "    </tr>\n",
       "  </tbody>\n",
       "</table>\n",
       "</div>"
      ],
      "text/plain": [
       "                 Dur. (ms)    Total traffic  sessions frequency\n",
       "kmeansLabels                                                   \n",
       "0             8048467364.0  3.863286602e+13               77731\n",
       "1             2048728475.0  7.424967594e+12               15034\n",
       "2             5521641817.0  2.777561289e+13               56170"
      ]
     },
     "execution_count": 68,
     "metadata": {},
     "output_type": "execute_result"
    }
   ],
   "source": [
    "# finding the Total values of each cluster\n",
    "dfNNom.groupby('kmeansLabels').sum()"
   ]
  },
  {
   "cell_type": "markdown",
   "metadata": {},
   "source": [
    "### the top 10 most engaged users per application"
   ]
  },
  {
   "cell_type": "code",
   "execution_count": 69,
   "metadata": {},
   "outputs": [
    {
     "data": {
      "text/html": [
       "<div>\n",
       "<style scoped>\n",
       "    .dataframe tbody tr th:only-of-type {\n",
       "        vertical-align: middle;\n",
       "    }\n",
       "\n",
       "    .dataframe tbody tr th {\n",
       "        vertical-align: top;\n",
       "    }\n",
       "\n",
       "    .dataframe thead th {\n",
       "        text-align: right;\n",
       "    }\n",
       "</style>\n",
       "<table border=\"1\" class=\"dataframe\">\n",
       "  <thead>\n",
       "    <tr style=\"text-align: right;\">\n",
       "      <th></th>\n",
       "      <th>MSISDN/Number</th>\n",
       "      <th>Total Data Social Media</th>\n",
       "    </tr>\n",
       "  </thead>\n",
       "  <tbody>\n",
       "    <tr>\n",
       "      <th>0</th>\n",
       "      <td>33626320676</td>\n",
       "      <td>43374779.0</td>\n",
       "    </tr>\n",
       "    <tr>\n",
       "      <th>1</th>\n",
       "      <td>33760536639</td>\n",
       "      <td>39783189.0</td>\n",
       "    </tr>\n",
       "    <tr>\n",
       "      <th>2</th>\n",
       "      <td>33659725664</td>\n",
       "      <td>35412358.0</td>\n",
       "    </tr>\n",
       "    <tr>\n",
       "      <th>3</th>\n",
       "      <td>33614892860</td>\n",
       "      <td>28294544.0</td>\n",
       "    </tr>\n",
       "    <tr>\n",
       "      <th>4</th>\n",
       "      <td>33625779332</td>\n",
       "      <td>27135500.0</td>\n",
       "    </tr>\n",
       "    <tr>\n",
       "      <th>5</th>\n",
       "      <td>33667163239</td>\n",
       "      <td>24247850.0</td>\n",
       "    </tr>\n",
       "    <tr>\n",
       "      <th>6</th>\n",
       "      <td>33786323068</td>\n",
       "      <td>23974919.0</td>\n",
       "    </tr>\n",
       "    <tr>\n",
       "      <th>7</th>\n",
       "      <td>33669068942</td>\n",
       "      <td>23800834.0</td>\n",
       "    </tr>\n",
       "    <tr>\n",
       "      <th>8</th>\n",
       "      <td>33603127838</td>\n",
       "      <td>23077825.0</td>\n",
       "    </tr>\n",
       "    <tr>\n",
       "      <th>9</th>\n",
       "      <td>33658490784</td>\n",
       "      <td>23000066.0</td>\n",
       "    </tr>\n",
       "  </tbody>\n",
       "</table>\n",
       "</div>"
      ],
      "text/plain": [
       "   MSISDN/Number  Total Data Social Media\n",
       "0    33626320676               43374779.0\n",
       "1    33760536639               39783189.0\n",
       "2    33659725664               35412358.0\n",
       "3    33614892860               28294544.0\n",
       "4    33625779332               27135500.0\n",
       "5    33667163239               24247850.0\n",
       "6    33786323068               23974919.0\n",
       "7    33669068942               23800834.0\n",
       "8    33603127838               23077825.0\n",
       "9    33658490784               23000066.0"
      ]
     },
     "execution_count": 69,
     "metadata": {},
     "output_type": "execute_result"
    }
   ],
   "source": [
    "# Top 10 users engaged on social media\n",
    "dfSm.head(10)"
   ]
  },
  {
   "cell_type": "code",
   "execution_count": 70,
   "metadata": {},
   "outputs": [
    {
     "data": {
      "text/html": [
       "<div>\n",
       "<style scoped>\n",
       "    .dataframe tbody tr th:only-of-type {\n",
       "        vertical-align: middle;\n",
       "    }\n",
       "\n",
       "    .dataframe tbody tr th {\n",
       "        vertical-align: top;\n",
       "    }\n",
       "\n",
       "    .dataframe thead th {\n",
       "        text-align: right;\n",
       "    }\n",
       "</style>\n",
       "<table border=\"1\" class=\"dataframe\">\n",
       "  <thead>\n",
       "    <tr style=\"text-align: right;\">\n",
       "      <th></th>\n",
       "      <th>MSISDN/Number</th>\n",
       "      <th>Total Data Google</th>\n",
       "    </tr>\n",
       "  </thead>\n",
       "  <tbody>\n",
       "    <tr>\n",
       "      <th>0</th>\n",
       "      <td>33626320676</td>\n",
       "      <td>152191852.0</td>\n",
       "    </tr>\n",
       "    <tr>\n",
       "      <th>1</th>\n",
       "      <td>33625779332</td>\n",
       "      <td>142307915.0</td>\n",
       "    </tr>\n",
       "    <tr>\n",
       "      <th>2</th>\n",
       "      <td>33614892860</td>\n",
       "      <td>127973787.0</td>\n",
       "    </tr>\n",
       "    <tr>\n",
       "      <th>3</th>\n",
       "      <td>33760536639</td>\n",
       "      <td>123223099.0</td>\n",
       "    </tr>\n",
       "    <tr>\n",
       "      <th>4</th>\n",
       "      <td>33659725664</td>\n",
       "      <td>116516345.0</td>\n",
       "    </tr>\n",
       "    <tr>\n",
       "      <th>5</th>\n",
       "      <td>33786323068</td>\n",
       "      <td>110254484.0</td>\n",
       "    </tr>\n",
       "    <tr>\n",
       "      <th>6</th>\n",
       "      <td>33675877202</td>\n",
       "      <td>109860502.0</td>\n",
       "    </tr>\n",
       "    <tr>\n",
       "      <th>7</th>\n",
       "      <td>33667163239</td>\n",
       "      <td>105032696.0</td>\n",
       "    </tr>\n",
       "    <tr>\n",
       "      <th>8</th>\n",
       "      <td>33761268199</td>\n",
       "      <td>97089988.0</td>\n",
       "    </tr>\n",
       "    <tr>\n",
       "      <th>9</th>\n",
       "      <td>33698756430</td>\n",
       "      <td>91935151.0</td>\n",
       "    </tr>\n",
       "  </tbody>\n",
       "</table>\n",
       "</div>"
      ],
      "text/plain": [
       "   MSISDN/Number  Total Data Google\n",
       "0    33626320676        152191852.0\n",
       "1    33625779332        142307915.0\n",
       "2    33614892860        127973787.0\n",
       "3    33760536639        123223099.0\n",
       "4    33659725664        116516345.0\n",
       "5    33786323068        110254484.0\n",
       "6    33675877202        109860502.0\n",
       "7    33667163239        105032696.0\n",
       "8    33761268199         97089988.0\n",
       "9    33698756430         91935151.0"
      ]
     },
     "execution_count": 70,
     "metadata": {},
     "output_type": "execute_result"
    }
   ],
   "source": [
    "# Top 10 users engaged on Google\n",
    "dfGo.head(10)"
   ]
  },
  {
   "cell_type": "code",
   "execution_count": 71,
   "metadata": {},
   "outputs": [
    {
     "data": {
      "text/html": [
       "<div>\n",
       "<style scoped>\n",
       "    .dataframe tbody tr th:only-of-type {\n",
       "        vertical-align: middle;\n",
       "    }\n",
       "\n",
       "    .dataframe tbody tr th {\n",
       "        vertical-align: top;\n",
       "    }\n",
       "\n",
       "    .dataframe thead th {\n",
       "        text-align: right;\n",
       "    }\n",
       "</style>\n",
       "<table border=\"1\" class=\"dataframe\">\n",
       "  <thead>\n",
       "    <tr style=\"text-align: right;\">\n",
       "      <th></th>\n",
       "      <th>MSISDN/Number</th>\n",
       "      <th>Total Data Email</th>\n",
       "    </tr>\n",
       "  </thead>\n",
       "  <tbody>\n",
       "    <tr>\n",
       "      <th>0</th>\n",
       "      <td>33626320676</td>\n",
       "      <td>42418782.0</td>\n",
       "    </tr>\n",
       "    <tr>\n",
       "      <th>1</th>\n",
       "      <td>33614892860</td>\n",
       "      <td>40788634.0</td>\n",
       "    </tr>\n",
       "    <tr>\n",
       "      <th>2</th>\n",
       "      <td>33625779332</td>\n",
       "      <td>40633966.0</td>\n",
       "    </tr>\n",
       "    <tr>\n",
       "      <th>3</th>\n",
       "      <td>33786323068</td>\n",
       "      <td>36310123.0</td>\n",
       "    </tr>\n",
       "    <tr>\n",
       "      <th>4</th>\n",
       "      <td>33659725664</td>\n",
       "      <td>35999792.0</td>\n",
       "    </tr>\n",
       "    <tr>\n",
       "      <th>5</th>\n",
       "      <td>33760536639</td>\n",
       "      <td>33693767.0</td>\n",
       "    </tr>\n",
       "    <tr>\n",
       "      <th>6</th>\n",
       "      <td>33675877202</td>\n",
       "      <td>31514421.0</td>\n",
       "    </tr>\n",
       "    <tr>\n",
       "      <th>7</th>\n",
       "      <td>33665460546</td>\n",
       "      <td>30417885.0</td>\n",
       "    </tr>\n",
       "    <tr>\n",
       "      <th>8</th>\n",
       "      <td>33667163239</td>\n",
       "      <td>30335796.0</td>\n",
       "    </tr>\n",
       "    <tr>\n",
       "      <th>9</th>\n",
       "      <td>33698792269</td>\n",
       "      <td>29059042.0</td>\n",
       "    </tr>\n",
       "  </tbody>\n",
       "</table>\n",
       "</div>"
      ],
      "text/plain": [
       "   MSISDN/Number  Total Data Email\n",
       "0    33626320676        42418782.0\n",
       "1    33614892860        40788634.0\n",
       "2    33625779332        40633966.0\n",
       "3    33786323068        36310123.0\n",
       "4    33659725664        35999792.0\n",
       "5    33760536639        33693767.0\n",
       "6    33675877202        31514421.0\n",
       "7    33665460546        30417885.0\n",
       "8    33667163239        30335796.0\n",
       "9    33698792269        29059042.0"
      ]
     },
     "execution_count": 71,
     "metadata": {},
     "output_type": "execute_result"
    }
   ],
   "source": [
    "# Top 10 users engaged on Email\n",
    "dfEm.head(10)"
   ]
  },
  {
   "cell_type": "code",
   "execution_count": 72,
   "metadata": {},
   "outputs": [
    {
     "data": {
      "text/html": [
       "<div>\n",
       "<style scoped>\n",
       "    .dataframe tbody tr th:only-of-type {\n",
       "        vertical-align: middle;\n",
       "    }\n",
       "\n",
       "    .dataframe tbody tr th {\n",
       "        vertical-align: top;\n",
       "    }\n",
       "\n",
       "    .dataframe thead th {\n",
       "        text-align: right;\n",
       "    }\n",
       "</style>\n",
       "<table border=\"1\" class=\"dataframe\">\n",
       "  <thead>\n",
       "    <tr style=\"text-align: right;\">\n",
       "      <th></th>\n",
       "      <th>MSISDN/Number</th>\n",
       "      <th>Total Data Youtube</th>\n",
       "    </tr>\n",
       "  </thead>\n",
       "  <tbody>\n",
       "    <tr>\n",
       "      <th>0</th>\n",
       "      <td>33625779332</td>\n",
       "      <td>452958769.0</td>\n",
       "    </tr>\n",
       "    <tr>\n",
       "      <th>1</th>\n",
       "      <td>33760536639</td>\n",
       "      <td>396289198.0</td>\n",
       "    </tr>\n",
       "    <tr>\n",
       "      <th>2</th>\n",
       "      <td>33614892860</td>\n",
       "      <td>394370218.0</td>\n",
       "    </tr>\n",
       "    <tr>\n",
       "      <th>3</th>\n",
       "      <td>33626320676</td>\n",
       "      <td>374483047.0</td>\n",
       "    </tr>\n",
       "    <tr>\n",
       "      <th>4</th>\n",
       "      <td>33675877202</td>\n",
       "      <td>317410572.0</td>\n",
       "    </tr>\n",
       "    <tr>\n",
       "      <th>5</th>\n",
       "      <td>33667163239</td>\n",
       "      <td>315231310.0</td>\n",
       "    </tr>\n",
       "    <tr>\n",
       "      <th>6</th>\n",
       "      <td>33627080969</td>\n",
       "      <td>308790774.0</td>\n",
       "    </tr>\n",
       "    <tr>\n",
       "      <th>7</th>\n",
       "      <td>33760413819</td>\n",
       "      <td>303169107.0</td>\n",
       "    </tr>\n",
       "    <tr>\n",
       "      <th>8</th>\n",
       "      <td>33698792269</td>\n",
       "      <td>302661958.0</td>\n",
       "    </tr>\n",
       "    <tr>\n",
       "      <th>9</th>\n",
       "      <td>33603127838</td>\n",
       "      <td>284090139.0</td>\n",
       "    </tr>\n",
       "  </tbody>\n",
       "</table>\n",
       "</div>"
      ],
      "text/plain": [
       "   MSISDN/Number  Total Data Youtube\n",
       "0    33625779332         452958769.0\n",
       "1    33760536639         396289198.0\n",
       "2    33614892860         394370218.0\n",
       "3    33626320676         374483047.0\n",
       "4    33675877202         317410572.0\n",
       "5    33667163239         315231310.0\n",
       "6    33627080969         308790774.0\n",
       "7    33760413819         303169107.0\n",
       "8    33698792269         302661958.0\n",
       "9    33603127838         284090139.0"
      ]
     },
     "execution_count": 72,
     "metadata": {},
     "output_type": "execute_result"
    }
   ],
   "source": [
    "# Top 10 users engaged on Youtube\n",
    "dfYo.head(10)"
   ]
  },
  {
   "cell_type": "code",
   "execution_count": 73,
   "metadata": {},
   "outputs": [
    {
     "data": {
      "text/html": [
       "<div>\n",
       "<style scoped>\n",
       "    .dataframe tbody tr th:only-of-type {\n",
       "        vertical-align: middle;\n",
       "    }\n",
       "\n",
       "    .dataframe tbody tr th {\n",
       "        vertical-align: top;\n",
       "    }\n",
       "\n",
       "    .dataframe thead th {\n",
       "        text-align: right;\n",
       "    }\n",
       "</style>\n",
       "<table border=\"1\" class=\"dataframe\">\n",
       "  <thead>\n",
       "    <tr style=\"text-align: right;\">\n",
       "      <th></th>\n",
       "      <th>MSISDN/Number</th>\n",
       "      <th>Total Data Gaming</th>\n",
       "    </tr>\n",
       "  </thead>\n",
       "  <tbody>\n",
       "    <tr>\n",
       "      <th>0</th>\n",
       "      <td>33614892860</td>\n",
       "      <td>7749432234.0</td>\n",
       "    </tr>\n",
       "    <tr>\n",
       "      <th>1</th>\n",
       "      <td>33760536639</td>\n",
       "      <td>7461045228.0</td>\n",
       "    </tr>\n",
       "    <tr>\n",
       "      <th>2</th>\n",
       "      <td>33625779332</td>\n",
       "      <td>7326673487.0</td>\n",
       "    </tr>\n",
       "    <tr>\n",
       "      <th>3</th>\n",
       "      <td>33675877202</td>\n",
       "      <td>6970567597.0</td>\n",
       "    </tr>\n",
       "    <tr>\n",
       "      <th>4</th>\n",
       "      <td>33626320676</td>\n",
       "      <td>6887572116.0</td>\n",
       "    </tr>\n",
       "    <tr>\n",
       "      <th>5</th>\n",
       "      <td>33659725664</td>\n",
       "      <td>6725559211.0</td>\n",
       "    </tr>\n",
       "    <tr>\n",
       "      <th>6</th>\n",
       "      <td>33666464084</td>\n",
       "      <td>6646303338.0</td>\n",
       "    </tr>\n",
       "    <tr>\n",
       "      <th>7</th>\n",
       "      <td>33760413819</td>\n",
       "      <td>6268619592.0</td>\n",
       "    </tr>\n",
       "    <tr>\n",
       "      <th>8</th>\n",
       "      <td>33664712899</td>\n",
       "      <td>6103856008.0</td>\n",
       "    </tr>\n",
       "    <tr>\n",
       "      <th>9</th>\n",
       "      <td>33698792269</td>\n",
       "      <td>5753743069.0</td>\n",
       "    </tr>\n",
       "  </tbody>\n",
       "</table>\n",
       "</div>"
      ],
      "text/plain": [
       "   MSISDN/Number  Total Data Gaming\n",
       "0    33614892860       7749432234.0\n",
       "1    33760536639       7461045228.0\n",
       "2    33625779332       7326673487.0\n",
       "3    33675877202       6970567597.0\n",
       "4    33626320676       6887572116.0\n",
       "5    33659725664       6725559211.0\n",
       "6    33666464084       6646303338.0\n",
       "7    33760413819       6268619592.0\n",
       "8    33664712899       6103856008.0\n",
       "9    33698792269       5753743069.0"
      ]
     },
     "execution_count": 73,
     "metadata": {},
     "output_type": "execute_result"
    }
   ],
   "source": [
    "# Top 10 users engaged in Gaming\n",
    "dfGa.head(10)"
   ]
  },
  {
   "cell_type": "code",
   "execution_count": 74,
   "metadata": {},
   "outputs": [
    {
     "data": {
      "text/html": [
       "<div>\n",
       "<style scoped>\n",
       "    .dataframe tbody tr th:only-of-type {\n",
       "        vertical-align: middle;\n",
       "    }\n",
       "\n",
       "    .dataframe tbody tr th {\n",
       "        vertical-align: top;\n",
       "    }\n",
       "\n",
       "    .dataframe thead th {\n",
       "        text-align: right;\n",
       "    }\n",
       "</style>\n",
       "<table border=\"1\" class=\"dataframe\">\n",
       "  <thead>\n",
       "    <tr style=\"text-align: right;\">\n",
       "      <th></th>\n",
       "      <th>MSISDN/Number</th>\n",
       "      <th>Total Data Other</th>\n",
       "    </tr>\n",
       "  </thead>\n",
       "  <tbody>\n",
       "    <tr>\n",
       "      <th>0</th>\n",
       "      <td>33626320676</td>\n",
       "      <td>8167877776.0</td>\n",
       "    </tr>\n",
       "    <tr>\n",
       "      <th>1</th>\n",
       "      <td>33614892860</td>\n",
       "      <td>7639263572.0</td>\n",
       "    </tr>\n",
       "    <tr>\n",
       "      <th>2</th>\n",
       "      <td>33675877202</td>\n",
       "      <td>6798515150.0</td>\n",
       "    </tr>\n",
       "    <tr>\n",
       "      <th>3</th>\n",
       "      <td>33625779332</td>\n",
       "      <td>6354583086.0</td>\n",
       "    </tr>\n",
       "    <tr>\n",
       "      <th>4</th>\n",
       "      <td>33603127838</td>\n",
       "      <td>6326670874.0</td>\n",
       "    </tr>\n",
       "    <tr>\n",
       "      <th>5</th>\n",
       "      <td>33659725664</td>\n",
       "      <td>6317415487.0</td>\n",
       "    </tr>\n",
       "    <tr>\n",
       "      <th>6</th>\n",
       "      <td>33626948251</td>\n",
       "      <td>5305447882.0</td>\n",
       "    </tr>\n",
       "    <tr>\n",
       "      <th>7</th>\n",
       "      <td>33627080969</td>\n",
       "      <td>5117790890.0</td>\n",
       "    </tr>\n",
       "    <tr>\n",
       "      <th>8</th>\n",
       "      <td>33761268199</td>\n",
       "      <td>5077779438.0</td>\n",
       "    </tr>\n",
       "    <tr>\n",
       "      <th>9</th>\n",
       "      <td>33658361927</td>\n",
       "      <td>5013650844.0</td>\n",
       "    </tr>\n",
       "  </tbody>\n",
       "</table>\n",
       "</div>"
      ],
      "text/plain": [
       "   MSISDN/Number  Total Data Other\n",
       "0    33626320676      8167877776.0\n",
       "1    33614892860      7639263572.0\n",
       "2    33675877202      6798515150.0\n",
       "3    33625779332      6354583086.0\n",
       "4    33603127838      6326670874.0\n",
       "5    33659725664      6317415487.0\n",
       "6    33626948251      5305447882.0\n",
       "7    33627080969      5117790890.0\n",
       "8    33761268199      5077779438.0\n",
       "9    33658361927      5013650844.0"
      ]
     },
     "execution_count": 74,
     "metadata": {},
     "output_type": "execute_result"
    }
   ],
   "source": [
    "# Top 10 users engaged in other applications\n",
    "dfOt.head(10)"
   ]
  },
  {
   "cell_type": "code",
   "execution_count": 75,
   "metadata": {},
   "outputs": [
    {
     "data": {
      "text/html": [
       "<div>\n",
       "<style scoped>\n",
       "    .dataframe tbody tr th:only-of-type {\n",
       "        vertical-align: middle;\n",
       "    }\n",
       "\n",
       "    .dataframe tbody tr th {\n",
       "        vertical-align: top;\n",
       "    }\n",
       "\n",
       "    .dataframe thead th {\n",
       "        text-align: right;\n",
       "    }\n",
       "</style>\n",
       "<table border=\"1\" class=\"dataframe\">\n",
       "  <thead>\n",
       "    <tr style=\"text-align: right;\">\n",
       "      <th></th>\n",
       "      <th>MSISDN/Number</th>\n",
       "      <th>Total Data Netflix</th>\n",
       "    </tr>\n",
       "  </thead>\n",
       "  <tbody>\n",
       "    <tr>\n",
       "      <th>0</th>\n",
       "      <td>33659725664</td>\n",
       "      <td>399519079.0</td>\n",
       "    </tr>\n",
       "    <tr>\n",
       "      <th>1</th>\n",
       "      <td>33614892860</td>\n",
       "      <td>361401046.0</td>\n",
       "    </tr>\n",
       "    <tr>\n",
       "      <th>2</th>\n",
       "      <td>33625779332</td>\n",
       "      <td>356980607.0</td>\n",
       "    </tr>\n",
       "    <tr>\n",
       "      <th>3</th>\n",
       "      <td>33760536639</td>\n",
       "      <td>334643269.0</td>\n",
       "    </tr>\n",
       "    <tr>\n",
       "      <th>4</th>\n",
       "      <td>33626320676</td>\n",
       "      <td>328725740.0</td>\n",
       "    </tr>\n",
       "    <tr>\n",
       "      <th>5</th>\n",
       "      <td>33760413819</td>\n",
       "      <td>318347546.0</td>\n",
       "    </tr>\n",
       "    <tr>\n",
       "      <th>6</th>\n",
       "      <td>33667163239</td>\n",
       "      <td>313939488.0</td>\n",
       "    </tr>\n",
       "    <tr>\n",
       "      <th>7</th>\n",
       "      <td>33675877202</td>\n",
       "      <td>309093159.0</td>\n",
       "    </tr>\n",
       "    <tr>\n",
       "      <th>8</th>\n",
       "      <td>33786323068</td>\n",
       "      <td>305939790.0</td>\n",
       "    </tr>\n",
       "    <tr>\n",
       "      <th>9</th>\n",
       "      <td>33761268199</td>\n",
       "      <td>292091341.0</td>\n",
       "    </tr>\n",
       "  </tbody>\n",
       "</table>\n",
       "</div>"
      ],
      "text/plain": [
       "   MSISDN/Number  Total Data Netflix\n",
       "0    33659725664         399519079.0\n",
       "1    33614892860         361401046.0\n",
       "2    33625779332         356980607.0\n",
       "3    33760536639         334643269.0\n",
       "4    33626320676         328725740.0\n",
       "5    33760413819         318347546.0\n",
       "6    33667163239         313939488.0\n",
       "7    33675877202         309093159.0\n",
       "8    33786323068         305939790.0\n",
       "9    33761268199         292091341.0"
      ]
     },
     "execution_count": 75,
     "metadata": {},
     "output_type": "execute_result"
    }
   ],
   "source": [
    "# Top 10 users engaged on Netflix\n",
    "dfNe.head(10)"
   ]
  },
  {
   "cell_type": "markdown",
   "metadata": {},
   "source": [
    "### plot the top 3 most used applications"
   ]
  },
  {
   "cell_type": "code",
   "execution_count": 76,
   "metadata": {},
   "outputs": [],
   "source": [
    "# Creating a dataframe of all the aggregated application data\n",
    "dfAppsAgg = pd.merge(dfSm, dfGo, on='MSISDN/Number')\n",
    "dfAppsAgg = pd.merge(dfAppsAgg, dfEm, on='MSISDN/Number')\n",
    "dfAppsAgg = pd.merge(dfAppsAgg, dfYo, on='MSISDN/Number')\n",
    "dfAppsAgg = pd.merge(dfAppsAgg, dfNe, on='MSISDN/Number')\n",
    "dfAppsAgg = pd.merge(dfAppsAgg, dfGa, on='MSISDN/Number')\n",
    "dfAppsAgg = pd.merge(dfAppsAgg, dfOt, on='MSISDN/Number')"
   ]
  },
  {
   "cell_type": "code",
   "execution_count": 77,
   "metadata": {},
   "outputs": [
    {
     "data": {
      "text/html": [
       "<div>\n",
       "<style scoped>\n",
       "    .dataframe tbody tr th:only-of-type {\n",
       "        vertical-align: middle;\n",
       "    }\n",
       "\n",
       "    .dataframe tbody tr th {\n",
       "        vertical-align: top;\n",
       "    }\n",
       "\n",
       "    .dataframe thead th {\n",
       "        text-align: right;\n",
       "    }\n",
       "</style>\n",
       "<table border=\"1\" class=\"dataframe\">\n",
       "  <thead>\n",
       "    <tr style=\"text-align: right;\">\n",
       "      <th></th>\n",
       "      <th>Total Data Gaming</th>\n",
       "      <th>Total Data Other</th>\n",
       "      <th>Total Data Youtube</th>\n",
       "    </tr>\n",
       "  </thead>\n",
       "  <tbody>\n",
       "    <tr>\n",
       "      <th>0</th>\n",
       "      <td>6.408891741e+13</td>\n",
       "      <td>6.395425252e+13</td>\n",
       "      <td>3.372204313e+12</td>\n",
       "    </tr>\n",
       "  </tbody>\n",
       "</table>\n",
       "</div>"
      ],
      "text/plain": [
       "   Total Data Gaming  Total Data Other  Total Data Youtube\n",
       "0    6.408891741e+13   6.395425252e+13     3.372204313e+12"
      ]
     },
     "execution_count": 77,
     "metadata": {},
     "output_type": "execute_result"
    }
   ],
   "source": [
    "# finding the top 3 applications  \n",
    "top3 = dfAppsAgg.sum().nlargest(4)[1:]\n",
    "dfTop3 = pd.DataFrame(top3).transpose()\n",
    "dfTop3.head()"
   ]
  },
  {
   "cell_type": "code",
   "execution_count": 78,
   "metadata": {},
   "outputs": [
    {
     "data": {
      "text/plain": [
       "Text(0.5, 1.0, 'Top Three Application data')"
      ]
     },
     "execution_count": 78,
     "metadata": {},
     "output_type": "execute_result"
    },
    {
     "data": {
      "image/png": "[encoded data removed]",
      "text/plain": [
       "<Figure size 432x288 with 1 Axes>"
      ]
     },
     "metadata": {
      "needs_background": "light"
     },
     "output_type": "display_data"
    }
   ],
   "source": [
    "# Top 3 bar plot\n",
    "sns.barplot(data=dfTop3).set_title('Top Three Application data')"
   ]
  },
  {
   "cell_type": "code",
   "execution_count": 79,
   "metadata": {},
   "outputs": [
    {
     "data": {
      "text/plain": [
       "[Text(0, 0, 'Social Media'),\n",
       " Text(0, 0, 'Google'),\n",
       " Text(0, 0, 'Email'),\n",
       " Text(0, 0, 'Youtube'),\n",
       " Text(0, 0, 'Netflix'),\n",
       " Text(0, 0, 'Gaming'),\n",
       " Text(0, 0, 'Other')]"
      ]
     },
     "execution_count": 79,
     "metadata": {},
     "output_type": "execute_result"
    },
    {
     "data": {
      "image/png": "[encoded data removed]",
      "text/plain": [
       "<Figure size 432x288 with 1 Axes>"
      ]
     },
     "metadata": {
      "needs_background": "light"
     },
     "output_type": "display_data"
    }
   ],
   "source": [
    "# All application total data graph\n",
    "alles = dfAppsAgg.sum()[1:]\n",
    "dfAlles = pd.DataFrame(alles).transpose()\n",
    "# dfAlles.plot.bar(rot=40)\n",
    "xTicks = ['Social Media', 'Google', 'Email', 'Youtube', 'Netflix', 'Gaming', 'Other']\n",
    "chart = sns.barplot(data=dfAlles)\n",
    "chart.set_title('Total Application data')\n",
    "chart.set_xticklabels(xTicks, rotation=45)"
   ]
  },
  {
   "cell_type": "code",
   "execution_count": null,
   "metadata": {},
   "outputs": [],
   "source": []
  },
  {
   "cell_type": "markdown",
   "metadata": {},
   "source": [
    "###  k engagement clusters based on the engagement metrics"
   ]
  },
  {
   "cell_type": "code",
   "execution_count": 80,
   "metadata": {},
   "outputs": [
    {
     "data": {
      "image/png": "[encoded data removed]",
      "text/plain": [
       "<Figure size 432x288 with 1 Axes>"
      ]
     },
     "metadata": {
      "needs_background": "light"
     },
     "output_type": "display_data"
    }
   ],
   "source": [
    "# Using the eblow method to find out the optimal number of cluters\n",
    "wcss =  []\n",
    "\n",
    "#this loop will fit the k-means algorithm to our data and second we will compute \n",
    "#the within cluster sum of squares and appended to our wcss list.\n",
    "for k in range(1, 11):\n",
    "    #Building and fitting the model \n",
    "    kmeanModel = KMeans(n_clusters=k,init='k-means++', random_state=0)\n",
    "    kmeanModel.fit(dfNom)     \n",
    "    \n",
    "    # kmeans inertia_ attribute is:  Sum of squared distances of samples to their closest cluster center\n",
    "    wcss.append(kmeanModel.inertia_)\n",
    "\n",
    "# Plot the elbow graph\n",
    "plt.plot(range(1,11),wcss)\n",
    "plt.title('The Elbow Method Graph')\n",
    "plt.xlabel('Number of clusters')\n",
    "plt.ylabel('WCSS')\n",
    "plt.show()"
   ]
  },
  {
   "cell_type": "code",
   "execution_count": null,
   "metadata": {},
   "outputs": [],
   "source": []
  },
  {
   "cell_type": "markdown",
   "metadata": {},
   "source": [
    "# Task 3 Experience Analysis"
   ]
  },
  {
   "cell_type": "code",
   "execution_count": 81,
   "metadata": {},
   "outputs": [],
   "source": [
    "# Creating data suitable for Experience Analysis\n",
    "dfEA = df2.loc[:, 'Bearer Id':'TCP UL Retrans. Vol (Bytes)']\n",
    "dfEA = dfEA.drop(['Bearer Id','Start', 'Start ms', 'End', 'End ms', 'Dur. (ms)', 'IMSI',\n",
    "       'MSISDN/Number', 'IMEI', 'Last Location Name'], axis=1)\n",
    "\n",
    "# removing the null values in the data\n",
    "dfEA= dfEA.apply(lambda x: x.fillna(x.mean()), axis=0)\n",
    "dfEA['MSISDN/Number'] = df2['MSISDN/Number']"
   ]
  },
  {
   "cell_type": "code",
   "execution_count": 82,
   "metadata": {},
   "outputs": [],
   "source": [
    "# Summing the Uploads and Downloads columns to get the Total data columns\n",
    "dfEA['Avg RTT'] = dfEA['Avg RTT DL (ms)'] + dfEA['Avg RTT UL (ms)']\n",
    "dfEA['Avg Bearer TP (MegaBytes)'] = dfEA['Avg Bearer TP DL (kbps)'] + dfEA['Avg Bearer TP UL (kbps)']\n",
    "dfEA['TCP Retrans. Vol (MegaBytes)'] = dfEA['TCP DL Retrans. Vol (Bytes)'] + dfEA['TCP UL Retrans. Vol (Bytes)']\n",
    "\n",
    "# Turning the Data columns into MegaBytes\n",
    "dfEA['Avg Bearer TP (MegaBytes)'] = dfEA['Avg Bearer TP (MegaBytes)'] / 1000\n",
    "dfEA['TCP Retrans. Vol (MegaBytes)'] = dfEA['TCP Retrans. Vol (MegaBytes)']/1000000\n",
    "dfEA = dfEA.loc[:, 'MSISDN/Number':'TCP Retrans. Vol (MegaBytes)']"
   ]
  },
  {
   "cell_type": "code",
   "execution_count": 83,
   "metadata": {},
   "outputs": [
    {
     "data": {
      "text/html": [
       "<div>\n",
       "<style scoped>\n",
       "    .dataframe tbody tr th:only-of-type {\n",
       "        vertical-align: middle;\n",
       "    }\n",
       "\n",
       "    .dataframe tbody tr th {\n",
       "        vertical-align: top;\n",
       "    }\n",
       "\n",
       "    .dataframe thead th {\n",
       "        text-align: right;\n",
       "    }\n",
       "</style>\n",
       "<table border=\"1\" class=\"dataframe\">\n",
       "  <thead>\n",
       "    <tr style=\"text-align: right;\">\n",
       "      <th></th>\n",
       "      <th>Avg RTT</th>\n",
       "      <th>Avg Bearer TP (MegaBytes)</th>\n",
       "      <th>TCP Retrans. Vol (MegaBytes)</th>\n",
       "    </tr>\n",
       "    <tr>\n",
       "      <th>MSISDN/Number</th>\n",
       "      <th></th>\n",
       "      <th></th>\n",
       "      <th></th>\n",
       "    </tr>\n",
       "  </thead>\n",
       "  <tbody>\n",
       "    <tr>\n",
       "      <th>33601001722</th>\n",
       "      <td>46.000000000</td>\n",
       "      <td>0.076</td>\n",
       "      <td>21.650430771</td>\n",
       "    </tr>\n",
       "    <tr>\n",
       "      <th>33601001754</th>\n",
       "      <td>31.000000000</td>\n",
       "      <td>0.099</td>\n",
       "      <td>21.650430771</td>\n",
       "    </tr>\n",
       "    <tr>\n",
       "      <th>33601002511</th>\n",
       "      <td>125.861975683</td>\n",
       "      <td>0.097</td>\n",
       "      <td>21.650430771</td>\n",
       "    </tr>\n",
       "    <tr>\n",
       "      <th>33601007832</th>\n",
       "      <td>84.000000000</td>\n",
       "      <td>0.248</td>\n",
       "      <td>0.767313496</td>\n",
       "    </tr>\n",
       "    <tr>\n",
       "      <th>33601008617</th>\n",
       "      <td>119.000000000</td>\n",
       "      <td>56.844</td>\n",
       "      <td>31.021262771</td>\n",
       "    </tr>\n",
       "    <tr>\n",
       "      <th>...</th>\n",
       "      <td>...</td>\n",
       "      <td>...</td>\n",
       "      <td>...</td>\n",
       "    </tr>\n",
       "    <tr>\n",
       "      <th>33789996170</th>\n",
       "      <td>52.000000000</td>\n",
       "      <td>10.365</td>\n",
       "      <td>0.218045000</td>\n",
       "    </tr>\n",
       "    <tr>\n",
       "      <th>33789997247</th>\n",
       "      <td>40.000000000</td>\n",
       "      <td>0.116</td>\n",
       "      <td>21.650430771</td>\n",
       "    </tr>\n",
       "    <tr>\n",
       "      <th>3197020876596</th>\n",
       "      <td>125.861975683</td>\n",
       "      <td>0.001</td>\n",
       "      <td>21.650430771</td>\n",
       "    </tr>\n",
       "    <tr>\n",
       "      <th>337000037000919</th>\n",
       "      <td>125.861975683</td>\n",
       "      <td>0.033</td>\n",
       "      <td>21.650430771</td>\n",
       "    </tr>\n",
       "    <tr>\n",
       "      <th>882397108489451</th>\n",
       "      <td>125.861975683</td>\n",
       "      <td>0.002</td>\n",
       "      <td>21.650430771</td>\n",
       "    </tr>\n",
       "  </tbody>\n",
       "</table>\n",
       "<p>106856 rows × 3 columns</p>\n",
       "</div>"
      ],
      "text/plain": [
       "                       Avg RTT  Avg Bearer TP (MegaBytes)  \\\n",
       "MSISDN/Number                                               \n",
       "33601001722       46.000000000                      0.076   \n",
       "33601001754       31.000000000                      0.099   \n",
       "33601002511      125.861975683                      0.097   \n",
       "33601007832       84.000000000                      0.248   \n",
       "33601008617      119.000000000                     56.844   \n",
       "...                        ...                        ...   \n",
       "33789996170       52.000000000                     10.365   \n",
       "33789997247       40.000000000                      0.116   \n",
       "3197020876596    125.861975683                      0.001   \n",
       "337000037000919  125.861975683                      0.033   \n",
       "882397108489451  125.861975683                      0.002   \n",
       "\n",
       "                 TCP Retrans. Vol (MegaBytes)  \n",
       "MSISDN/Number                                  \n",
       "33601001722                      21.650430771  \n",
       "33601001754                      21.650430771  \n",
       "33601002511                      21.650430771  \n",
       "33601007832                       0.767313496  \n",
       "33601008617                      31.021262771  \n",
       "...                                       ...  \n",
       "33789996170                       0.218045000  \n",
       "33789997247                      21.650430771  \n",
       "3197020876596                    21.650430771  \n",
       "337000037000919                  21.650430771  \n",
       "882397108489451                  21.650430771  \n",
       "\n",
       "[106856 rows x 3 columns]"
      ]
     },
     "execution_count": 83,
     "metadata": {},
     "output_type": "execute_result"
    }
   ],
   "source": [
    "# aggregating the Users\n",
    "dfEA['Handset Type'] = df2['Handset Type']\n",
    "dfEA.groupby('MSISDN/Number').agg('sum')"
   ]
  },
  {
   "cell_type": "markdown",
   "metadata": {},
   "source": [
    "### 10 of the top, bottom and most frequent"
   ]
  },
  {
   "cell_type": "code",
   "execution_count": 84,
   "metadata": {},
   "outputs": [
    {
     "data": {
      "text/plain": [
       "MSISDN/Number\n",
       "33662317023    96924.0\n",
       "33660874265    64670.0\n",
       "33683692867    54848.0\n",
       "33698551167    46021.0\n",
       "33761813523    37084.0\n",
       "33668791629    36304.0\n",
       "33760941100    27278.0\n",
       "33606788933    26300.0\n",
       "33671816754    25715.0\n",
       "33781865588    25388.0\n",
       "Name: Avg RTT, dtype: float64"
      ]
     },
     "execution_count": 84,
     "metadata": {},
     "output_type": "execute_result"
    }
   ],
   "source": [
    "# Top 10 Average RTT\n",
    "dfEA.groupby('MSISDN/Number')['Avg RTT'].sum().sort_values(ascending=False)[:10]"
   ]
  },
  {
   "cell_type": "code",
   "execution_count": 85,
   "metadata": {},
   "outputs": [
    {
     "data": {
      "text/plain": [
       "MSISDN/Number\n",
       "33626320676    18\n",
       "33614892860    17\n",
       "33625779332    17\n",
       "33659725664    16\n",
       "33675877202    15\n",
       "33760536639    15\n",
       "33667163239    13\n",
       "33627080969    12\n",
       "33760413819    12\n",
       "33786323068    12\n",
       "Name: Avg RTT, dtype: int64"
      ]
     },
     "execution_count": 85,
     "metadata": {},
     "output_type": "execute_result"
    }
   ],
   "source": [
    "# Top 10 users with the Most Avg RTT\n",
    "dfEA.groupby('MSISDN/Number')['Avg RTT'].count().sort_values(ascending=False)[:10]"
   ]
  },
  {
   "cell_type": "code",
   "execution_count": 86,
   "metadata": {},
   "outputs": [
    {
     "data": {
      "text/plain": [
       "MSISDN/Number\n",
       "33634684770    10.0\n",
       "33610846366     9.0\n",
       "33672196893     9.0\n",
       "33647679481     8.0\n",
       "33668619895     6.0\n",
       "33659493541     5.0\n",
       "33695045499     4.0\n",
       "33660204450     2.0\n",
       "33652982188     0.0\n",
       "33661575382     0.0\n",
       "Name: Avg RTT, dtype: float64"
      ]
     },
     "execution_count": 86,
     "metadata": {},
     "output_type": "execute_result"
    }
   ],
   "source": [
    "# The bottom 10 Avg RTT users \n",
    "dfEA.groupby('MSISDN/Number')['Avg RTT'].sum().sort_values(ascending=False)[-10:]"
   ]
  },
  {
   "cell_type": "code",
   "execution_count": 87,
   "metadata": {},
   "outputs": [
    {
     "data": {
      "text/plain": [
       "MSISDN/Number\n",
       "33762333464    902.222\n",
       "33668708263    840.424\n",
       "33659546392    798.342\n",
       "33669946573    690.815\n",
       "33668425947    676.858\n",
       "33698174760    618.797\n",
       "33625700673    564.179\n",
       "33658075438    550.352\n",
       "33762644658    549.661\n",
       "33665658364    530.353\n",
       "Name: Avg Bearer TP (MegaBytes), dtype: float64"
      ]
     },
     "execution_count": 87,
     "metadata": {},
     "output_type": "execute_result"
    }
   ],
   "source": [
    "# Top 10 Avg Bearers\n",
    "dfEA.groupby('MSISDN/Number')['Avg Bearer TP (MegaBytes)'].sum().sort_values(ascending=False)[:10]"
   ]
  },
  {
   "cell_type": "code",
   "execution_count": 88,
   "metadata": {},
   "outputs": [
    {
     "data": {
      "text/plain": [
       "MSISDN/Number\n",
       "33660339983    0.0\n",
       "33688862447    0.0\n",
       "33659078720    0.0\n",
       "33611523366    0.0\n",
       "33698045169    0.0\n",
       "33698591046    0.0\n",
       "33659471143    0.0\n",
       "33659337161    0.0\n",
       "33610640063    0.0\n",
       "33777761538    0.0\n",
       "Name: Avg Bearer TP (MegaBytes), dtype: float64"
      ]
     },
     "execution_count": 88,
     "metadata": {},
     "output_type": "execute_result"
    }
   ],
   "source": [
    "# Bottom 10 Avg Bearer TP users\n",
    "dfEA.groupby('MSISDN/Number')['Avg Bearer TP (MegaBytes)'].sum().sort_values(ascending=False)[-10:]"
   ]
  },
  {
   "cell_type": "code",
   "execution_count": 89,
   "metadata": {},
   "outputs": [
    {
     "data": {
      "text/plain": [
       "MSISDN/Number\n",
       "33626320676    18\n",
       "33614892860    17\n",
       "33625779332    17\n",
       "33659725664    16\n",
       "33675877202    15\n",
       "33760536639    15\n",
       "33667163239    13\n",
       "33627080969    12\n",
       "33760413819    12\n",
       "33786323068    12\n",
       "Name: Avg Bearer TP (MegaBytes), dtype: int64"
      ]
     },
     "execution_count": 89,
     "metadata": {},
     "output_type": "execute_result"
    }
   ],
   "source": [
    "# Top 10 users with the Most Avg Bearer TP\n",
    "dfEA.groupby('MSISDN/Number')['Avg Bearer TP (MegaBytes)'].count().sort_values(ascending=False)[0:10]"
   ]
  },
  {
   "cell_type": "code",
   "execution_count": 90,
   "metadata": {},
   "outputs": [
    {
     "data": {
      "text/plain": [
       "MSISDN/Number\n",
       "33667725464    8354.209105000\n",
       "33659084281    7941.860302000\n",
       "33660977522    7374.905307496\n",
       "33761284050    6043.978448000\n",
       "33762644658    5879.989037000\n",
       "33650658056    5593.366107000\n",
       "33663180885    5566.928580000\n",
       "33669054076    5195.865394771\n",
       "33763572381    5179.458974000\n",
       "33658638625    5165.856986000\n",
       "Name: TCP Retrans. Vol (MegaBytes), dtype: float64"
      ]
     },
     "execution_count": 90,
     "metadata": {},
     "output_type": "execute_result"
    }
   ],
   "source": [
    "# Top 10 TCP Retrans. Vol users\n",
    "dfEA.groupby('MSISDN/Number')['TCP Retrans. Vol (MegaBytes)'].sum().sort_values(ascending=False)[0:10]"
   ]
  },
  {
   "cell_type": "code",
   "execution_count": 91,
   "metadata": {},
   "outputs": [
    {
     "data": {
      "text/plain": [
       "MSISDN/Number\n",
       "33699694715    0.000182\n",
       "33679366089    0.000179\n",
       "33784203839    0.000177\n",
       "33650681239    0.000176\n",
       "33769636458    0.000176\n",
       "33607833304    0.000143\n",
       "33626357513    0.000134\n",
       "33762062356    0.000129\n",
       "33614777138    0.000128\n",
       "33650128412    0.000097\n",
       "Name: TCP Retrans. Vol (MegaBytes), dtype: float64"
      ]
     },
     "execution_count": 91,
     "metadata": {},
     "output_type": "execute_result"
    }
   ],
   "source": [
    "# Bottom 10 TCP Retrans. Vol users\n",
    "dfEA.groupby('MSISDN/Number')['TCP Retrans. Vol (MegaBytes)'].sum().sort_values(ascending=False)[-10:]"
   ]
  },
  {
   "cell_type": "code",
   "execution_count": 92,
   "metadata": {},
   "outputs": [
    {
     "data": {
      "text/plain": [
       "MSISDN/Number\n",
       "33626320676    18\n",
       "33614892860    17\n",
       "33625779332    17\n",
       "33659725664    16\n",
       "33675877202    15\n",
       "33760536639    15\n",
       "33667163239    13\n",
       "33627080969    12\n",
       "33760413819    12\n",
       "33786323068    12\n",
       "Name: TCP Retrans. Vol (MegaBytes), dtype: int64"
      ]
     },
     "execution_count": 92,
     "metadata": {},
     "output_type": "execute_result"
    }
   ],
   "source": [
    "# Top 10 users with the Most TCP Retrans. Vol\n",
    "dfEA.groupby('MSISDN/Number')['TCP Retrans. Vol (MegaBytes)'].count().sort_values(ascending=False)[:10]"
   ]
  },
  {
   "cell_type": "markdown",
   "metadata": {},
   "source": [
    "### distribution of the average throughput  per handset type"
   ]
  },
  {
   "cell_type": "code",
   "execution_count": 93,
   "metadata": {},
   "outputs": [
    {
     "data": {
      "text/plain": [
       "Text(0.5, 1.0, 'Average Throughput per handset type')"
      ]
     },
     "execution_count": 93,
     "metadata": {},
     "output_type": "execute_result"
    },
    {
     "data": {
      "image/png": "[encoded data removed]",
      "text/plain": [
       "<Figure size 432x288 with 1 Axes>"
      ]
     },
     "metadata": {
      "needs_background": "light"
     },
     "output_type": "display_data"
    }
   ],
   "source": [
    "# Getting the Average throughput per handset type\n",
    "avgThr = dfEA.groupby('Handset Type')['Avg Bearer TP (MegaBytes)'].mean()\n",
    "dfAvgThr = pd.DataFrame({'Handset Type': avgThr.index, 'Avg throughput':avgThr.values})\n",
    "\n",
    "# plotting the first 15 handset sinces the devices are too many to represent well\n",
    "sns.distplot(dfAvgThr['Avg throughput']).set_title('Average Throughput per handset type')\n"
   ]
  },
  {
   "cell_type": "code",
   "execution_count": 137,
   "metadata": {},
   "outputs": [
    {
     "data": {
      "text/plain": [
       "[Text(0, 0, 'A-Link Telecom I. Cubot A5'),\n",
       " Text(0, 0, 'A-Link Telecom I. Cubot Note Plus'),\n",
       " Text(0, 0, 'A-Link Telecom I. Cubot Note S'),\n",
       " Text(0, 0, 'A-Link Telecom I. Cubot Nova'),\n",
       " Text(0, 0, 'A-Link Telecom I. Cubot Power'),\n",
       " Text(0, 0, 'A-Link Telecom I. Cubot R9'),\n",
       " Text(0, 0, 'A-Link Telecom I. Cubot X18 Plus'),\n",
       " Text(0, 0, 'Acer Liquid M220'),\n",
       " Text(0, 0, 'Acer Liquid Z220'),\n",
       " Text(0, 0, 'Acer Liquid Z530'),\n",
       " Text(0, 0, 'Acer Liquid Z630'),\n",
       " Text(0, 0, 'Acer Liquid Zest 4G'),\n",
       " Text(0, 0, 'Acer Liquid Zest Plus'),\n",
       " Text(0, 0, 'Acer M310'),\n",
       " Text(0, 0, 'Acer V370 Acer V370 Liquid E2 Duo'),\n",
       " Text(0, 0, 'Acer Zx Z130'),\n",
       " Text(0, 0, 'Adar Stanley Mobile S231'),\n",
       " Text(0, 0, 'Alif Communicati. Pulian Cm84'),\n",
       " Text(0, 0, 'Apple iPad (A1823)'),\n",
       " Text(0, 0, 'Apple iPad (A1954)'),\n",
       " Text(0, 0, 'Apple iPad 2 (A1396)'),\n",
       " Text(0, 0, 'Apple iPad 3 (A1430)'),\n",
       " Text(0, 0, 'Apple iPad 4 (A1460)'),\n",
       " Text(0, 0, 'Apple iPad Air (A1475)'),\n",
       " Text(0, 0, 'Apple iPad Air 2 (A1567)')]"
      ]
     },
     "execution_count": 137,
     "metadata": {},
     "output_type": "execute_result"
    },
    {
     "data": {
      "image/png": "[encoded data removed]",
      "text/plain": [
       "<Figure size 842.4x595.44 with 1 Axes>"
      ]
     },
     "metadata": {
      "needs_background": "light"
     },
     "output_type": "display_data"
    }
   ],
   "source": [
    "a4_dims = (11.7, 8.27)\n",
    "fig, ax = plt.subplots(figsize=a4_dims)\n",
    "char = sns.barplot(x='Handset Type', y='Avg throughput', data=dfAvgThr.head(25))\n",
    "char.set_xticklabels(char.get_xticklabels(), rotation=90)"
   ]
  },
  {
   "cell_type": "code",
   "execution_count": 128,
   "metadata": {},
   "outputs": [
    {
     "data": {
      "text/plain": [
       "Text(0.5, 1.0, 'TCP Retransmission per handset type')"
      ]
     },
     "execution_count": 128,
     "metadata": {},
     "output_type": "execute_result"
    },
    {
     "data": {
      "image/png": "[encoded data removed]",
      "text/plain": [
       "<Figure size 432x288 with 1 Axes>"
      ]
     },
     "metadata": {
      "needs_background": "light"
     },
     "output_type": "display_data"
    }
   ],
   "source": [
    "# Getting the TCP Retransmission per handset type\n",
    "avgTcp = dfEA.groupby('Handset Type')['TCP Retrans. Vol (MegaBytes)'].mean()\n",
    "dfAvgTcp = pd.DataFrame({'Handset Type': avgTcp.index, 'Avg TCP Retrans. Vol':avgTcp.values})\n",
    "\n",
    "# plotting the top 15 handset sinces the devices are too many to represent well\n",
    "sns.distplot(dfAvgTcp['Avg TCP Retrans. Vol']).set_title('TCP Retransmission per handset type')"
   ]
  },
  {
   "cell_type": "code",
   "execution_count": 129,
   "metadata": {},
   "outputs": [
    {
     "data": {
      "text/html": [
       "<div>\n",
       "<style scoped>\n",
       "    .dataframe tbody tr th:only-of-type {\n",
       "        vertical-align: middle;\n",
       "    }\n",
       "\n",
       "    .dataframe tbody tr th {\n",
       "        vertical-align: top;\n",
       "    }\n",
       "\n",
       "    .dataframe thead th {\n",
       "        text-align: right;\n",
       "    }\n",
       "</style>\n",
       "<table border=\"1\" class=\"dataframe\">\n",
       "  <thead>\n",
       "    <tr style=\"text-align: right;\">\n",
       "      <th></th>\n",
       "      <th>Handset Type</th>\n",
       "      <th>Avg TCP Retrans. Vol</th>\n",
       "    </tr>\n",
       "  </thead>\n",
       "  <tbody>\n",
       "    <tr>\n",
       "      <th>0</th>\n",
       "      <td>A-Link Telecom I. Cubot A5</td>\n",
       "      <td>21.650430771</td>\n",
       "    </tr>\n",
       "    <tr>\n",
       "      <th>1</th>\n",
       "      <td>A-Link Telecom I. Cubot Note Plus</td>\n",
       "      <td>0.616213000</td>\n",
       "    </tr>\n",
       "    <tr>\n",
       "      <th>2</th>\n",
       "      <td>A-Link Telecom I. Cubot Note S</td>\n",
       "      <td>41.411731000</td>\n",
       "    </tr>\n",
       "    <tr>\n",
       "      <th>3</th>\n",
       "      <td>A-Link Telecom I. Cubot Nova</td>\n",
       "      <td>0.137170000</td>\n",
       "    </tr>\n",
       "    <tr>\n",
       "      <th>4</th>\n",
       "      <td>A-Link Telecom I. Cubot Power</td>\n",
       "      <td>0.008041000</td>\n",
       "    </tr>\n",
       "  </tbody>\n",
       "</table>\n",
       "</div>"
      ],
      "text/plain": [
       "                        Handset Type  Avg TCP Retrans. Vol\n",
       "0         A-Link Telecom I. Cubot A5          21.650430771\n",
       "1  A-Link Telecom I. Cubot Note Plus           0.616213000\n",
       "2     A-Link Telecom I. Cubot Note S          41.411731000\n",
       "3       A-Link Telecom I. Cubot Nova           0.137170000\n",
       "4      A-Link Telecom I. Cubot Power           0.008041000"
      ]
     },
     "execution_count": 129,
     "metadata": {},
     "output_type": "execute_result"
    }
   ],
   "source": [
    "dfAvgTcp.head()"
   ]
  },
  {
   "cell_type": "code",
   "execution_count": 138,
   "metadata": {},
   "outputs": [
    {
     "data": {
      "text/plain": [
       "[Text(0, 0, 'A-Link Telecom I. Cubot A5'),\n",
       " Text(0, 0, 'A-Link Telecom I. Cubot Note Plus'),\n",
       " Text(0, 0, 'A-Link Telecom I. Cubot Note S'),\n",
       " Text(0, 0, 'A-Link Telecom I. Cubot Nova'),\n",
       " Text(0, 0, 'A-Link Telecom I. Cubot Power'),\n",
       " Text(0, 0, 'A-Link Telecom I. Cubot R9'),\n",
       " Text(0, 0, 'A-Link Telecom I. Cubot X18 Plus'),\n",
       " Text(0, 0, 'Acer Liquid M220'),\n",
       " Text(0, 0, 'Acer Liquid Z220'),\n",
       " Text(0, 0, 'Acer Liquid Z530'),\n",
       " Text(0, 0, 'Acer Liquid Z630'),\n",
       " Text(0, 0, 'Acer Liquid Zest 4G'),\n",
       " Text(0, 0, 'Acer Liquid Zest Plus'),\n",
       " Text(0, 0, 'Acer M310'),\n",
       " Text(0, 0, 'Acer V370 Acer V370 Liquid E2 Duo'),\n",
       " Text(0, 0, 'Acer Zx Z130'),\n",
       " Text(0, 0, 'Adar Stanley Mobile S231'),\n",
       " Text(0, 0, 'Alif Communicati. Pulian Cm84'),\n",
       " Text(0, 0, 'Apple iPad (A1823)'),\n",
       " Text(0, 0, 'Apple iPad (A1954)'),\n",
       " Text(0, 0, 'Apple iPad 2 (A1396)'),\n",
       " Text(0, 0, 'Apple iPad 3 (A1430)'),\n",
       " Text(0, 0, 'Apple iPad 4 (A1460)'),\n",
       " Text(0, 0, 'Apple iPad Air (A1475)'),\n",
       " Text(0, 0, 'Apple iPad Air 2 (A1567)')]"
      ]
     },
     "execution_count": 138,
     "metadata": {},
     "output_type": "execute_result"
    },
    {
     "data": {
      "image/png": "[encoded data removed]",
      "text/plain": [
       "<Figure size 842.4x595.44 with 1 Axes>"
      ]
     },
     "metadata": {
      "needs_background": "light"
     },
     "output_type": "display_data"
    }
   ],
   "source": [
    "fig, ax = plt.subplots(figsize=a4_dims)\n",
    "char2 = sns.barplot(x='Handset Type', y='Avg TCP Retrans. Vol', data=dfAvgTcp.head(25))\n",
    "char2.set_xticklabels(char2.get_xticklabels(), rotation=90)"
   ]
  },
  {
   "cell_type": "code",
   "execution_count": 95,
   "metadata": {},
   "outputs": [
    {
     "data": {
      "text/html": [
       "<div>\n",
       "<style scoped>\n",
       "    .dataframe tbody tr th:only-of-type {\n",
       "        vertical-align: middle;\n",
       "    }\n",
       "\n",
       "    .dataframe tbody tr th {\n",
       "        vertical-align: top;\n",
       "    }\n",
       "\n",
       "    .dataframe thead th {\n",
       "        text-align: right;\n",
       "    }\n",
       "</style>\n",
       "<table border=\"1\" class=\"dataframe\">\n",
       "  <thead>\n",
       "    <tr style=\"text-align: right;\">\n",
       "      <th></th>\n",
       "      <th>MSISDN/Number</th>\n",
       "      <th>Avg RTT</th>\n",
       "      <th>Avg Bearer TP (MegaBytes)</th>\n",
       "      <th>TCP Retrans. Vol (MegaBytes)</th>\n",
       "    </tr>\n",
       "  </thead>\n",
       "  <tbody>\n",
       "    <tr>\n",
       "      <th>0</th>\n",
       "      <td>33662317023</td>\n",
       "      <td>96924.0</td>\n",
       "      <td>0.003</td>\n",
       "      <td>21.650430771</td>\n",
       "    </tr>\n",
       "    <tr>\n",
       "      <th>1</th>\n",
       "      <td>33660874265</td>\n",
       "      <td>64670.0</td>\n",
       "      <td>0.194</td>\n",
       "      <td>43.300861542</td>\n",
       "    </tr>\n",
       "    <tr>\n",
       "      <th>2</th>\n",
       "      <td>33683692867</td>\n",
       "      <td>54848.0</td>\n",
       "      <td>0.021</td>\n",
       "      <td>0.766339496</td>\n",
       "    </tr>\n",
       "    <tr>\n",
       "      <th>3</th>\n",
       "      <td>33698551167</td>\n",
       "      <td>46021.0</td>\n",
       "      <td>0.303</td>\n",
       "      <td>20.899822275</td>\n",
       "    </tr>\n",
       "    <tr>\n",
       "      <th>4</th>\n",
       "      <td>33761813523</td>\n",
       "      <td>37084.0</td>\n",
       "      <td>21.200</td>\n",
       "      <td>20.960468275</td>\n",
       "    </tr>\n",
       "    <tr>\n",
       "      <th>...</th>\n",
       "      <td>...</td>\n",
       "      <td>...</td>\n",
       "      <td>...</td>\n",
       "      <td>...</td>\n",
       "    </tr>\n",
       "    <tr>\n",
       "      <th>106851</th>\n",
       "      <td>33659493541</td>\n",
       "      <td>5.0</td>\n",
       "      <td>0.078</td>\n",
       "      <td>21.650430771</td>\n",
       "    </tr>\n",
       "    <tr>\n",
       "      <th>106852</th>\n",
       "      <td>33695045499</td>\n",
       "      <td>4.0</td>\n",
       "      <td>0.121</td>\n",
       "      <td>21.650430771</td>\n",
       "    </tr>\n",
       "    <tr>\n",
       "      <th>106853</th>\n",
       "      <td>33660204450</td>\n",
       "      <td>2.0</td>\n",
       "      <td>0.113</td>\n",
       "      <td>21.650430771</td>\n",
       "    </tr>\n",
       "    <tr>\n",
       "      <th>106854</th>\n",
       "      <td>33652982188</td>\n",
       "      <td>0.0</td>\n",
       "      <td>0.100</td>\n",
       "      <td>21.650430771</td>\n",
       "    </tr>\n",
       "    <tr>\n",
       "      <th>106855</th>\n",
       "      <td>33661575382</td>\n",
       "      <td>0.0</td>\n",
       "      <td>0.085</td>\n",
       "      <td>21.650430771</td>\n",
       "    </tr>\n",
       "  </tbody>\n",
       "</table>\n",
       "<p>106856 rows × 4 columns</p>\n",
       "</div>"
      ],
      "text/plain": [
       "        MSISDN/Number  Avg RTT  Avg Bearer TP (MegaBytes)  \\\n",
       "0         33662317023  96924.0                      0.003   \n",
       "1         33660874265  64670.0                      0.194   \n",
       "2         33683692867  54848.0                      0.021   \n",
       "3         33698551167  46021.0                      0.303   \n",
       "4         33761813523  37084.0                     21.200   \n",
       "...               ...      ...                        ...   \n",
       "106851    33659493541      5.0                      0.078   \n",
       "106852    33695045499      4.0                      0.121   \n",
       "106853    33660204450      2.0                      0.113   \n",
       "106854    33652982188      0.0                      0.100   \n",
       "106855    33661575382      0.0                      0.085   \n",
       "\n",
       "        TCP Retrans. Vol (MegaBytes)  \n",
       "0                       21.650430771  \n",
       "1                       43.300861542  \n",
       "2                        0.766339496  \n",
       "3                       20.899822275  \n",
       "4                       20.960468275  \n",
       "...                              ...  \n",
       "106851                  21.650430771  \n",
       "106852                  21.650430771  \n",
       "106853                  21.650430771  \n",
       "106854                  21.650430771  \n",
       "106855                  21.650430771  \n",
       "\n",
       "[106856 rows x 4 columns]"
      ]
     },
     "execution_count": 95,
     "metadata": {},
     "output_type": "execute_result"
    }
   ],
   "source": [
    "# Aggreagating the customer data and merging it into a dataframe \n",
    "dfAvgRtt = aggTotalDataEach(dfEA, 'Avg RTT')\n",
    "dfAvgBea = aggTotalDataEach(dfEA, 'Avg Bearer TP (MegaBytes)')\n",
    "dfAvgTcp = aggTotalDataEach(dfEA, 'TCP Retrans. Vol (MegaBytes)')\n",
    "dfEA2 = pd.merge(dfAvgRtt, dfAvgBea, on='MSISDN/Number')\n",
    "dfEA2 = pd.merge(dfEA2, dfAvgTcp, on='MSISDN/Number')\n",
    "dfEA2"
   ]
  },
  {
   "cell_type": "code",
   "execution_count": 96,
   "metadata": {},
   "outputs": [],
   "source": [
    "# dropping the identifier column\n",
    "dfEAK = dfEA2.drop(['MSISDN/Number'], axis=1)\n",
    "\n",
    "# Normalizing the variable columns\n",
    "dfEAK['Avg RTT'] = np.transpose(normalize([np.array(dfEAK['Avg RTT'])]))\n",
    "dfEAK['Avg Bearer TP (MegaBytes)'] = np.transpose(normalize([np.array(dfEAK['Avg Bearer TP (MegaBytes)'])]))\n",
    "dfEAK['TCP Retrans. Vol (MegaBytes)'] = np.transpose(normalize([np.array(dfEAK['TCP Retrans. Vol (MegaBytes)'])]))\n",
    "\n",
    "# running KMeans of the Normalized data\n",
    "kmeans3 = KMeans(n_clusters=3, random_state=0).fit(dfEAK)"
   ]
  },
  {
   "cell_type": "code",
   "execution_count": 97,
   "metadata": {},
   "outputs": [
    {
     "data": {
      "text/plain": [
       "array([[0.00202599, 0.00758989, 0.00094782],\n",
       "       [0.0006319 , 0.00063426, 0.00041383],\n",
       "       [0.00159368, 0.0096428 , 0.05795642]])"
      ]
     },
     "execution_count": 97,
     "metadata": {},
     "output_type": "execute_result"
    }
   ],
   "source": [
    "kmeans3.cluster_centers_"
   ]
  },
  {
   "cell_type": "code",
   "execution_count": null,
   "metadata": {},
   "outputs": [],
   "source": []
  },
  {
   "cell_type": "markdown",
   "metadata": {},
   "source": [
    "# Task 4 - Satisfaction Analysis"
   ]
  },
  {
   "cell_type": "code",
   "execution_count": 98,
   "metadata": {},
   "outputs": [],
   "source": [
    "# Getting the Lowest cluster centers\n",
    "EnScrLowClu = kmeans.cluster_centers_[0]\n",
    "ExScrLowClu = kmeans3.cluster_centers_[0]"
   ]
  },
  {
   "cell_type": "code",
   "execution_count": 99,
   "metadata": {},
   "outputs": [],
   "source": [
    "# finding the Eucalidean distance between the data points and the Lowest cluster centers (Engangement score)\n",
    "EnScore = []\n",
    "for row in dfNom[['Dur. (ms)', 'Total traffic', 'sessions frequency']].to_numpy():\n",
    "    score = np.linalg.norm(row - EnScrLowClu)\n",
    "    EnScore.append(score)"
   ]
  },
  {
   "cell_type": "code",
   "execution_count": 100,
   "metadata": {},
   "outputs": [],
   "source": [
    "# finding the Eucalidean distance between the data points and the Lowest cluster centers (Experience score)\n",
    "ExScore = []\n",
    "for row in dfEAK[['Avg RTT', 'Avg Bearer TP (MegaBytes)', 'TCP Retrans. Vol (MegaBytes)']].to_numpy():\n",
    "    score = np.linalg.norm(row - ExScrLowClu)\n",
    "    ExScore.append(score)"
   ]
  },
  {
   "cell_type": "code",
   "execution_count": 101,
   "metadata": {},
   "outputs": [],
   "source": [
    "# adding the Engagement Score to our Enganement analysis dataframe\n",
    "dfNom['Engagement Score'] = np.transpose(np.array(EnScore))\n",
    "dfNom['MSISDN/Number'] = dfEM['MSISDN/Number'] "
   ]
  },
  {
   "cell_type": "code",
   "execution_count": 102,
   "metadata": {},
   "outputs": [],
   "source": [
    "# adding the Experience Score to Experience analysis dataframe\n",
    "dfEA2['Experience Score'] = np.transpose(np.array(ExScore))"
   ]
  },
  {
   "cell_type": "code",
   "execution_count": 103,
   "metadata": {},
   "outputs": [],
   "source": [
    "# merging the Experience Analysis dataframe and Engagement analysis dataframe\n",
    "dfSs = pd.merge(dfEA2, dfNom, on='MSISDN/Number')"
   ]
  },
  {
   "cell_type": "code",
   "execution_count": 104,
   "metadata": {},
   "outputs": [],
   "source": [
    "# Avgeraging the Experience and Engagement Score to get the experience score\n",
    "dfSs['Satisfaction Score'] = dfSs['Experience Score'] + dfSs['Engagement Score']\n",
    "dfSs['Satisfaction Score'] = dfSs['Satisfaction Score']/2"
   ]
  },
  {
   "cell_type": "code",
   "execution_count": 105,
   "metadata": {},
   "outputs": [
    {
     "data": {
      "text/plain": [
       "MSISDN/Number\n",
       "33626320676    8.502825280\n",
       "33614892860    8.010492247\n",
       "33625779332    8.004567032\n",
       "33659725664    7.505681826\n",
       "33760536639    7.004825710\n",
       "33675877202    7.003379524\n",
       "33667163239    6.013819745\n",
       "33604515716    5.507843102\n",
       "33760413819    5.504061791\n",
       "33627080969    5.503452895\n",
       "Name: Satisfaction Score, dtype: float64"
      ]
     },
     "execution_count": 105,
     "metadata": {},
     "output_type": "execute_result"
    }
   ],
   "source": [
    "# 10 highest Satisfaction score\n",
    "dfSs.groupby('MSISDN/Number')['Satisfaction Score'].sum().nlargest(10)"
   ]
  },
  {
   "cell_type": "code",
   "execution_count": 106,
   "metadata": {},
   "outputs": [
    {
     "data": {
      "text/html": [
       "<div>\n",
       "<style scoped>\n",
       "    .dataframe tbody tr th:only-of-type {\n",
       "        vertical-align: middle;\n",
       "    }\n",
       "\n",
       "    .dataframe tbody tr th {\n",
       "        vertical-align: top;\n",
       "    }\n",
       "\n",
       "    .dataframe thead th {\n",
       "        text-align: right;\n",
       "    }\n",
       "</style>\n",
       "<table border=\"1\" class=\"dataframe\">\n",
       "  <thead>\n",
       "    <tr style=\"text-align: right;\">\n",
       "      <th></th>\n",
       "      <th>MSISDN/Number</th>\n",
       "      <th>Avg RTT</th>\n",
       "      <th>Avg Bearer TP (MegaBytes)</th>\n",
       "      <th>TCP Retrans. Vol (MegaBytes)</th>\n",
       "      <th>Experience Score</th>\n",
       "      <th>Dur. (ms)</th>\n",
       "      <th>Total traffic</th>\n",
       "      <th>sessions frequency</th>\n",
       "      <th>Engagement Score</th>\n",
       "      <th>Satisfaction Score</th>\n",
       "    </tr>\n",
       "  </thead>\n",
       "  <tbody>\n",
       "    <tr>\n",
       "      <th>0</th>\n",
       "      <td>33662317023</td>\n",
       "      <td>96924.0</td>\n",
       "      <td>0.003</td>\n",
       "      <td>21.650430771</td>\n",
       "      <td>0.426111572</td>\n",
       "      <td>0.002173084</td>\n",
       "      <td>0.000876985</td>\n",
       "      <td>1</td>\n",
       "      <td>0.001240401</td>\n",
       "      <td>0.213675986</td>\n",
       "    </tr>\n",
       "    <tr>\n",
       "      <th>1</th>\n",
       "      <td>33660874265</td>\n",
       "      <td>64670.0</td>\n",
       "      <td>0.194</td>\n",
       "      <td>43.300861542</td>\n",
       "      <td>0.283693494</td>\n",
       "      <td>0.003247226</td>\n",
       "      <td>0.003956876</td>\n",
       "      <td>2</td>\n",
       "      <td>1.000004164</td>\n",
       "      <td>0.641848829</td>\n",
       "    </tr>\n",
       "    <tr>\n",
       "      <th>2</th>\n",
       "      <td>33683692867</td>\n",
       "      <td>54848.0</td>\n",
       "      <td>0.021</td>\n",
       "      <td>0.766339496</td>\n",
       "      <td>0.240334559</td>\n",
       "      <td>0.000577764</td>\n",
       "      <td>0.002403113</td>\n",
       "      <td>1</td>\n",
       "      <td>0.000973922</td>\n",
       "      <td>0.120654241</td>\n",
       "    </tr>\n",
       "    <tr>\n",
       "      <th>3</th>\n",
       "      <td>33698551167</td>\n",
       "      <td>46021.0</td>\n",
       "      <td>0.303</td>\n",
       "      <td>20.899822275</td>\n",
       "      <td>0.201371102</td>\n",
       "      <td>0.002231931</td>\n",
       "      <td>0.002986547</td>\n",
       "      <td>2</td>\n",
       "      <td>1.000001112</td>\n",
       "      <td>0.600686107</td>\n",
       "    </tr>\n",
       "    <tr>\n",
       "      <th>4</th>\n",
       "      <td>33761813523</td>\n",
       "      <td>37084.0</td>\n",
       "      <td>21.200</td>\n",
       "      <td>20.960468275</td>\n",
       "      <td>0.161877765</td>\n",
       "      <td>0.004381559</td>\n",
       "      <td>0.010760937</td>\n",
       "      <td>4</td>\n",
       "      <td>3.000014947</td>\n",
       "      <td>1.580946356</td>\n",
       "    </tr>\n",
       "  </tbody>\n",
       "</table>\n",
       "</div>"
      ],
      "text/plain": [
       "   MSISDN/Number  Avg RTT  Avg Bearer TP (MegaBytes)  \\\n",
       "0    33662317023  96924.0                      0.003   \n",
       "1    33660874265  64670.0                      0.194   \n",
       "2    33683692867  54848.0                      0.021   \n",
       "3    33698551167  46021.0                      0.303   \n",
       "4    33761813523  37084.0                     21.200   \n",
       "\n",
       "   TCP Retrans. Vol (MegaBytes)  Experience Score    Dur. (ms)  Total traffic  \\\n",
       "0                  21.650430771       0.426111572  0.002173084    0.000876985   \n",
       "1                  43.300861542       0.283693494  0.003247226    0.003956876   \n",
       "2                   0.766339496       0.240334559  0.000577764    0.002403113   \n",
       "3                  20.899822275       0.201371102  0.002231931    0.002986547   \n",
       "4                  20.960468275       0.161877765  0.004381559    0.010760937   \n",
       "\n",
       "   sessions frequency  Engagement Score  Satisfaction Score  \n",
       "0                   1       0.001240401         0.213675986  \n",
       "1                   2       1.000004164         0.641848829  \n",
       "2                   1       0.000973922         0.120654241  \n",
       "3                   2       1.000001112         0.600686107  \n",
       "4                   4       3.000014947         1.580946356  "
      ]
     },
     "execution_count": 106,
     "metadata": {},
     "output_type": "execute_result"
    }
   ],
   "source": [
    "dfSs.head()"
   ]
  },
  {
   "cell_type": "code",
   "execution_count": 107,
   "metadata": {},
   "outputs": [],
   "source": [
    "# drop the identifier column and the two columns that make up the satisfaction score \n",
    "dfReg = dfSs.drop(['MSISDN/Number', 'Experience Score', 'Satisfaction Score'], axis=1)\n"
   ]
  },
  {
   "cell_type": "markdown",
   "metadata": {},
   "source": [
    "### Regression Model"
   ]
  },
  {
   "cell_type": "code",
   "execution_count": 108,
   "metadata": {},
   "outputs": [
    {
     "name": "stdout",
     "output_type": "stream",
     "text": [
      "Linear Regression: 0.0005840845911132962\n",
      "Rigde Regression: 0.0006090103672845811\n",
      "Lasso Regression: 0.8153154268662977\n",
      "Extreme Gradient Boosting(xgb): 0.016759899289699655\n",
      "Light Gradient Boosting (lgb): 0.07440473646132685\n"
     ]
    }
   ],
   "source": [
    "# Import the Regression Implemention from sklearn, xgboost and lightgbm\n",
    "from sklearn.linear_model import LinearRegression, Ridge, Lasso\n",
    "import xgboost as xgb\n",
    "import lightgbm as lgb\n",
    "from sklearn.model_selection import train_test_split\n",
    "\n",
    "#Import the metrics for testing model performance\n",
    "from sklearn.metrics import mean_squared_error, mean_absolute_error\n",
    "\n",
    "# Get the train data and its labels\n",
    "X = dfReg.loc[:, 'Avg RTT': 'sessions frequency']\n",
    "Y = dfReg[\"Engagement Score\"]\n",
    "\n",
    "# Split the dataset into train and test data for a more robust model\n",
    "X_train, X_test, Y_train, Y_test = train_test_split(X, Y, test_size=0.2, random_state=42)\n",
    "\n",
    "#defining the models\n",
    "lr = LinearRegression()\n",
    "rid = Ridge(alpha=1.0)\n",
    "lass = Lasso(alpha=20.0, random_state=42)\n",
    "lgradient = lgb.LGBMRegressor(random_state=3)\n",
    "xgradient = xgb.XGBRegressor( max_depth=3,n_estimators=1000, min_child_weight=2, learning_rate=0.1,\n",
    "                             objective='reg:squarederror', reg_alpha=1, reg_lambda=1,)\n",
    "\n",
    "#training the models\n",
    "lr = lr.fit(X_train, Y_train)\n",
    "rid = rid.fit(X_train, Y_train)\n",
    "lass = lass.fit(X_train, Y_train)\n",
    "xgradient.fit(X_train, Y_train)\n",
    "lgradient.fit(X_train, Y_train)\n",
    "\n",
    "# prediction on the test set\n",
    "lrPred = lr.predict(X_test)\n",
    "ridPred = rid.predict(X_test)\n",
    "lassPred = lass.predict(X_test)\n",
    "xgradPred = xgradient.predict(X_test)\n",
    "lgradPred = lgradient.predict(X_test)\n",
    "\n",
    "# prediction metrics (Root Mean Squared)\n",
    "print('Linear Regression: {}'.format(mean_squared_error(Y_test, lrPred)**0.5))\n",
    "print('Rigde Regression: {}'.format(mean_squared_error(Y_test, ridPred)**0.5))\n",
    "print('Lasso Regression: {}'.format(mean_squared_error(Y_test, lassPred)**0.5))\n",
    "print('Extreme Gradient Boosting(xgb): {}'.format(mean_squared_error(Y_test, xgradPred)**0.5))\n",
    "print('Light Gradient Boosting (lgb): {}'.format(mean_squared_error(Y_test, lgradPred)**0.5))"
   ]
  },
  {
   "cell_type": "markdown",
   "metadata": {},
   "source": [
    "### Engagement Score and Experience Score Kmeans"
   ]
  },
  {
   "cell_type": "code",
   "execution_count": 109,
   "metadata": {},
   "outputs": [
    {
     "data": {
      "text/html": [
       "<div>\n",
       "<style scoped>\n",
       "    .dataframe tbody tr th:only-of-type {\n",
       "        vertical-align: middle;\n",
       "    }\n",
       "\n",
       "    .dataframe tbody tr th {\n",
       "        vertical-align: top;\n",
       "    }\n",
       "\n",
       "    .dataframe thead th {\n",
       "        text-align: right;\n",
       "    }\n",
       "</style>\n",
       "<table border=\"1\" class=\"dataframe\">\n",
       "  <thead>\n",
       "    <tr style=\"text-align: right;\">\n",
       "      <th></th>\n",
       "      <th>Experience Score</th>\n",
       "      <th>Engagement Score</th>\n",
       "    </tr>\n",
       "  </thead>\n",
       "  <tbody>\n",
       "    <tr>\n",
       "      <th>0</th>\n",
       "      <td>0.426111572</td>\n",
       "      <td>0.001240401</td>\n",
       "    </tr>\n",
       "    <tr>\n",
       "      <th>1</th>\n",
       "      <td>0.283693494</td>\n",
       "      <td>1.000004164</td>\n",
       "    </tr>\n",
       "    <tr>\n",
       "      <th>2</th>\n",
       "      <td>0.240334559</td>\n",
       "      <td>0.000973922</td>\n",
       "    </tr>\n",
       "    <tr>\n",
       "      <th>3</th>\n",
       "      <td>0.201371102</td>\n",
       "      <td>1.000001112</td>\n",
       "    </tr>\n",
       "    <tr>\n",
       "      <th>4</th>\n",
       "      <td>0.161877765</td>\n",
       "      <td>3.000014947</td>\n",
       "    </tr>\n",
       "    <tr>\n",
       "      <th>...</th>\n",
       "      <td>...</td>\n",
       "      <td>...</td>\n",
       "    </tr>\n",
       "    <tr>\n",
       "      <th>106851</th>\n",
       "      <td>0.007862590</td>\n",
       "      <td>0.001363997</td>\n",
       "    </tr>\n",
       "    <tr>\n",
       "      <th>106852</th>\n",
       "      <td>0.007861036</td>\n",
       "      <td>0.002506228</td>\n",
       "    </tr>\n",
       "    <tr>\n",
       "      <th>106853</th>\n",
       "      <td>0.007863796</td>\n",
       "      <td>0.000302095</td>\n",
       "    </tr>\n",
       "    <tr>\n",
       "      <th>106854</th>\n",
       "      <td>0.007866876</td>\n",
       "      <td>0.000438651</td>\n",
       "    </tr>\n",
       "    <tr>\n",
       "      <th>106855</th>\n",
       "      <td>0.007867811</td>\n",
       "      <td>0.001084883</td>\n",
       "    </tr>\n",
       "  </tbody>\n",
       "</table>\n",
       "<p>106856 rows × 2 columns</p>\n",
       "</div>"
      ],
      "text/plain": [
       "        Experience Score  Engagement Score\n",
       "0            0.426111572       0.001240401\n",
       "1            0.283693494       1.000004164\n",
       "2            0.240334559       0.000973922\n",
       "3            0.201371102       1.000001112\n",
       "4            0.161877765       3.000014947\n",
       "...                  ...               ...\n",
       "106851       0.007862590       0.001363997\n",
       "106852       0.007861036       0.002506228\n",
       "106853       0.007863796       0.000302095\n",
       "106854       0.007866876       0.000438651\n",
       "106855       0.007867811       0.001084883\n",
       "\n",
       "[106856 rows x 2 columns]"
      ]
     },
     "execution_count": 109,
     "metadata": {},
     "output_type": "execute_result"
    }
   ],
   "source": [
    "# Creating the dataframe for the kmeans\n",
    "dfKmSs = pd.DataFrame()\n",
    "dfKmSs['Experience Score'] = dfSs['Experience Score']\n",
    "dfKmSs['Engagement Score'] = dfSs['Engagement Score']\n",
    "dfKmSs"
   ]
  },
  {
   "cell_type": "code",
   "execution_count": 110,
   "metadata": {},
   "outputs": [],
   "source": [
    "# Kmeans on the Experience score and Engagement score with 2 clusters\n",
    "kmeansSs = KMeans(n_clusters=2, random_state=0).fit(dfKmSs)"
   ]
  },
  {
   "cell_type": "code",
   "execution_count": 111,
   "metadata": {},
   "outputs": [
    {
     "data": {
      "text/plain": [
       "array([[7.31629696e-03, 1.11750883e-03],\n",
       "       [6.35667456e-03, 1.44477867e+00]])"
      ]
     },
     "execution_count": 111,
     "metadata": {},
     "output_type": "execute_result"
    }
   ],
   "source": [
    "kmeansSs.cluster_centers_"
   ]
  },
  {
   "cell_type": "code",
   "execution_count": 112,
   "metadata": {},
   "outputs": [
    {
     "data": {
      "text/html": [
       "<div>\n",
       "<style scoped>\n",
       "    .dataframe tbody tr th:only-of-type {\n",
       "        vertical-align: middle;\n",
       "    }\n",
       "\n",
       "    .dataframe tbody tr th {\n",
       "        vertical-align: top;\n",
       "    }\n",
       "\n",
       "    .dataframe thead th {\n",
       "        text-align: right;\n",
       "    }\n",
       "</style>\n",
       "<table border=\"1\" class=\"dataframe\">\n",
       "  <thead>\n",
       "    <tr style=\"text-align: right;\">\n",
       "      <th></th>\n",
       "      <th>MSISDN/Number</th>\n",
       "      <th>Avg RTT</th>\n",
       "      <th>Avg Bearer TP (MegaBytes)</th>\n",
       "      <th>TCP Retrans. Vol (MegaBytes)</th>\n",
       "      <th>Experience Score</th>\n",
       "      <th>Dur. (ms)</th>\n",
       "      <th>Total traffic</th>\n",
       "      <th>sessions frequency</th>\n",
       "      <th>Engagement Score</th>\n",
       "      <th>Satisfaction Score</th>\n",
       "      <th>kmeansLabels</th>\n",
       "    </tr>\n",
       "  </thead>\n",
       "  <tbody>\n",
       "    <tr>\n",
       "      <th>0</th>\n",
       "      <td>33662317023</td>\n",
       "      <td>96924.0</td>\n",
       "      <td>0.003</td>\n",
       "      <td>21.650430771</td>\n",
       "      <td>0.426111572</td>\n",
       "      <td>0.002173084</td>\n",
       "      <td>0.000876985</td>\n",
       "      <td>1</td>\n",
       "      <td>0.001240401</td>\n",
       "      <td>0.213675986</td>\n",
       "      <td>0</td>\n",
       "    </tr>\n",
       "    <tr>\n",
       "      <th>1</th>\n",
       "      <td>33660874265</td>\n",
       "      <td>64670.0</td>\n",
       "      <td>0.194</td>\n",
       "      <td>43.300861542</td>\n",
       "      <td>0.283693494</td>\n",
       "      <td>0.003247226</td>\n",
       "      <td>0.003956876</td>\n",
       "      <td>2</td>\n",
       "      <td>1.000004164</td>\n",
       "      <td>0.641848829</td>\n",
       "      <td>1</td>\n",
       "    </tr>\n",
       "    <tr>\n",
       "      <th>2</th>\n",
       "      <td>33683692867</td>\n",
       "      <td>54848.0</td>\n",
       "      <td>0.021</td>\n",
       "      <td>0.766339496</td>\n",
       "      <td>0.240334559</td>\n",
       "      <td>0.000577764</td>\n",
       "      <td>0.002403113</td>\n",
       "      <td>1</td>\n",
       "      <td>0.000973922</td>\n",
       "      <td>0.120654241</td>\n",
       "      <td>0</td>\n",
       "    </tr>\n",
       "    <tr>\n",
       "      <th>3</th>\n",
       "      <td>33698551167</td>\n",
       "      <td>46021.0</td>\n",
       "      <td>0.303</td>\n",
       "      <td>20.899822275</td>\n",
       "      <td>0.201371102</td>\n",
       "      <td>0.002231931</td>\n",
       "      <td>0.002986547</td>\n",
       "      <td>2</td>\n",
       "      <td>1.000001112</td>\n",
       "      <td>0.600686107</td>\n",
       "      <td>1</td>\n",
       "    </tr>\n",
       "    <tr>\n",
       "      <th>4</th>\n",
       "      <td>33761813523</td>\n",
       "      <td>37084.0</td>\n",
       "      <td>21.200</td>\n",
       "      <td>20.960468275</td>\n",
       "      <td>0.161877765</td>\n",
       "      <td>0.004381559</td>\n",
       "      <td>0.010760937</td>\n",
       "      <td>4</td>\n",
       "      <td>3.000014947</td>\n",
       "      <td>1.580946356</td>\n",
       "      <td>1</td>\n",
       "    </tr>\n",
       "  </tbody>\n",
       "</table>\n",
       "</div>"
      ],
      "text/plain": [
       "   MSISDN/Number  Avg RTT  Avg Bearer TP (MegaBytes)  \\\n",
       "0    33662317023  96924.0                      0.003   \n",
       "1    33660874265  64670.0                      0.194   \n",
       "2    33683692867  54848.0                      0.021   \n",
       "3    33698551167  46021.0                      0.303   \n",
       "4    33761813523  37084.0                     21.200   \n",
       "\n",
       "   TCP Retrans. Vol (MegaBytes)  Experience Score    Dur. (ms)  Total traffic  \\\n",
       "0                  21.650430771       0.426111572  0.002173084    0.000876985   \n",
       "1                  43.300861542       0.283693494  0.003247226    0.003956876   \n",
       "2                   0.766339496       0.240334559  0.000577764    0.002403113   \n",
       "3                  20.899822275       0.201371102  0.002231931    0.002986547   \n",
       "4                  20.960468275       0.161877765  0.004381559    0.010760937   \n",
       "\n",
       "   sessions frequency  Engagement Score  Satisfaction Score  kmeansLabels  \n",
       "0                   1       0.001240401         0.213675986             0  \n",
       "1                   2       1.000004164         0.641848829             1  \n",
       "2                   1       0.000973922         0.120654241             0  \n",
       "3                   2       1.000001112         0.600686107             1  \n",
       "4                   4       3.000014947         1.580946356             1  "
      ]
     },
     "execution_count": 112,
     "metadata": {},
     "output_type": "execute_result"
    }
   ],
   "source": [
    "# appending the labelsto their correspoinding data\n",
    "dfSs['kmeansLabels'] = np.transpose(kmeansSs.labels_)\n",
    "dfSs.head()"
   ]
  },
  {
   "cell_type": "code",
   "execution_count": 113,
   "metadata": {},
   "outputs": [
    {
     "data": {
      "text/plain": [
       "kmeansLabels\n",
       "0    0.001117509\n",
       "1    1.444778672\n",
       "Name: Engagement Score, dtype: float64"
      ]
     },
     "execution_count": 113,
     "metadata": {},
     "output_type": "execute_result"
    }
   ],
   "source": [
    "# aggregating by average of the Engagement Score in each cluster\n",
    "dfSs.groupby('kmeansLabels')['Engagement Score'].agg('mean')"
   ]
  },
  {
   "cell_type": "code",
   "execution_count": 114,
   "metadata": {},
   "outputs": [
    {
     "data": {
      "text/plain": [
       "kmeansLabels\n",
       "0    0.007316297\n",
       "1    0.006356675\n",
       "Name: Experience Score, dtype: float64"
      ]
     },
     "execution_count": 114,
     "metadata": {},
     "output_type": "execute_result"
    }
   ],
   "source": [
    "# aggregating by average of the Experience Score in each cluster\n",
    "dfSs.groupby('kmeansLabels')['Experience Score'].agg('mean')"
   ]
  },
  {
   "cell_type": "markdown",
   "metadata": {},
   "source": [
    "### Exporting the dataframe to MYSQL"
   ]
  },
  {
   "cell_type": "code",
   "execution_count": 115,
   "metadata": {},
   "outputs": [
    {
     "name": "stderr",
     "output_type": "stream",
     "text": [
      "c:\\users\\gkkar\\appdata\\local\\programs\\python\\python36\\lib\\site-packages\\pandas\\core\\generic.py:2663: UserWarning: The spaces in these column names will not be changed. In pandas versions < 0.14, spaces were converted to underscores.\n",
      "  method=method,\n"
     ]
    }
   ],
   "source": [
    "### Exporting the dataframe to MYSQL\n",
    "import sqlite3\n",
    "\n",
    "\n",
    "dfKmSs['MSISDN/Number'] = dfSs['MSISDN/Number']\n",
    "dfKmSs['Satisfaction Score'] = dfSs['Satisfaction Score']\n",
    "dfKmSs.set_index('MSISDN/Number')\n",
    "\n",
    "# creating the DB and Exporting the DataFrame\n",
    "conn = sqlite3.connect('telco.sqlite')\n",
    "dfKmSs.to_sql(\"all_scores\", conn, index=False, if_exists=\"replace\")"
   ]
  },
  {
   "cell_type": "code",
   "execution_count": 116,
   "metadata": {},
   "outputs": [],
   "source": [
    "%load_ext sql\n",
    "%sql sqlite:///telco.sqlite"
   ]
  },
  {
   "cell_type": "code",
   "execution_count": 117,
   "metadata": {},
   "outputs": [
    {
     "name": "stdout",
     "output_type": "stream",
     "text": [
      " * sqlite:///telco.sqlite\n",
      "Done.\n"
     ]
    },
    {
     "data": {
      "text/html": [
       "<table>\n",
       "    <tr>\n",
       "        <th>Experience Score</th>\n",
       "        <th>Engagement Score</th>\n",
       "        <th>MSISDN/Number</th>\n",
       "        <th>Satisfaction Score</th>\n",
       "    </tr>\n",
       "    <tr>\n",
       "        <td>0.4261115721937051</td>\n",
       "        <td>0.0012404005377756517</td>\n",
       "        <td>33662317023</td>\n",
       "        <td>0.21367598636574037</td>\n",
       "    </tr>\n",
       "    <tr>\n",
       "        <td>0.2836934941668482</td>\n",
       "        <td>1.0000041635440322</td>\n",
       "        <td>33660874265</td>\n",
       "        <td>0.6418488288554403</td>\n",
       "    </tr>\n",
       "    <tr>\n",
       "        <td>0.24033455924566727</td>\n",
       "        <td>0.0009739220121005134</td>\n",
       "        <td>33683692867</td>\n",
       "        <td>0.12065424062888389</td>\n",
       "    </tr>\n",
       "    <tr>\n",
       "        <td>0.2013711021915288</td>\n",
       "        <td>1.0000011116275327</td>\n",
       "        <td>33698551167</td>\n",
       "        <td>0.6006861069095307</td>\n",
       "    </tr>\n",
       "    <tr>\n",
       "        <td>0.16187776459408226</td>\n",
       "        <td>3.000014946569547</td>\n",
       "        <td>33761813523</td>\n",
       "        <td>1.5809463555818146</td>\n",
       "    </tr>\n",
       "    <tr>\n",
       "        <td>0.15849395274112982</td>\n",
       "        <td>1.000003008792494</td>\n",
       "        <td>33668791629</td>\n",
       "        <td>0.5792484807668119</td>\n",
       "    </tr>\n",
       "    <tr>\n",
       "        <td>0.1186744589984771</td>\n",
       "        <td>0.0018827127925303757</td>\n",
       "        <td>33760941100</td>\n",
       "        <td>0.060278585895503736</td>\n",
       "    </tr>\n",
       "    <tr>\n",
       "        <td>0.11438453864099855</td>\n",
       "        <td>0.0014513468279815517</td>\n",
       "        <td>33606788933</td>\n",
       "        <td>0.05791794273449005</td>\n",
       "    </tr>\n",
       "    <tr>\n",
       "        <td>0.11180448643513502</td>\n",
       "        <td>0.0007861598988463706</td>\n",
       "        <td>33671816754</td>\n",
       "        <td>0.05629532316699069</td>\n",
       "    </tr>\n",
       "    <tr>\n",
       "        <td>0.11035960152720559</td>\n",
       "        <td>0.0010797908648701835</td>\n",
       "        <td>33781865588</td>\n",
       "        <td>0.055719696196037886</td>\n",
       "    </tr>\n",
       "</table>"
      ],
      "text/plain": [
       "[(0.4261115721937051, 0.0012404005377756517, 33662317023, 0.21367598636574037),\n",
       " (0.2836934941668482, 1.0000041635440322, 33660874265, 0.6418488288554403),\n",
       " (0.24033455924566727, 0.0009739220121005134, 33683692867, 0.12065424062888389),\n",
       " (0.2013711021915288, 1.0000011116275327, 33698551167, 0.6006861069095307),\n",
       " (0.16187776459408226, 3.000014946569547, 33761813523, 1.5809463555818146),\n",
       " (0.15849395274112982, 1.000003008792494, 33668791629, 0.5792484807668119),\n",
       " (0.1186744589984771, 0.0018827127925303757, 33760941100, 0.060278585895503736),\n",
       " (0.11438453864099855, 0.0014513468279815517, 33606788933, 0.05791794273449005),\n",
       " (0.11180448643513502, 0.0007861598988463706, 33671816754, 0.05629532316699069),\n",
       " (0.11035960152720559, 0.0010797908648701835, 33781865588, 0.055719696196037886)]"
      ]
     },
     "execution_count": 117,
     "metadata": {},
     "output_type": "execute_result"
    }
   ],
   "source": [
    "%%sql\n",
    "\n",
    "SELECT * FROM all_scores LIMIT 10;"
   ]
  },
  {
   "cell_type": "code",
   "execution_count": null,
   "metadata": {},
   "outputs": [],
   "source": []
  }
 ],
 "metadata": {
  "kernelspec": {
   "display_name": "Python 3",
   "language": "python",
   "name": "python3"
  },
  "language_info": {
   "codemirror_mode": {
    "name": "ipython",
    "version": 3
   },
   "file_extension": ".py",
   "mimetype": "text/x-python",
   "name": "python",
   "nbconvert_exporter": "python",
   "pygments_lexer": "ipython3",
   "version": "3.6.8"
  }
 },
 "nbformat": 4,
 "nbformat_minor": 4
}
