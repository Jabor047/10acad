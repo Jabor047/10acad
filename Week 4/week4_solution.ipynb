{
 "cells": [
  {
   "cell_type": "markdown",
   "metadata": {},
   "source": [
    "# A/B Hypothesis Testing: Ad campaign performance"
   ]
  },
  {
   "cell_type": "markdown",
   "metadata": {},
   "source": [
    "### Table Of Contents\n",
    "- [Data Exploration](#DATA-EXPLORATION-ANALYSIS)\n",
    "- [Classic Testing](#Classic-Testing)\n",
    "    - [Metrics](#Metrics)\n",
    "        - [Invariant Metrics](#Invariant-Metrics)\n",
    "        - [Evaluation Metrics](#Evaluation-Metrics)\n",
    "    - [Sanity Check](#Sanity-Check)\n",
    "- [Sequential Testing](#Sequential-Testing)\n",
    "    - [Common sequential testing algorithms](#Common-sequential-testing-algorithms)\n",
    "    - [Sequential probability ratio testing (SPRT)](#Sequential-probability-ratio-testing-(SPRT))\n",
    "- [A/B testing with Machine Learning](#A/B-testing-with-Machine-Learning)\n",
    "    - [Data Analysis for ML](#Data-Analysis-for-ML)\n",
    "    - [Model Design](#Model-Design)"
   ]
  },
  {
   "cell_type": "code",
   "execution_count": 1,
   "metadata": {},
   "outputs": [],
   "source": [
    "import math\n",
    "import pandas as pd\n",
    "import numpy as np\n",
    "import matplotlib.pyplot as plt\n",
    "import seaborn as sns\n",
    "from scipy.stats import norm\n"
   ]
  },
  {
   "cell_type": "code",
   "execution_count": 2,
   "metadata": {},
   "outputs": [
    {
     "data": {
      "text/html": [
       "<div>\n",
       "<style scoped>\n",
       "    .dataframe tbody tr th:only-of-type {\n",
       "        vertical-align: middle;\n",
       "    }\n",
       "\n",
       "    .dataframe tbody tr th {\n",
       "        vertical-align: top;\n",
       "    }\n",
       "\n",
       "    .dataframe thead th {\n",
       "        text-align: right;\n",
       "    }\n",
       "</style>\n",
       "<table border=\"1\" class=\"dataframe\">\n",
       "  <thead>\n",
       "    <tr style=\"text-align: right;\">\n",
       "      <th></th>\n",
       "      <th>auction_id</th>\n",
       "      <th>experiment</th>\n",
       "      <th>date</th>\n",
       "      <th>hour</th>\n",
       "      <th>device_make</th>\n",
       "      <th>platform_os</th>\n",
       "      <th>browser</th>\n",
       "      <th>yes</th>\n",
       "      <th>no</th>\n",
       "    </tr>\n",
       "  </thead>\n",
       "  <tbody>\n",
       "    <tr>\n",
       "      <th>0</th>\n",
       "      <td>0008ef63-77a7-448b-bd1e-075f42c55e39</td>\n",
       "      <td>exposed</td>\n",
       "      <td>2020-07-10</td>\n",
       "      <td>8</td>\n",
       "      <td>Generic Smartphone</td>\n",
       "      <td>6</td>\n",
       "      <td>Chrome Mobile</td>\n",
       "      <td>0</td>\n",
       "      <td>0</td>\n",
       "    </tr>\n",
       "    <tr>\n",
       "      <th>1</th>\n",
       "      <td>000eabc5-17ce-4137-8efe-44734d914446</td>\n",
       "      <td>exposed</td>\n",
       "      <td>2020-07-07</td>\n",
       "      <td>10</td>\n",
       "      <td>Generic Smartphone</td>\n",
       "      <td>6</td>\n",
       "      <td>Chrome Mobile</td>\n",
       "      <td>0</td>\n",
       "      <td>0</td>\n",
       "    </tr>\n",
       "    <tr>\n",
       "      <th>2</th>\n",
       "      <td>0016d14a-ae18-4a02-a204-6ba53b52f2ed</td>\n",
       "      <td>exposed</td>\n",
       "      <td>2020-07-05</td>\n",
       "      <td>2</td>\n",
       "      <td>E5823</td>\n",
       "      <td>6</td>\n",
       "      <td>Chrome Mobile WebView</td>\n",
       "      <td>0</td>\n",
       "      <td>1</td>\n",
       "    </tr>\n",
       "    <tr>\n",
       "      <th>3</th>\n",
       "      <td>00187412-2932-4542-a8ef-3633901c98d9</td>\n",
       "      <td>control</td>\n",
       "      <td>2020-07-03</td>\n",
       "      <td>15</td>\n",
       "      <td>Samsung SM-A705FN</td>\n",
       "      <td>6</td>\n",
       "      <td>Facebook</td>\n",
       "      <td>0</td>\n",
       "      <td>0</td>\n",
       "    </tr>\n",
       "    <tr>\n",
       "      <th>4</th>\n",
       "      <td>001a7785-d3fe-4e11-a344-c8735acacc2c</td>\n",
       "      <td>control</td>\n",
       "      <td>2020-07-03</td>\n",
       "      <td>15</td>\n",
       "      <td>Generic Smartphone</td>\n",
       "      <td>6</td>\n",
       "      <td>Chrome Mobile</td>\n",
       "      <td>0</td>\n",
       "      <td>0</td>\n",
       "    </tr>\n",
       "  </tbody>\n",
       "</table>\n",
       "</div>"
      ],
      "text/plain": [
       "                             auction_id experiment        date  hour  \\\n",
       "0  0008ef63-77a7-448b-bd1e-075f42c55e39    exposed  2020-07-10     8   \n",
       "1  000eabc5-17ce-4137-8efe-44734d914446    exposed  2020-07-07    10   \n",
       "2  0016d14a-ae18-4a02-a204-6ba53b52f2ed    exposed  2020-07-05     2   \n",
       "3  00187412-2932-4542-a8ef-3633901c98d9    control  2020-07-03    15   \n",
       "4  001a7785-d3fe-4e11-a344-c8735acacc2c    control  2020-07-03    15   \n",
       "\n",
       "          device_make  platform_os                browser  yes  no  \n",
       "0  Generic Smartphone            6          Chrome Mobile    0   0  \n",
       "1  Generic Smartphone            6          Chrome Mobile    0   0  \n",
       "2               E5823            6  Chrome Mobile WebView    0   1  \n",
       "3   Samsung SM-A705FN            6               Facebook    0   0  \n",
       "4  Generic Smartphone            6          Chrome Mobile    0   0  "
      ]
     },
     "execution_count": 2,
     "metadata": {},
     "output_type": "execute_result"
    }
   ],
   "source": [
    "df = pd.read_csv('ABAdRecall.csv')\n",
    "df.head()"
   ]
  },
  {
   "cell_type": "code",
   "execution_count": 3,
   "metadata": {},
   "outputs": [
    {
     "data": {
      "text/plain": [
       "(8077, 9)"
      ]
     },
     "execution_count": 3,
     "metadata": {},
     "output_type": "execute_result"
    }
   ],
   "source": [
    "df.shape"
   ]
  },
  {
   "cell_type": "code",
   "execution_count": 4,
   "metadata": {},
   "outputs": [
    {
     "data": {
      "text/html": [
       "<div>\n",
       "<style scoped>\n",
       "    .dataframe tbody tr th:only-of-type {\n",
       "        vertical-align: middle;\n",
       "    }\n",
       "\n",
       "    .dataframe tbody tr th {\n",
       "        vertical-align: top;\n",
       "    }\n",
       "\n",
       "    .dataframe thead th {\n",
       "        text-align: right;\n",
       "    }\n",
       "</style>\n",
       "<table border=\"1\" class=\"dataframe\">\n",
       "  <thead>\n",
       "    <tr style=\"text-align: right;\">\n",
       "      <th></th>\n",
       "      <th>auction_id</th>\n",
       "      <th>experiment</th>\n",
       "      <th>date</th>\n",
       "      <th>hour</th>\n",
       "      <th>device_make</th>\n",
       "      <th>platform_os</th>\n",
       "      <th>browser</th>\n",
       "      <th>yes</th>\n",
       "      <th>no</th>\n",
       "    </tr>\n",
       "  </thead>\n",
       "  <tbody>\n",
       "    <tr>\n",
       "      <th>4038</th>\n",
       "      <td>818f37f3-dae8-4a33-a22e-e54056e0ba7d</td>\n",
       "      <td>control</td>\n",
       "      <td>2020-07-03</td>\n",
       "      <td>15</td>\n",
       "      <td>Samsung SM-A600FN</td>\n",
       "      <td>6</td>\n",
       "      <td>Chrome Mobile WebView</td>\n",
       "      <td>0</td>\n",
       "      <td>0</td>\n",
       "    </tr>\n",
       "    <tr>\n",
       "      <th>3345</th>\n",
       "      <td>6be2edc7-cf48-4831-8edf-3694eb241e09</td>\n",
       "      <td>control</td>\n",
       "      <td>2020-07-03</td>\n",
       "      <td>15</td>\n",
       "      <td>Generic Smartphone</td>\n",
       "      <td>6</td>\n",
       "      <td>Chrome Mobile</td>\n",
       "      <td>0</td>\n",
       "      <td>0</td>\n",
       "    </tr>\n",
       "    <tr>\n",
       "      <th>3348</th>\n",
       "      <td>6bfed6f0-66e1-4cf8-9871-ff948b5a2afe</td>\n",
       "      <td>exposed</td>\n",
       "      <td>2020-07-03</td>\n",
       "      <td>11</td>\n",
       "      <td>Generic Smartphone</td>\n",
       "      <td>6</td>\n",
       "      <td>Chrome Mobile</td>\n",
       "      <td>0</td>\n",
       "      <td>0</td>\n",
       "    </tr>\n",
       "    <tr>\n",
       "      <th>3354</th>\n",
       "      <td>6c3987e1-42ab-4bca-b1c9-3c6e4446f7eb</td>\n",
       "      <td>control</td>\n",
       "      <td>2020-07-03</td>\n",
       "      <td>15</td>\n",
       "      <td>Generic Smartphone</td>\n",
       "      <td>6</td>\n",
       "      <td>Chrome Mobile</td>\n",
       "      <td>0</td>\n",
       "      <td>0</td>\n",
       "    </tr>\n",
       "    <tr>\n",
       "      <th>3356</th>\n",
       "      <td>6c3cd274-3fba-4a35-97c8-85af0385517a</td>\n",
       "      <td>exposed</td>\n",
       "      <td>2020-07-03</td>\n",
       "      <td>8</td>\n",
       "      <td>Generic Smartphone</td>\n",
       "      <td>6</td>\n",
       "      <td>Chrome Mobile</td>\n",
       "      <td>0</td>\n",
       "      <td>0</td>\n",
       "    </tr>\n",
       "  </tbody>\n",
       "</table>\n",
       "</div>"
      ],
      "text/plain": [
       "                                auction_id experiment        date  hour  \\\n",
       "4038  818f37f3-dae8-4a33-a22e-e54056e0ba7d    control  2020-07-03    15   \n",
       "3345  6be2edc7-cf48-4831-8edf-3694eb241e09    control  2020-07-03    15   \n",
       "3348  6bfed6f0-66e1-4cf8-9871-ff948b5a2afe    exposed  2020-07-03    11   \n",
       "3354  6c3987e1-42ab-4bca-b1c9-3c6e4446f7eb    control  2020-07-03    15   \n",
       "3356  6c3cd274-3fba-4a35-97c8-85af0385517a    exposed  2020-07-03     8   \n",
       "\n",
       "             device_make  platform_os                browser  yes  no  \n",
       "4038   Samsung SM-A600FN            6  Chrome Mobile WebView    0   0  \n",
       "3345  Generic Smartphone            6          Chrome Mobile    0   0  \n",
       "3348  Generic Smartphone            6          Chrome Mobile    0   0  \n",
       "3354  Generic Smartphone            6          Chrome Mobile    0   0  \n",
       "3356  Generic Smartphone            6          Chrome Mobile    0   0  "
      ]
     },
     "execution_count": 4,
     "metadata": {},
     "output_type": "execute_result"
    }
   ],
   "source": [
    "# Sort the dataframe using the date column \n",
    "df = df.sort_values(by='date')\n",
    "df.head()"
   ]
  },
  {
   "cell_type": "markdown",
   "metadata": {},
   "source": [
    "## DATA EXPLORATION ANALYSIS"
   ]
  },
  {
   "cell_type": "code",
   "execution_count": 5,
   "metadata": {},
   "outputs": [
    {
     "data": {
      "text/plain": [
       "([<matplotlib.patches.Wedge at 0x1f9abd37c18>,\n",
       "  <matplotlib.patches.Wedge at 0x1f9abd4e438>],\n",
       " [Text(-0.013904850922250443, 1.0999121124530042, 'exposed'),\n",
       "  Text(0.013904953903454092, -1.0999121111511334, 'control')])"
      ]
     },
     "execution_count": 5,
     "metadata": {},
     "output_type": "execute_result"
    },
    {
     "data": {
      "image/png": "[encoded data removed]",
      "text/plain": [
       "<Figure size 432x288 with 1 Axes>"
      ]
     },
     "metadata": {},
     "output_type": "display_data"
    }
   ],
   "source": [
    "# a pie plot to show if the data is evenly split\n",
    "plt.pie(df['experiment'].value_counts(), labels=['exposed', 'control'],shadow=True)"
   ]
  },
  {
   "cell_type": "markdown",
   "metadata": {},
   "source": [
    "The above plot shows that the data is equally split between the expose and control groups "
   ]
  },
  {
   "cell_type": "code",
   "execution_count": 6,
   "metadata": {},
   "outputs": [
    {
     "data": {
      "text/plain": [
       "Chrome Mobile                 4554\n",
       "Chrome Mobile WebView         1489\n",
       "Samsung Internet               824\n",
       "Facebook                       764\n",
       "Mobile Safari                  337\n",
       "Chrome Mobile iOS               51\n",
       "Mobile Safari UI/WKWebView      44\n",
       "Pinterest                        3\n",
       "Chrome                           3\n",
       "Opera Mobile                     3\n",
       "Edge Mobile                      1\n",
       "Puffin                           1\n",
       "Android                          1\n",
       "Opera Mini                       1\n",
       "Firefox Mobile                   1\n",
       "Name: browser, dtype: int64"
      ]
     },
     "execution_count": 6,
     "metadata": {},
     "output_type": "execute_result"
    }
   ],
   "source": [
    "# The number of users using each browser\n",
    "df.browser.value_counts()"
   ]
  },
  {
   "cell_type": "code",
   "execution_count": 7,
   "metadata": {},
   "outputs": [
    {
     "data": {
      "text/plain": [
       "[Text(0, 0, 'Chrome Mobile WebView'),\n",
       " Text(0, 0, 'Chrome Mobile'),\n",
       " Text(0, 0, 'Samsung Internet'),\n",
       " Text(0, 0, 'Facebook'),\n",
       " Text(0, 0, 'Mobile Safari'),\n",
       " Text(0, 0, 'Mobile Safari UI/WKWebView'),\n",
       " Text(0, 0, 'Chrome Mobile iOS'),\n",
       " Text(0, 0, 'Pinterest'),\n",
       " Text(0, 0, 'Opera Mini'),\n",
       " Text(0, 0, 'Android'),\n",
       " Text(0, 0, 'Edge Mobile'),\n",
       " Text(0, 0, 'Chrome'),\n",
       " Text(0, 0, 'Opera Mobile'),\n",
       " Text(0, 0, 'Firefox Mobile'),\n",
       " Text(0, 0, 'Puffin')]"
      ]
     },
     "execution_count": 7,
     "metadata": {},
     "output_type": "execute_result"
    },
    {
     "data": {
      "image/png": "[encoded data removed]",
      "text/plain": [
       "<Figure size 432x288 with 1 Axes>"
      ]
     },
     "metadata": {
      "needs_background": "light"
     },
     "output_type": "display_data"
    }
   ],
   "source": [
    "# Countplot for browsers\n",
    "broChart = sns.countplot(x='browser', data=df)\n",
    "broChart.set_xticklabels(broChart.get_xticklabels(), rotation=90) \n"
   ]
  },
  {
   "cell_type": "markdown",
   "metadata": {},
   "source": [
    "From the above two cells we see how many users what browser when accessing the website"
   ]
  },
  {
   "cell_type": "code",
   "execution_count": 8,
   "metadata": {},
   "outputs": [
    {
     "data": {
      "text/plain": [
       "6    7648\n",
       "5     428\n",
       "7       1\n",
       "Name: platform_os, dtype: int64"
      ]
     },
     "execution_count": 8,
     "metadata": {},
     "output_type": "execute_result"
    }
   ],
   "source": [
    "# show the number of each os platform\n",
    "df.platform_os.value_counts()"
   ]
  },
  {
   "cell_type": "code",
   "execution_count": 9,
   "metadata": {},
   "outputs": [
    {
     "data": {
      "text/plain": [
       "[Text(0, 0, '5'), Text(0, 0, '6'), Text(0, 0, '7')]"
      ]
     },
     "execution_count": 9,
     "metadata": {},
     "output_type": "execute_result"
    },
    {
     "data": {
      "image/png": "[encoded data removed]",
      "text/plain": [
       "<Figure size 432x288 with 1 Axes>"
      ]
     },
     "metadata": {
      "needs_background": "light"
     },
     "output_type": "display_data"
    }
   ],
   "source": [
    "# Countplot for browsers\n",
    "osChart = sns.countplot(x='platform_os', data=df)\n",
    "osChart.set_xticklabels(osChart.get_xticklabels(), rotation=90) "
   ]
  },
  {
   "cell_type": "markdown",
   "metadata": {},
   "source": [
    "The graph above shows the os distribution its unevenly distributed"
   ]
  },
  {
   "cell_type": "code",
   "execution_count": 10,
   "metadata": {},
   "outputs": [
    {
     "data": {
      "text/plain": [
       "Generic Smartphone    4743\n",
       "iPhone                 433\n",
       "Samsung SM-G960F       203\n",
       "Samsung SM-G973F       154\n",
       "Samsung SM-G950F       148\n",
       "                      ... \n",
       "Samsung SM-C9000         1\n",
       "K7                       1\n",
       "Samsung SM-A415F         1\n",
       "X13                      1\n",
       "Samsung SM-G955U         1\n",
       "Name: device_make, Length: 270, dtype: int64"
      ]
     },
     "execution_count": 10,
     "metadata": {},
     "output_type": "execute_result"
    }
   ],
   "source": [
    "# number of devices in the device_make \n",
    "df.device_make.value_counts()"
   ]
  },
  {
   "cell_type": "code",
   "execution_count": 11,
   "metadata": {},
   "outputs": [
    {
     "data": {
      "text/plain": [
       "[Text(0, 0, 'Generic Smartphone'),\n",
       " Text(0, 0, 'iPhone'),\n",
       " Text(0, 0, 'Samsung SM-G960F'),\n",
       " Text(0, 0, 'Samsung SM-G973F'),\n",
       " Text(0, 0, 'Samsung SM-G950F'),\n",
       " Text(0, 0, 'Samsung SM-G930F'),\n",
       " Text(0, 0, 'Samsung SM-G975F'),\n",
       " Text(0, 0, 'Samsung SM-A202F'),\n",
       " Text(0, 0, 'Samsung SM-A405FN'),\n",
       " Text(0, 0, 'Samsung SM-J330FN')]"
      ]
     },
     "execution_count": 11,
     "metadata": {},
     "output_type": "execute_result"
    },
    {
     "data": {
      "image/png": "[encoded data removed]",
      "text/plain": [
       "<Figure size 432x288 with 1 Axes>"
      ]
     },
     "metadata": {
      "needs_background": "light"
     },
     "output_type": "display_data"
    }
   ],
   "source": [
    "# countplot for the devices in device_make\n",
    "devChart = sns.countplot(x='device_make',palette=\"Greens_d\", data=df,\n",
    "              order=df.device_make.value_counts().iloc[0:10].index)\n",
    "devChart.set_xticklabels(devChart.get_xticklabels(), rotation=90)"
   ]
  },
  {
   "cell_type": "markdown",
   "metadata": {},
   "source": [
    "The above graph shows the number of devices for the top 10 device makes"
   ]
  },
  {
   "cell_type": "code",
   "execution_count": 12,
   "metadata": {},
   "outputs": [
    {
     "data": {
      "text/plain": [
       "[Text(0, 0, '2020-07-03'),\n",
       " Text(0, 0, '2020-07-04'),\n",
       " Text(0, 0, '2020-07-05'),\n",
       " Text(0, 0, '2020-07-06'),\n",
       " Text(0, 0, '2020-07-07'),\n",
       " Text(0, 0, '2020-07-08'),\n",
       " Text(0, 0, '2020-07-09'),\n",
       " Text(0, 0, '2020-07-10')]"
      ]
     },
     "execution_count": 12,
     "metadata": {},
     "output_type": "execute_result"
    },
    {
     "data": {
      "image/png": "[encoded data removed]",
      "text/plain": [
       "<Figure size 432x288 with 1 Axes>"
      ]
     },
     "metadata": {
      "needs_background": "light"
     },
     "output_type": "display_data"
    }
   ],
   "source": [
    "# scatterplot for time vs date\n",
    "hourChart = sns.scatterplot(x='date', y='hour', hue='experiment', data=df)\n",
    "hourChart.set_xticklabels([date for date in df.date.unique()], rotation=90)"
   ]
  },
  {
   "cell_type": "markdown",
   "metadata": {},
   "source": [
    "The above graph shows date and what time the users from the two groups answered the questionare"
   ]
  },
  {
   "cell_type": "code",
   "execution_count": 13,
   "metadata": {},
   "outputs": [
    {
     "data": {
      "text/plain": [
       "[Text(0, 0, '2020-07-03'),\n",
       " Text(0, 0, '2020-07-04'),\n",
       " Text(0, 0, '2020-07-05'),\n",
       " Text(0, 0, '2020-07-06'),\n",
       " Text(0, 0, '2020-07-07'),\n",
       " Text(0, 0, '2020-07-08'),\n",
       " Text(0, 0, '2020-07-09'),\n",
       " Text(0, 0, '2020-07-10')]"
      ]
     },
     "execution_count": 13,
     "metadata": {},
     "output_type": "execute_result"
    },
    {
     "data": {
      "image/png": "[encoded data removed]",
      "text/plain": [
       "<Figure size 432x288 with 1 Axes>"
      ]
     },
     "metadata": {
      "needs_background": "light"
     },
     "output_type": "display_data"
    }
   ],
   "source": [
    "yesChart = sns.lineplot(x='date', y='yes', hue='experiment', ci=None, data=df)\n",
    "yesChart.set_xticklabels([date for date in df.date.unique()], rotation=90)"
   ]
  },
  {
   "cell_type": "markdown",
   "metadata": {
    "tags": []
   },
   "source": [
    "## Classic Testing"
   ]
  },
  {
   "cell_type": "markdown",
   "metadata": {},
   "source": [
    "The null hypothesis is that there is a variation of the number of users who know the brand due to the ads and the alternate hypothesis is that there no difference between the exposed and control groups in terms of brand awareness.\n",
    "\n",
    "> $H_0$ : There is an improvement in brand awareness as a result of the ads\n",
    "\n",
    "> $H_1$ : There is no improvement in brand awareness as a result of the ads\n",
    "\n",
    "The choosen value for the significance level was 0.05.\n",
    ">($\\alpha$ = 0.05)"
   ]
  },
  {
   "cell_type": "markdown",
   "metadata": {},
   "source": [
    "### Metrics\n",
    "### Invariant Metrics \n",
    "Invariate metrics are used for \"sanity checks\", that is, to make sure our experiment (the way we presented a change to a part of the population, as well as the way we collected the data) is not inherently wrong. This means we pick metrics which we consider not to change (not to be affected) because of our experiment and later make sure these metrics don't change drastically between our control and experiment groups.\n",
    "\n",
    "> What operating system users' have.\n",
    "\n",
    "### Evaluation Metrics\n",
    "Evaluation metrics on the other hand, are the metrics in which we expect to see a change, and are relevant to the business goals we aim to achieve.\n",
    "\n",
    "> $Control_{conversion}$ = $\\frac{control_{yes}}{control_{total}}$\n",
    "\n",
    "> $Exposed_{conversion}$ = $\\frac{exposed_{yes}}{exposed_{total}}$"
   ]
  },
  {
   "cell_type": "code",
   "execution_count": 14,
   "metadata": {},
   "outputs": [
    {
     "name": "stdout",
     "output_type": "stream",
     "text": [
      "(6834, 9)\n",
      "[0]\n",
      "[0]\n"
     ]
    },
    {
     "data": {
      "text/html": [
       "<div>\n",
       "<style scoped>\n",
       "    .dataframe tbody tr th:only-of-type {\n",
       "        vertical-align: middle;\n",
       "    }\n",
       "\n",
       "    .dataframe tbody tr th {\n",
       "        vertical-align: top;\n",
       "    }\n",
       "\n",
       "    .dataframe thead th {\n",
       "        text-align: right;\n",
       "    }\n",
       "</style>\n",
       "<table border=\"1\" class=\"dataframe\">\n",
       "  <thead>\n",
       "    <tr style=\"text-align: right;\">\n",
       "      <th></th>\n",
       "      <th>auction_id</th>\n",
       "      <th>experiment</th>\n",
       "      <th>date</th>\n",
       "      <th>hour</th>\n",
       "      <th>device_make</th>\n",
       "      <th>platform_os</th>\n",
       "      <th>browser</th>\n",
       "      <th>yes</th>\n",
       "      <th>no</th>\n",
       "    </tr>\n",
       "  </thead>\n",
       "  <tbody>\n",
       "    <tr>\n",
       "      <th>4038</th>\n",
       "      <td>818f37f3-dae8-4a33-a22e-e54056e0ba7d</td>\n",
       "      <td>control</td>\n",
       "      <td>2020-07-03</td>\n",
       "      <td>15</td>\n",
       "      <td>Samsung SM-A600FN</td>\n",
       "      <td>6</td>\n",
       "      <td>Chrome Mobile WebView</td>\n",
       "      <td>0</td>\n",
       "      <td>0</td>\n",
       "    </tr>\n",
       "    <tr>\n",
       "      <th>3345</th>\n",
       "      <td>6be2edc7-cf48-4831-8edf-3694eb241e09</td>\n",
       "      <td>control</td>\n",
       "      <td>2020-07-03</td>\n",
       "      <td>15</td>\n",
       "      <td>Generic Smartphone</td>\n",
       "      <td>6</td>\n",
       "      <td>Chrome Mobile</td>\n",
       "      <td>0</td>\n",
       "      <td>0</td>\n",
       "    </tr>\n",
       "    <tr>\n",
       "      <th>3348</th>\n",
       "      <td>6bfed6f0-66e1-4cf8-9871-ff948b5a2afe</td>\n",
       "      <td>exposed</td>\n",
       "      <td>2020-07-03</td>\n",
       "      <td>11</td>\n",
       "      <td>Generic Smartphone</td>\n",
       "      <td>6</td>\n",
       "      <td>Chrome Mobile</td>\n",
       "      <td>0</td>\n",
       "      <td>0</td>\n",
       "    </tr>\n",
       "    <tr>\n",
       "      <th>3354</th>\n",
       "      <td>6c3987e1-42ab-4bca-b1c9-3c6e4446f7eb</td>\n",
       "      <td>control</td>\n",
       "      <td>2020-07-03</td>\n",
       "      <td>15</td>\n",
       "      <td>Generic Smartphone</td>\n",
       "      <td>6</td>\n",
       "      <td>Chrome Mobile</td>\n",
       "      <td>0</td>\n",
       "      <td>0</td>\n",
       "    </tr>\n",
       "    <tr>\n",
       "      <th>3356</th>\n",
       "      <td>6c3cd274-3fba-4a35-97c8-85af0385517a</td>\n",
       "      <td>exposed</td>\n",
       "      <td>2020-07-03</td>\n",
       "      <td>8</td>\n",
       "      <td>Generic Smartphone</td>\n",
       "      <td>6</td>\n",
       "      <td>Chrome Mobile</td>\n",
       "      <td>0</td>\n",
       "      <td>0</td>\n",
       "    </tr>\n",
       "    <tr>\n",
       "      <th>...</th>\n",
       "      <td>...</td>\n",
       "      <td>...</td>\n",
       "      <td>...</td>\n",
       "      <td>...</td>\n",
       "      <td>...</td>\n",
       "      <td>...</td>\n",
       "      <td>...</td>\n",
       "      <td>...</td>\n",
       "      <td>...</td>\n",
       "    </tr>\n",
       "    <tr>\n",
       "      <th>4803</th>\n",
       "      <td>992da556-bd05-401f-a257-d105c7a956a5</td>\n",
       "      <td>exposed</td>\n",
       "      <td>2020-07-10</td>\n",
       "      <td>0</td>\n",
       "      <td>Generic Smartphone</td>\n",
       "      <td>6</td>\n",
       "      <td>Chrome Mobile</td>\n",
       "      <td>0</td>\n",
       "      <td>0</td>\n",
       "    </tr>\n",
       "    <tr>\n",
       "      <th>4786</th>\n",
       "      <td>989c096c-cac0-4aa5-a799-dc63b48107a1</td>\n",
       "      <td>exposed</td>\n",
       "      <td>2020-07-10</td>\n",
       "      <td>8</td>\n",
       "      <td>Samsung SM-A105FN</td>\n",
       "      <td>6</td>\n",
       "      <td>Samsung Internet</td>\n",
       "      <td>0</td>\n",
       "      <td>0</td>\n",
       "    </tr>\n",
       "    <tr>\n",
       "      <th>4764</th>\n",
       "      <td>9812db3b-2c00-472d-8d30-a0b06c813357</td>\n",
       "      <td>exposed</td>\n",
       "      <td>2020-07-10</td>\n",
       "      <td>15</td>\n",
       "      <td>Samsung SM-G960F</td>\n",
       "      <td>6</td>\n",
       "      <td>Chrome Mobile WebView</td>\n",
       "      <td>0</td>\n",
       "      <td>0</td>\n",
       "    </tr>\n",
       "    <tr>\n",
       "      <th>4736</th>\n",
       "      <td>97041ed0-0eb3-4306-9ce2-58b24a2226b0</td>\n",
       "      <td>exposed</td>\n",
       "      <td>2020-07-10</td>\n",
       "      <td>16</td>\n",
       "      <td>Samsung SM-G920F</td>\n",
       "      <td>6</td>\n",
       "      <td>Samsung Internet</td>\n",
       "      <td>0</td>\n",
       "      <td>0</td>\n",
       "    </tr>\n",
       "    <tr>\n",
       "      <th>8076</th>\n",
       "      <td>fffbb9ff-568a-41a5-a0c3-6866592f80d8</td>\n",
       "      <td>control</td>\n",
       "      <td>2020-07-10</td>\n",
       "      <td>14</td>\n",
       "      <td>Samsung SM-G960F</td>\n",
       "      <td>6</td>\n",
       "      <td>Facebook</td>\n",
       "      <td>0</td>\n",
       "      <td>0</td>\n",
       "    </tr>\n",
       "  </tbody>\n",
       "</table>\n",
       "<p>6834 rows × 9 columns</p>\n",
       "</div>"
      ],
      "text/plain": [
       "                                auction_id experiment        date  hour  \\\n",
       "4038  818f37f3-dae8-4a33-a22e-e54056e0ba7d    control  2020-07-03    15   \n",
       "3345  6be2edc7-cf48-4831-8edf-3694eb241e09    control  2020-07-03    15   \n",
       "3348  6bfed6f0-66e1-4cf8-9871-ff948b5a2afe    exposed  2020-07-03    11   \n",
       "3354  6c3987e1-42ab-4bca-b1c9-3c6e4446f7eb    control  2020-07-03    15   \n",
       "3356  6c3cd274-3fba-4a35-97c8-85af0385517a    exposed  2020-07-03     8   \n",
       "...                                    ...        ...         ...   ...   \n",
       "4803  992da556-bd05-401f-a257-d105c7a956a5    exposed  2020-07-10     0   \n",
       "4786  989c096c-cac0-4aa5-a799-dc63b48107a1    exposed  2020-07-10     8   \n",
       "4764  9812db3b-2c00-472d-8d30-a0b06c813357    exposed  2020-07-10    15   \n",
       "4736  97041ed0-0eb3-4306-9ce2-58b24a2226b0    exposed  2020-07-10    16   \n",
       "8076  fffbb9ff-568a-41a5-a0c3-6866592f80d8    control  2020-07-10    14   \n",
       "\n",
       "             device_make  platform_os                browser  yes  no  \n",
       "4038   Samsung SM-A600FN            6  Chrome Mobile WebView    0   0  \n",
       "3345  Generic Smartphone            6          Chrome Mobile    0   0  \n",
       "3348  Generic Smartphone            6          Chrome Mobile    0   0  \n",
       "3354  Generic Smartphone            6          Chrome Mobile    0   0  \n",
       "3356  Generic Smartphone            6          Chrome Mobile    0   0  \n",
       "...                  ...          ...                    ...  ...  ..  \n",
       "4803  Generic Smartphone            6          Chrome Mobile    0   0  \n",
       "4786   Samsung SM-A105FN            6       Samsung Internet    0   0  \n",
       "4764    Samsung SM-G960F            6  Chrome Mobile WebView    0   0  \n",
       "4736    Samsung SM-G920F            6       Samsung Internet    0   0  \n",
       "8076    Samsung SM-G960F            6               Facebook    0   0  \n",
       "\n",
       "[6834 rows x 9 columns]"
      ]
     },
     "execution_count": 14,
     "metadata": {},
     "output_type": "execute_result"
    }
   ],
   "source": [
    "# Find the data for the invariant people the people\n",
    "# who didn't click the radio button\n",
    "dfInva= df[df['yes'] == df['no'] ]\n",
    "print(dfInva.shape)\n",
    "\n",
    "# confirm there is only one unique values in both the yes and no cols\n",
    "print(dfInva.yes.unique())\n",
    "print(dfInva.no.unique())\n",
    "dfInva"
   ]
  },
  {
   "cell_type": "code",
   "execution_count": 15,
   "metadata": {},
   "outputs": [
    {
     "name": "stdout",
     "output_type": "stream",
     "text": [
      "(1243, 9)\n",
      "[0 1]\n",
      "[1 0]\n"
     ]
    },
    {
     "data": {
      "text/html": [
       "<div>\n",
       "<style scoped>\n",
       "    .dataframe tbody tr th:only-of-type {\n",
       "        vertical-align: middle;\n",
       "    }\n",
       "\n",
       "    .dataframe tbody tr th {\n",
       "        vertical-align: top;\n",
       "    }\n",
       "\n",
       "    .dataframe thead th {\n",
       "        text-align: right;\n",
       "    }\n",
       "</style>\n",
       "<table border=\"1\" class=\"dataframe\">\n",
       "  <thead>\n",
       "    <tr style=\"text-align: right;\">\n",
       "      <th></th>\n",
       "      <th>auction_id</th>\n",
       "      <th>experiment</th>\n",
       "      <th>date</th>\n",
       "      <th>hour</th>\n",
       "      <th>device_make</th>\n",
       "      <th>platform_os</th>\n",
       "      <th>browser</th>\n",
       "      <th>yes</th>\n",
       "      <th>no</th>\n",
       "    </tr>\n",
       "  </thead>\n",
       "  <tbody>\n",
       "    <tr>\n",
       "      <th>7703</th>\n",
       "      <td>f3fb35f0-a937-4db9-a853-5be0af307d41</td>\n",
       "      <td>control</td>\n",
       "      <td>2020-07-03</td>\n",
       "      <td>15</td>\n",
       "      <td>Generic Smartphone</td>\n",
       "      <td>6</td>\n",
       "      <td>Chrome Mobile</td>\n",
       "      <td>0</td>\n",
       "      <td>1</td>\n",
       "    </tr>\n",
       "    <tr>\n",
       "      <th>3390</th>\n",
       "      <td>6d7bc840-4247-4d7c-b135-81a2ce9d2a27</td>\n",
       "      <td>control</td>\n",
       "      <td>2020-07-03</td>\n",
       "      <td>15</td>\n",
       "      <td>MAR-LX1A</td>\n",
       "      <td>6</td>\n",
       "      <td>Facebook</td>\n",
       "      <td>0</td>\n",
       "      <td>1</td>\n",
       "    </tr>\n",
       "    <tr>\n",
       "      <th>3286</th>\n",
       "      <td>6a3e319e-5c3e-488f-a158-b075cb5f6591</td>\n",
       "      <td>exposed</td>\n",
       "      <td>2020-07-03</td>\n",
       "      <td>11</td>\n",
       "      <td>Generic Smartphone</td>\n",
       "      <td>6</td>\n",
       "      <td>Chrome Mobile</td>\n",
       "      <td>0</td>\n",
       "      <td>1</td>\n",
       "    </tr>\n",
       "    <tr>\n",
       "      <th>3289</th>\n",
       "      <td>6a59d23a-38dd-41ab-a29a-64d590d1975e</td>\n",
       "      <td>control</td>\n",
       "      <td>2020-07-03</td>\n",
       "      <td>15</td>\n",
       "      <td>Generic Smartphone</td>\n",
       "      <td>6</td>\n",
       "      <td>Chrome Mobile</td>\n",
       "      <td>1</td>\n",
       "      <td>0</td>\n",
       "    </tr>\n",
       "    <tr>\n",
       "      <th>3290</th>\n",
       "      <td>6a5bd09d-b9f8-4e77-a4e1-4e781929414a</td>\n",
       "      <td>control</td>\n",
       "      <td>2020-07-03</td>\n",
       "      <td>15</td>\n",
       "      <td>MRD-LX1</td>\n",
       "      <td>6</td>\n",
       "      <td>Facebook</td>\n",
       "      <td>1</td>\n",
       "      <td>0</td>\n",
       "    </tr>\n",
       "    <tr>\n",
       "      <th>...</th>\n",
       "      <td>...</td>\n",
       "      <td>...</td>\n",
       "      <td>...</td>\n",
       "      <td>...</td>\n",
       "      <td>...</td>\n",
       "      <td>...</td>\n",
       "      <td>...</td>\n",
       "      <td>...</td>\n",
       "      <td>...</td>\n",
       "    </tr>\n",
       "    <tr>\n",
       "      <th>4727</th>\n",
       "      <td>969b46ce-480b-476f-88ee-4f4c1d909597</td>\n",
       "      <td>control</td>\n",
       "      <td>2020-07-10</td>\n",
       "      <td>15</td>\n",
       "      <td>Samsung SM-G960F</td>\n",
       "      <td>6</td>\n",
       "      <td>Facebook</td>\n",
       "      <td>1</td>\n",
       "      <td>0</td>\n",
       "    </tr>\n",
       "    <tr>\n",
       "      <th>4881</th>\n",
       "      <td>9b7a2497-f2f3-4cfd-bf1b-bf533fa39f4f</td>\n",
       "      <td>exposed</td>\n",
       "      <td>2020-07-10</td>\n",
       "      <td>2</td>\n",
       "      <td>Generic Smartphone</td>\n",
       "      <td>6</td>\n",
       "      <td>Chrome Mobile</td>\n",
       "      <td>0</td>\n",
       "      <td>1</td>\n",
       "    </tr>\n",
       "    <tr>\n",
       "      <th>4863</th>\n",
       "      <td>9b0b9843-4898-4d85-a3ad-9d4004cb4bcc</td>\n",
       "      <td>control</td>\n",
       "      <td>2020-07-10</td>\n",
       "      <td>8</td>\n",
       "      <td>Samsung SM-G930F</td>\n",
       "      <td>6</td>\n",
       "      <td>Chrome Mobile WebView</td>\n",
       "      <td>1</td>\n",
       "      <td>0</td>\n",
       "    </tr>\n",
       "    <tr>\n",
       "      <th>4735</th>\n",
       "      <td>96ee2c29-9680-4621-b14c-0c66ec0988e2</td>\n",
       "      <td>control</td>\n",
       "      <td>2020-07-10</td>\n",
       "      <td>7</td>\n",
       "      <td>Generic Smartphone</td>\n",
       "      <td>6</td>\n",
       "      <td>Chrome Mobile WebView</td>\n",
       "      <td>0</td>\n",
       "      <td>1</td>\n",
       "    </tr>\n",
       "    <tr>\n",
       "      <th>4865</th>\n",
       "      <td>9b16782b-684f-408f-9fa9-187e902b2fc1</td>\n",
       "      <td>exposed</td>\n",
       "      <td>2020-07-10</td>\n",
       "      <td>7</td>\n",
       "      <td>Generic Smartphone</td>\n",
       "      <td>6</td>\n",
       "      <td>Chrome Mobile</td>\n",
       "      <td>0</td>\n",
       "      <td>1</td>\n",
       "    </tr>\n",
       "  </tbody>\n",
       "</table>\n",
       "<p>1243 rows × 9 columns</p>\n",
       "</div>"
      ],
      "text/plain": [
       "                                auction_id experiment        date  hour  \\\n",
       "7703  f3fb35f0-a937-4db9-a853-5be0af307d41    control  2020-07-03    15   \n",
       "3390  6d7bc840-4247-4d7c-b135-81a2ce9d2a27    control  2020-07-03    15   \n",
       "3286  6a3e319e-5c3e-488f-a158-b075cb5f6591    exposed  2020-07-03    11   \n",
       "3289  6a59d23a-38dd-41ab-a29a-64d590d1975e    control  2020-07-03    15   \n",
       "3290  6a5bd09d-b9f8-4e77-a4e1-4e781929414a    control  2020-07-03    15   \n",
       "...                                    ...        ...         ...   ...   \n",
       "4727  969b46ce-480b-476f-88ee-4f4c1d909597    control  2020-07-10    15   \n",
       "4881  9b7a2497-f2f3-4cfd-bf1b-bf533fa39f4f    exposed  2020-07-10     2   \n",
       "4863  9b0b9843-4898-4d85-a3ad-9d4004cb4bcc    control  2020-07-10     8   \n",
       "4735  96ee2c29-9680-4621-b14c-0c66ec0988e2    control  2020-07-10     7   \n",
       "4865  9b16782b-684f-408f-9fa9-187e902b2fc1    exposed  2020-07-10     7   \n",
       "\n",
       "             device_make  platform_os                browser  yes  no  \n",
       "7703  Generic Smartphone            6          Chrome Mobile    0   1  \n",
       "3390            MAR-LX1A            6               Facebook    0   1  \n",
       "3286  Generic Smartphone            6          Chrome Mobile    0   1  \n",
       "3289  Generic Smartphone            6          Chrome Mobile    1   0  \n",
       "3290             MRD-LX1            6               Facebook    1   0  \n",
       "...                  ...          ...                    ...  ...  ..  \n",
       "4727    Samsung SM-G960F            6               Facebook    1   0  \n",
       "4881  Generic Smartphone            6          Chrome Mobile    0   1  \n",
       "4863    Samsung SM-G930F            6  Chrome Mobile WebView    1   0  \n",
       "4735  Generic Smartphone            6  Chrome Mobile WebView    0   1  \n",
       "4865  Generic Smartphone            6          Chrome Mobile    0   1  \n",
       "\n",
       "[1243 rows x 9 columns]"
      ]
     },
     "execution_count": 15,
     "metadata": {},
     "output_type": "execute_result"
    }
   ],
   "source": [
    "# Get the number of users who click the radio button (viable for evaluation)\n",
    "dfEva = df[df['yes'] != df['no']]\n",
    "print(dfEva.shape)\n",
    "\n",
    "# confirm there are two unique values in both the yes and noo cols\n",
    "print(dfEva.yes.unique())\n",
    "print(dfEva.no.unique())\n",
    "dfEva"
   ]
  },
  {
   "cell_type": "code",
   "execution_count": 16,
   "metadata": {},
   "outputs": [
    {
     "data": {
      "text/plain": [
       "control    4071\n",
       "exposed    4006\n",
       "Name: experiment, dtype: int64"
      ]
     },
     "execution_count": 16,
     "metadata": {},
     "output_type": "execute_result"
    }
   ],
   "source": [
    "# Check if the number of users in the exposed group\n",
    "# is equal to the number of users in the controll group\n",
    "df['experiment'].value_counts()"
   ]
  },
  {
   "cell_type": "code",
   "execution_count": 17,
   "metadata": {},
   "outputs": [
    {
     "data": {
      "text/plain": [
       "exposed    657\n",
       "control    586\n",
       "Name: experiment, dtype: int64"
      ]
     },
     "execution_count": 17,
     "metadata": {},
     "output_type": "execute_result"
    }
   ],
   "source": [
    "# Check if the number of users in the exposed group\n",
    "# is equal to the number of users in the controll group\n",
    "dfEva['experiment'].value_counts()"
   ]
  },
  {
   "cell_type": "code",
   "execution_count": 18,
   "metadata": {},
   "outputs": [
    {
     "data": {
      "text/plain": [
       "0    349\n",
       "1    308\n",
       "Name: yes, dtype: int64"
      ]
     },
     "execution_count": 18,
     "metadata": {},
     "output_type": "execute_result"
    }
   ],
   "source": [
    "# Get the exposed group and find the yes values\n",
    "dfExp = dfEva[dfEva['experiment']== 'exposed']\n",
    "dfExp.yes.value_counts()"
   ]
  },
  {
   "cell_type": "code",
   "execution_count": 19,
   "metadata": {},
   "outputs": [
    {
     "data": {
      "text/plain": [
       "0    322\n",
       "1    264\n",
       "Name: yes, dtype: int64"
      ]
     },
     "execution_count": 19,
     "metadata": {},
     "output_type": "execute_result"
    }
   ],
   "source": [
    "# Get the control group and find the values they have for yes\n",
    "dfCon = dfEva[dfEva['experiment']== 'control']\n",
    "dfCon.yes.value_counts()"
   ]
  },
  {
   "cell_type": "code",
   "execution_count": 20,
   "metadata": {},
   "outputs": [
    {
     "name": "stdout",
     "output_type": "stream",
     "text": [
      "0.4687975646879756\n",
      "0.45051194539249145\n"
     ]
    }
   ],
   "source": [
    "# calculating the conversion rates for \n",
    "exposed, control = 657, 586\n",
    "expYes, conYes = 308, 264\n",
    "expEr, conEr = float(expYes)/float(exposed), float(conYes)/ float(control)\n",
    "print(expEr)\n",
    "print(conEr)"
   ]
  },
  {
   "cell_type": "code",
   "execution_count": 21,
   "metadata": {},
   "outputs": [
    {
     "data": {
      "text/plain": [
       "0.018285619295484168"
      ]
     },
     "execution_count": 21,
     "metadata": {},
     "output_type": "execute_result"
    }
   ],
   "source": [
    "# minimum detecctable effect\n",
    "dHat = expEr - conEr\n",
    "dHat"
   ]
  },
  {
   "cell_type": "code",
   "execution_count": 22,
   "metadata": {},
   "outputs": [
    {
     "data": {
      "text/plain": [
       "0.028319932727228023"
      ]
     },
     "execution_count": 22,
     "metadata": {},
     "output_type": "execute_result"
    }
   ],
   "source": [
    "# calculating the standard error for the entire group\n",
    "pHat = (expYes + conYes) / (exposed + control)\n",
    "stdErr = np.sqrt(pHat * (1 - pHat) * (1 / exposed + 1 / control ))\n",
    "stdErr"
   ]
  },
  {
   "cell_type": "code",
   "execution_count": 23,
   "metadata": {},
   "outputs": [
    {
     "data": {
      "text/plain": [
       "0.6651183185408868"
      ]
     },
     "execution_count": 23,
     "metadata": {},
     "output_type": "execute_result"
    }
   ],
   "source": [
    "# Calculating the standard error for each group\n",
    "expStd = np.sqrt(expEr * (1 - expEr) / exposed)\n",
    "conStd = np.sqrt(conEr * (1 - conEr) / exposed)\n",
    "\n",
    "# Calculating the zScore\n",
    "zScore = (expEr - conEr) / np.sqrt(expStd**2 + conStd**2)\n",
    "zScore"
   ]
  },
  {
   "cell_type": "code",
   "execution_count": 24,
   "metadata": {},
   "outputs": [
    {
     "data": {
      "text/plain": [
       "-0.000550486741240766"
      ]
     },
     "execution_count": 24,
     "metadata": {},
     "output_type": "execute_result"
    }
   ],
   "source": [
    "# Find out how significat the test is\n",
    "pVal = dHat - zScore * stdErr\n",
    "pVal"
   ]
  },
  {
   "cell_type": "markdown",
   "metadata": {},
   "source": [
    "The pValue calculated is less than the significance level defined in the beginning so we reject the null hypothesis. i.e\n",
    "> The ad shown has no effect on the brand awareness"
   ]
  },
  {
   "cell_type": "markdown",
   "metadata": {},
   "source": [
    "## Sanity Check"
   ]
  },
  {
   "cell_type": "code",
   "execution_count": 80,
   "metadata": {},
   "outputs": [
    {
     "data": {
      "text/plain": [
       "6    653\n",
       "5      4\n",
       "Name: platform_os, dtype: int64"
      ]
     },
     "execution_count": 80,
     "metadata": {},
     "output_type": "execute_result"
    }
   ],
   "source": [
    "# Check how the os is distributed in the exposed dataframe \n",
    "dfExp.platform_os.value_counts()"
   ]
  },
  {
   "cell_type": "code",
   "execution_count": 84,
   "metadata": {},
   "outputs": [
    {
     "data": {
      "text/plain": [
       "6    573\n",
       "5     13\n",
       "Name: platform_os, dtype: int64"
      ]
     },
     "execution_count": 84,
     "metadata": {},
     "output_type": "execute_result"
    }
   ],
   "source": [
    "# Check how the os is distributed in the control dataframe \n",
    "dfCon.platform_os.value_counts()"
   ]
  },
  {
   "cell_type": "code",
   "execution_count": 86,
   "metadata": {},
   "outputs": [
    {
     "name": "stdout",
     "output_type": "stream",
     "text": [
      "The confidence interval is between 0.47 and 0.53 ; Is 0.47 inside this range?\n"
     ]
    }
   ],
   "source": [
    "# The numbers of users with platform_os 6 in two groups\n",
    "expOs6 = 653\n",
    "conOs6 = 573\n",
    "\n",
    "# Total number of users on os 6\n",
    "totalOs6 = expOs6 + conOs6\n",
    "\n",
    "#Returns: z-score for given alpha\n",
    "def getZScore(alpha):\n",
    "    return norm.ppf(alpha)\n",
    "\n",
    "p=0.5\n",
    "alpha=0.05\n",
    "p_hat=round(conOs6 / (totalOs6), 2)\n",
    "sd=np.sqrt(p*(1-p)/(totalOs6))\n",
    "ME=round(getZScore(1-(alpha/2))*sd, 2)\n",
    "print (\"The confidence interval is between\",p-ME,\"and\",p+ME,\"; Is\",p_hat,\"inside this range?\")"
   ]
  },
  {
   "cell_type": "markdown",
   "metadata": {},
   "source": [
    "\n",
    "\n",
    "Our observed $\\hat{p}$ is inside this range which there is no difference in number of os usage between groups. So far so good, since this invariant metric sanity test passes!"
   ]
  },
  {
   "cell_type": "markdown",
   "metadata": {},
   "source": [
    "## Sequential Testing\n",
    "A common issue with classical A/B-tests, especially when you want to be able to detect small differences, is that the sample size needed can be prohibitively large. In many cases it can take several weeks, months or even years to collect enough data to conclude a test. \n",
    "\n",
    "*   The lower number of errors we require, the larger sample size we need.\n",
    "* The smaller the difference we want to detect, the larger sample size is required.\n",
    "\n",
    "Sequential sampling works in a very non-traditional way; instead of a fixed sample size, you choose one item (or a few) at a time, and then test your hypothesis. You can either:\n",
    "\n",
    "* Reject the null hypothesis (H0) in favor of the alternate hypothesis (H1) and stop,\n",
    "* Keep the null hypothesis and stop,\n",
    "* unable to reach either conclusion with current observation and continue sampling.\n",
    "\n",
    "### Advantage of Sequential testing over classic a/b testing\n",
    "\n",
    "\n",
    "*   optimize necessary observation (sample size)\n",
    "*   reduce the likelihood of error\n",
    "* gives a chance to finish experiments earlier without increasing the possibility of false results\n",
    "\n",
    "**N.B: Unlike classical fixed sample-size tests, where significance is only checked after all samples have been collected, this test will continously check for significance at every new sample and stop the test as soon as a significant result is detected, while still guaranteeing the same type-1 and type-2 errors as the fixed-samplesize test.**\n",
    "\n",
    "## Common sequential testing algorithms\n",
    "- [Evan Miller Simple Sequential A/B Testing](https://www.evanmiller.org/sequential-ab-testing.html)\n",
    "- [Sequential probability ratio testing (SPRT)](https://en.wikipedia.org/wiki/Sequential_probability_ratio_test)\n",
    "\n",
    "The Evan Miller sequential procedure for one-sided test works as follows:\n",
    "* choose a sample size \\(N\\). [Here](https://www.evanmiller.org/ab-testing/sequential.html) is the link to define N\n",
    "* Assign subjects randomly to the treatment and control, with 50% probability each.\n",
    "* Track the number of incoming successes from the treatment group. Call this number \\(T\\).\n",
    "* Track the number of incoming successes from the control group. Call this number \\(C\\).\n",
    "* If \\(T-C\\) reaches \\(2\\sqrt{N}\\), stop the test. Declare the treatment to be the winner.\n",
    "* If \\(T+C\\) reaches \\(N\\), stop the test. Declare no winner.\n",
    "\n",
    "The two-sided test is essentially the same, but with an alternate ending:\n",
    "* If \\(T-C\\) reaches \\(2.25\\sqrt{N}\\), stop the test. Declare the treatment to be the winner.\n",
    "* If \\(C-T\\) reaches \\(2.25\\sqrt{N}\\), stop the test. Declare the control to be the winner.\n",
    "* If \\(T+C\\) reaches \\(N\\), stop the test. Declare no winner.\n",
    "\n",
    "**N.B: This test completely ignores the number of failures in each group, which makes it significantly easier to implement in low-conversion settings. However**\n",
    "- **If we hit the threshold without having reached statistical proof, we cannot continue the experiment.**\n",
    "- **Even if preliminary evidence says that one version is terrible, we will keep losing conversions until we hit an arbitrarly pre-agreed threshold.**\n",
    "\n",
    "### Sequential probability ratio testing (SPRT)\n",
    "SPRT is based on the likelihood ratio statistic.\n",
    "#### Variants of SPRT\n",
    "- [Wald's(1947) sequential probability ratio test](http://en.wikipedia.org/wiki/Sequential_probability_ratio_test)\n",
    " * Wald's test uses one pair of observations at each stage and ignores tied observations and thus reduces a test of a single proportion.\n",
    "- [Conditional sequential probability ratio test](http://www.jstor.org/stable/2346379?seq=1#page_scan_tab_contents)\n",
    " * used to calculate tied observations b/n two proportions. So, determining statistical significance with two distributional streams of data can be used for conditional sprt.\n",
    "- [Sequential Generalized Likelihood Ratio Test](https://www.auduno.com/2014/12/25/rapid-a-b-testing-with-sequential-analysis/)\n",
    "  * used to measure tied observation. Has stoping rule estimation problem.\n",
    "\n",
    "We focus on conditional SPRT for this challenge.\n",
    "\n",
    "General steps of conditional SPRT\n",
    "\n",
    "1. Set statistical parameters (alpha, beta, odd ratio)\n",
    "2. Calculate critical upper and lower decision boundaries a & b\n",
    "\n",
    "![image.png](data:image/png;base64,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)    and     ![image.png](data:image/png;base64,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)\n",
    "3. Then for each trail(observation) compute\n",
    " * calculate test statistics(likelihood ratio) as S\n",
    " * calculate upper and lower limits for exposed group\n",
    " * apply stopping rule\n",
    "\n",
    "\n",
    "#### Stopping Rule\n",
    "\n",
    "1. If the log probability ratio greater than or equal to the upper critical limit then the model reject the null hypothesis with the favor of alternative hypothesis (i.e. accept H1 (conclude that version two is better than version one)) and terminate the test.\n",
    "  \n",
    "      ![image.png](data:image/png;base64,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)\n",
    " \n",
    "2. If the log probability ratio less than or equal to the lower critical limit then accept the null hypothesis (i.e. conclude that there is no difference between the two groups) and terminate the test.\n",
    "\n",
    "      ![image.png](data:image/png;base64,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)\n",
    "3. If neither critical limit is reached, conduct another trial and continue the test.\n",
    "\n",
    "    ![image.png](data:image/png;base64,iVBORw0KGgoAAAANSUhEUgAAAJ4AAAAZCAIAAABPUgBMAAAH0ElEQVRoBe1Z32sa2R4//4H+B3oDYSKUzEBIAwsyFqRcKHFKyL4YovTShywXNCxc7EIcAwsp2WgfbkvgJgqbSlm9lqU+3F6TaPMQkrY2LixISRmlYGEfnJmCcElNnDPnoseMs/4YTU123cVDCGdmzvme7/l8zvfXEaBh+5MiAP6k+xpuC/1u1EIIOY7b2NjY3d0VRREh9Pz580qlcqWcSLX25s0bnuevdKFBEP77UCuKosVioWmaZVmv12swGHw+H03TEMKrA+Xs7MzpdIJa29nZubqFBkTy5VMry7L23j5+/EhRlMvlkiQJj3z9+jUAgGXZrnO1JXf9enJy4nK5AABXeoa6qvHbDLhkamVZfvXqlTZwLMvqdDqFV4QQhJAkyVQq1f+eIYSJRKKTAhBCiqKu2j30uItCaJa49YjrcfTFhzVT+9l2I0lSMBjEPlZNW5NKsizTNE1RlHrM6elpn3DLsiwIQigUoml6dXVVLVytgCiKinv47J2qBV6kX4rcNZmXM8qU0v4jz4NEUXm+7E6DWlEUg8Egy7KCIHAc12NGAyEURTEQCNA0vba2hhMiDSUhhDRNY3xzuRyEUJIkWZbfvXv3eVhjBViWJUkyGAx2sles0tOnTwEA29vbbK0JgqCh6mV/aqb2suU3y6tTm8lkDAbD5ubm9vY2SZJ6vT4ajWpjLcuyKIo9YqosK8tyLBbDuQwAgKIolmW7Hghlurojy3I+n3c4HAzDhEKhTpaqTJFlGQdahmF2dna8Xq9ery+VSsqA9p1SNrL0N+t1k3HMNGmd9fxYwMNKP226Z+jxsRFi4qZ9OcqV8etiZN5kXo5GlubM1ymCpO3fJgq1rP/F15TxLyP1v9Hph8dI7ZC5f04TM4FnocUZMzV+jbLeCRxUi4ZqyyzTxN2oomUxPEdYA9l6JVHKhBZnblDEqGncPOv5PqMMQ6hW/GQyGQBAMBjEsliWBQAcHR3hx9b/GFOn02mz2UKhkLahtJ0eDAZJklQItlgs6mOUTqfVj20l5PN5p9NJ03QqlepRARxoDQbDp0+fEEKSJAEAwuEwqmT91pHJpcPWhVCF27JTxF/vbe1zhQ9cdi+6lagFx/eP7aTp1jfRzPsCd/h4wWyadCdqsBYj8yPGa9OeeKGMUDn3+M4EtfAjBrzZapuoNY5SM/f3imWEStmHX5om/7GHT0tnasvZB9Pj1sWtPa7wSyGbCNivU3f+3XDw1VzRYrEoeQ2E0OFw6HS6TngVi0UFU20C2iBVAxS/lyRJFMVYLKbT6QAAuVwOv0+n0zqdjuM6phfpdJphGIfDcXR0dCEFcrkcDgR4IUEQAACrq6sIcVt/n73zr2wbhQ99k2PTD+uqNb5nv7tptK6cmw4qJxbHx+a2fkEIVa2WWIifW0/5v25q/Ou92sxu1H5x76Bu+qj0wxxxYyVTM82O1P4vsTAxxe6fz0GIW58mvnyscAvy+TwAwOFwYC4hhEajkWGYTtTyPO9wOLC5XAhZhJAoik+ePDk9PVVAkmUZO4nd3V38UpZl7TDPcRx2wqlU6kIK4ECQTCbxQvixarWdW9WwzHWIVaNKz+6azgmrvS5G7WNTnv06teb7jVzpYGmKWIjX4O9CLTGzWff1CKH/fEVM3DvQpvbngHX03MMrrv5G48CBZDIJAAiFQlh1zHQgECgWi8fHx6r9NLrYIXu9XpqmewlyysxYLObz+dR8YGoVnyGKYiQS6Rp6lSjbu0OGEOIzpJxgHHcLhQaeip5K53OpbTiAfqh90YXaFXM7j6IoD1KpFE4a8avNzU0caFdWVtbX15VxrR11atpLxMVZzPz8vNofCIJgNBq9Xq8sy5Ik+Xw+t9vt8/m65kS4Gs7n8ziP6+WEBQIB5bJCEAS9Xu9yudTnrHWPSMshK7lMs0M2329LbfnZXZM6ojfF2larxdRyD26q3WzmW9qI06hSfIE0zYQ6Hk0gCILBYFhbW4MQRiIRnN2cnJyQJNljbYArWpIkceGkZk4NFs5idDqd3+/Hd7k8z9++fVupaOPxeCqVYhjG7/erJ2r3cUXLsix2IZ1WRwjlcjmdTpdOp3mexznguXvgttxzC6EGH40VK9wGTqMOucKHQnY/vpWoQYnTqKV49n2xJY0ydaAWHSxPETOBzIdSSSyVUWuG3OyQMbXlQ5/52qz/56pTL/30yH59pE4tqqZRxLVpT/iQ+1AsHGdehFc83zd2US1+crkcDp8bGxtnZ2cul4umaSUmNfap2cME22w2lmXV0VSZxPM8wzA8z7tcLoPBQFGUwWBQXy5WKpVisQgA4HlegyFFYFMHQogT704KIISSySRN0zabLRAINOxVI0OuwpmNfDNnnTAZR02T1jlPvG4lpbRS/ND2pV8XP+2tFqH3cY9tihgdMbYvftpTi1Aps/6VdYIa/4K+tfDo2YNfFz/he3ZrVSYxMWW1Lz7cU7Ko819+YK1hsCRJ0k5kmjBVP2pcNGKXix0pvqlo9bp+v9/hcGSz2bdv36rF9t6HEL58+VLjZOAbkt4F/nFHNm6jLmsPDWu4oMRKpcIwTDgcdrvdraxfUNhw+LnVDggS+Xze5/Pl8/kB0ecPrcblW22fcAzttU8AlekDR62i2bDTJwJDavsEcHCnD6kdXG761GxIbZ8ADu70IbWDy02fmv0fM3CEHwhmUyYAAAAASUVORK5CYII=)\n",
    "\n",
    "One-sided SPRT\n",
    "\n",
    "![image.png](data:image/png;base64,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)\n",
    "\n",
    "Two-sided SPRT\n",
    "\n",
    "![image.png](data:image/png;base64,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)\n",
    "\n",
    "Next we will write python implementation for conditional SPRT\n"
   ]
  },
  {
   "cell_type": "code",
   "execution_count": 43,
   "metadata": {},
   "outputs": [],
   "source": [
    "#@title\n",
    "#REFERENCE\n",
    "# A Conditional Sequential Test for the Equality of Two Binomial Proportions\n",
    "# William Q. Meeker, Jr\n",
    "# Journal of the Royal Statistical Society. Series C (Applied Statistics)\n",
    "# Vol. 30, No. 2 (1981), pp. 109-115\n",
    "def ConditionalSPRT(x,y,t1,alpha=0.05,beta=0.10,stop=None):\n",
    "        if t1<=1:\n",
    "            printLog('warning',\"Odd ratio should exceed 1.\")\n",
    "        if (alpha >0.5) | (beta >0.5):\n",
    "            printLog('warning',\"Unrealistic values of alpha or beta were passed.\"\n",
    "                     +\" You should have good reason to use large alpha & beta values\")\n",
    "        if stop!=None:\n",
    "            stop=math.floor(n0)        \n",
    "        \n",
    "        def comb(n, k):\n",
    "            return factorial(n) // factorial(k) // factorial(n - k)\n",
    "        \n",
    "        def lchoose(b, j):\n",
    "            a=[]\n",
    "            if (type(j) is list) | (isinstance(j,np.ndarray)==True):\n",
    "                if len(j)<2:\n",
    "                    j=j[0]\n",
    "            if (type(j) is list) | (isinstance(j,np.ndarray)==True):\n",
    "                for k in j:\n",
    "                    n=b\n",
    "                    if (0 <= k) & (k<= n):\n",
    "                        a.append(math.log(comb(n,k)))\n",
    "                    else:\n",
    "                        a.append(0)\n",
    "            else:\n",
    "                n=b\n",
    "                k=j\n",
    "                if (0 <= k) & (k<= n):\n",
    "                    a.append(math.log(comb(n,k)))\n",
    "                else:\n",
    "                    a.append(0)\n",
    "\n",
    "            return np.array(a)\n",
    "\n",
    "        def g(x,r,n,t1,t0=1):\n",
    "            return -math.log(h(x,r,n,t1))+math.log(h(x,r,n,t0))\n",
    "\n",
    "        def h(x,r,n,t=1):\n",
    "            return f(r,n,t,offset=ftermlog(x,r,n,t))\n",
    "\n",
    "        def f(r,n,t,offset=0):\n",
    "            upper=max(0,r-n)\n",
    "            lower=min(n,r)\n",
    "            rng=list(range(upper,lower+1))\n",
    "            return np.sum(fterm(rng,r,n,t,offset))\n",
    "\n",
    "        def fterm(j,r,n,t,offset=0):\n",
    "            ftlog=ftermlog(j,r,n,t,offset)\n",
    "            return np.array([math.exp(ex) for ex in ftlog])\n",
    "\n",
    "        def ftermlog(j,r,n,t,offset=0):\n",
    "            xx=r-j\n",
    "            lch=lchoose(n,j)\n",
    "            lchdiff=lchoose(n,xx)\n",
    "            lg=np.array(j)*math.log(t)\n",
    "            lgsum=lch+lchdiff\n",
    "            lgsum2=lgsum+lg\n",
    "            lgdiff=lgsum2-offset\n",
    "\n",
    "            return lgdiff\n",
    "\n",
    "        def logf(r,n,t,offset=0):\n",
    "\n",
    "            z=f(r,n,t,offset)\n",
    "            if z>0:\n",
    "                return math.log(z)\n",
    "            else:\n",
    "                return np.nan\n",
    "\n",
    "        def clowerUpper(r,n,t1c,t0=1,alpha=0.05,beta=0.10):\n",
    "            offset=ftermlog(math.ceil(r/2),r,n,t1c)\n",
    "            z=logf(r,n,t1c,logf(r,n,t0,offset)+offset)\n",
    "            a=-math.log(alpha/(1-beta))\n",
    "            b=math.log(beta/(1-alpha))\n",
    "            lower=b\n",
    "            upper=1+a\n",
    "            return (np.array([lower,upper])+z)/math.log(t1c/t0)\n",
    "            \n",
    "        l=math.log(beta/(1-alpha))\n",
    "        u=-math.log(alpha/(1-beta))\n",
    "        sample_size=min(len(x),len(y))\n",
    "        n=np.array(range(1,sample_size+1))\n",
    "\n",
    "        if stop!=None:\n",
    "            n=np.array([z for z in n if z<=stop])\n",
    "        x1=np.cumsum(x[n-1])\n",
    "        r=x1+np.cumsum(y[n-1])\n",
    "        stats=np.array(list(map(g,x1, r, n, [t1]*len(x1)))) #recurcively calls g\n",
    "\n",
    "        clu=list(map(clowerUpper,r,n,[t1]*len(r),[1]*len(r),[alpha]*len(r), [beta]*len(r)))\n",
    "        limits=[]\n",
    "        for v in clu:\n",
    "            inArray=[]\n",
    "            for vin in v:\n",
    "                inArray.append(math.floor(vin))\n",
    "            limits.append(np.array(inArray))\n",
    "        limits=np.array(limits)\n",
    "\n",
    "        k=np.where((stats>=u) | (stats<=l))\n",
    "        cvalues=stats[k]\n",
    "        if cvalues.shape[0]<1:\n",
    "            k= np.nan\n",
    "            outcome='Unable to conclude.Needs more sample.'\n",
    "        else:\n",
    "            k=np.min(k)\n",
    "            if stats[k]>=u:\n",
    "                outcome=f'Exposed group produced a statistically significant increase.'\n",
    "            else:\n",
    "                outcome='Their is no statistically significant difference between two test groups'\n",
    "        if (stop!=None) & (k==np.nan):\n",
    "            c1=clowerUpper(r,stop,t1,alpha,beta)\n",
    "            c1=math.floor(np.mean(c1)-0.5)\n",
    "            if x1[n0]<=c1:\n",
    "                truncate_decision='h0'\n",
    "                outcome='Maximum Limit Decision. The aproximate decision point shows their is no statistically significant difference between two test groups'\n",
    "            else:\n",
    "                truncate_decision='h1'\n",
    "                outcome=f'Maximum Limit Decision. The aproximate decision point shows exposed group produced a statistically significant increase.'\n",
    "            truncated=stop\n",
    "        else:\n",
    "            truncate_decision='Non'\n",
    "            truncated=np.nan\n",
    "        return (outcome,n, k,l,u,truncated,truncate_decision,x1,r,stats,limits)"
   ]
  },
  {
   "cell_type": "markdown",
   "metadata": {},
   "source": [
    "##### Use the next class structure to complete your sequential testing"
   ]
  },
  {
   "cell_type": "code",
   "execution_count": 95,
   "metadata": {},
   "outputs": [],
   "source": [
    "## your code here. include other necessary functions as you want.\n",
    "class SequentialTest:\n",
    "  def __init__(self,exposed,control,alpha=0.05,beta=0.10,stop=None):\n",
    "    '''\n",
    "    initialise startup variables\n",
    "    '''\n",
    "    if t1<=1:\n",
    "        printLog(\"warning\", \"odd ratio should exceed 1.\")\n",
    "    if (alpha > 0.5 | (beta > 0.5)):\n",
    "        printLog(\"warning\", \"Unrealistic values pf alpha or beta were passed.\"\n",
    "                + \"You should have good reason to use large aplha & beta values\")\n",
    "    if stop != None:\n",
    "        stop = math.floor(n0)\n",
    "  \n",
    "  def stoppingRule(self, alpha=0.05,beta=0.10):\n",
    "    '''\n",
    "    This function should take current observation and return statistical decision made. \n",
    "    Consider truncate rule for longer tests\n",
    "    '''\n",
    "    \n",
    "\n",
    "  def computeBoundaries(self, alpha, Beta):\n",
    "    '''\n",
    "    This function shoud compute boundaries \n",
    "    '''\n",
    "    a = math.log( beta / (1 - alpha))\n",
    "    b = math.log(( 1 - beta) / alpha)\n",
    "    return a, b\n",
    "    \n",
    "    \n",
    "  def plotTest(self,):\n",
    "    '''\n",
    "    showing the cumulative statistical test (e.g., log probability ratio) and the uper and lower limits.\n",
    "    '''\n",
    "\n",
    "  def plotBoundaries(self,):\n",
    "    '''cumulative sums of exposed successes, bounded by the critical limits.\n",
    "    '''\n"
   ]
  },
  {
   "cell_type": "code",
   "execution_count": 76,
   "metadata": {},
   "outputs": [],
   "source": [
    "def transform_data(df):\n",
    "    '''\n",
    "    segment data into exposed and control groups\n",
    "    consider that SmartAd runs the experment hourly, group data into hours. \n",
    "      Hint: create new column to hold date+hour and use df.column.map(lambda x:  pd.Timestamp(x,tz=None).strftime('%Y-%m-%d:%H'))\n",
    "      create two dataframes with bernouli series 1 for posetive(yes) and 0 for negative(no)\n",
    "    Hint: Given engagement(sum of yes and no until current observation as an array) and success (yes countas an array),\n",
    "    the method generates random binomial distribution\n",
    "        #Example\n",
    "           engagement = np.array([5, 3, 3])\n",
    "           yes = np.array([2, 0, 3])       \n",
    "         Output is \"[1] 1 0 1 0 0 0 0 0 1 1 1\", showing a binary array of 5+3+3 values\n",
    "         of which 2 of the first 5 are ones, 0 of the next 3 are ones, and all 3 of\n",
    "         the last 3 are ones where position the ones is randomly distributed within each group.\n",
    "  '''\n",
    "\n",
    "    df['dateHour'] = pd.to_datetime(df.date)\n",
    "    df.dateHour += pd.to_timedelta(df.hour, unit='h')\n",
    "    df.dateHour = df.dateHour.map(lambda x:  pd.Timestamp(x,tz=None).strftime('%Y-%m-%d:%H'))\n",
    "\n",
    "    grps = df.groupby('experiment')\n",
    "    dfGrpControl = grps.get_group('control')\n",
    "    dfGrpExposed = grps.get_group('exposed')\n",
    "\n",
    "    dfExposed = dfGrpExposed.groupby('dateHour').agg({'auction_id':'count', 'device_make':'count', 'platform_os':'count', 'browser':'count', 'yes':'sum', 'no':'sum'})\n",
    "    dfControl = dfGrpControl.groupby('dateHour').agg({'auction_id':'count', 'device_make':'count', 'platform_os':'count', 'browser':'count', 'yes':'sum', 'no':'sum'})\n",
    "\n",
    "    dfExposed['engagement'] = dfExposed['yes'] + dfExposed['no']\n",
    "    dfControl['engagement'] = dfControl['yes'] + dfControl['no'] \n",
    "\n",
    "\n",
    "    global probExp, probCon\n",
    "    probExp = dfExposed.yes.sum() / dfExposed.engagement.sum()\n",
    "    probCon = dfControl.yes.sum() / dfControl.engagement.sum()\n",
    "\n",
    "    expEngArr = dfExposed['engagement'].to_numpy()\n",
    "    conEngArr = dfControl['engagement'].to_numpy()\n",
    "\n",
    "    exposed = np.random.choice([0, 1], size=((np.sum(expEngArr)),), p=[probExp, 1-probExp])\n",
    "    control = np.random.choice([0, 1], size=((np.sum(conEngArr)),), p=[probCon, 1-probCon])\n",
    "\n",
    "    return exposed,control\n",
    "\n",
    "def plotDataSummary(exposed, control):\n",
    "    'This function plots cummulated success'\n",
    "    fig1 = plt.figure()\n",
    "    ax1 = fig1.add_subplot(1, 1, 1)\n",
    "    ax1.hist(exposed, bins=20, cumulative=True)\n",
    "    ax1.set_xlabel('Yes')\n",
    "    ax1.set_ylabel('Cumulative sum')\n",
    "    ax1.set_title('exposed cumulative chart')\n",
    "\n",
    "    fig2 = plt.figure()\n",
    "    ax2 = fig2.add_subplot(1, 1, 1)\n",
    "    ax2.hist(control, bins=20, cumulative=True)\n",
    "    ax2.set_xlabel('yes')\n",
    "    ax2.set_ylabel('Cumulative sum')\n",
    "    ax2.set_title('control cumulative chart')\n",
    "    \n",
    "\n",
    "def pretyPrintTestResult(self, test):\n",
    "    '''This function print final test result. Json format is recommended. For example\n",
    "    {\n",
    "        \"name\": \"\",\n",
    "        \"engagementCountControl\": ,\n",
    "        \"engagementCountExposed\": ,\n",
    "        \"positiveCountControl\": ,\n",
    "        \"positiveCountExposed\": ,\n",
    "        \"ControlSuccessProbability\": ,\n",
    "        \"ExposedSuccessProbability\": ,\n",
    "        \"basePositiveRate\": ,\n",
    "        \"significanceSign\": \".\",\n",
    "        \"lift\": ,\n",
    "        \"oddRatio\": ,\n",
    "        \"exactSuccessOddRate\":,\n",
    "        \"confidenceIntervalLevel\": ,\n",
    "        \"alpha\": ,\n",
    "        \"beta\": ,\n",
    "        \"power\": ,\n",
    "        \"criticalValue\": ,\n",
    "        \"lower critical(a)\": \n",
    "        \"upper critical(b)\": ,\n",
    "        \"TotalObservation\": \n",
    "  }'''"
   ]
  },
  {
   "cell_type": "code",
   "execution_count": 77,
   "metadata": {},
   "outputs": [
    {
     "data": {
      "text/plain": [
       "'Unable to conclude.Needs more sample.'"
      ]
     },
     "execution_count": 77,
     "metadata": {},
     "output_type": "execute_result"
    },
    {
     "data": {
      "image/png": "[encoded data removed]",
      "text/plain": [
       "<Figure size 842.4x595.44 with 1 Axes>"
      ]
     },
     "metadata": {},
     "output_type": "display_data"
    },
    {
     "data": {
      "image/png": "[encoded data removed]",
      "text/plain": [
       "<Figure size 842.4x595.44 with 1 Axes>"
      ]
     },
     "metadata": {},
     "output_type": "display_data"
    }
   ],
   "source": [
    "\n",
    "from math import *\n",
    "import numpy as np\n",
    "\n",
    "######################################\n",
    "'Define statistical parameters such as alpha, beta, sample size if evan approach is used, odd ratio for SPRT'\n",
    "alpha = 0.05\n",
    "beta = 0.01\n",
    "#other variables here\n",
    "'Compute statistical lower and upper decision points such as a and b'\n",
    "a = math.log( beta / (1 - alpha))\n",
    "b = math.log(( 1 - beta) / alpha)\n",
    "#other variables here\n",
    "\n",
    "dfSe = pd.read_csv('ABAdRecall.csv')\n",
    "\n",
    "##data processing here\n",
    "exposed, control = transform_data(dfSe)\n",
    "##plot data summary\n",
    "plotDataSummary(exposed,control)\n",
    "\n",
    "# Values gotten from the global variables in ConditionalSPRT\n",
    "oddRatio = ( probExp / (1 - probExp )) / (probCon / (1 - probCon ))\n",
    "\n",
    "'Perform test. Loop over each of data entry and perform test. Accumulate result into dataframe and print out test journey'\n",
    "# test=SequentialTest(...)\n",
    "test = ConditionalSPRT(x=exposed, y=control, t1=oddRatio)\n",
    "\n",
    "'Print test result.'\n",
    "# pretyPrintTestResult(resultObject)\n",
    "test[0]"
   ]
  },
  {
   "cell_type": "markdown",
   "metadata": {},
   "source": [
    "The above graph shows the cumulated data of the exposed and control arrays "
   ]
  },
  {
   "cell_type": "markdown",
   "metadata": {},
   "source": [
    "## A/B testing with Machine Learning"
   ]
  },
  {
   "cell_type": "markdown",
   "metadata": {},
   "source": [
    "### Data Analysis for ML\n"
   ]
  },
  {
   "cell_type": "code",
   "execution_count": 57,
   "metadata": {},
   "outputs": [
    {
     "data": {
      "text/html": [
       "<div>\n",
       "<style scoped>\n",
       "    .dataframe tbody tr th:only-of-type {\n",
       "        vertical-align: middle;\n",
       "    }\n",
       "\n",
       "    .dataframe tbody tr th {\n",
       "        vertical-align: top;\n",
       "    }\n",
       "\n",
       "    .dataframe thead th {\n",
       "        text-align: right;\n",
       "    }\n",
       "</style>\n",
       "<table border=\"1\" class=\"dataframe\">\n",
       "  <thead>\n",
       "    <tr style=\"text-align: right;\">\n",
       "      <th></th>\n",
       "      <th>auction_id</th>\n",
       "      <th>experiment</th>\n",
       "      <th>date</th>\n",
       "      <th>hour</th>\n",
       "      <th>device_make</th>\n",
       "      <th>platform_os</th>\n",
       "      <th>browser</th>\n",
       "      <th>yes</th>\n",
       "      <th>no</th>\n",
       "    </tr>\n",
       "  </thead>\n",
       "  <tbody>\n",
       "    <tr>\n",
       "      <th>0</th>\n",
       "      <td>0008ef63-77a7-448b-bd1e-075f42c55e39</td>\n",
       "      <td>exposed</td>\n",
       "      <td>2020-07-10</td>\n",
       "      <td>8</td>\n",
       "      <td>Generic Smartphone</td>\n",
       "      <td>6</td>\n",
       "      <td>Chrome Mobile</td>\n",
       "      <td>0</td>\n",
       "      <td>0</td>\n",
       "    </tr>\n",
       "    <tr>\n",
       "      <th>1</th>\n",
       "      <td>000eabc5-17ce-4137-8efe-44734d914446</td>\n",
       "      <td>exposed</td>\n",
       "      <td>2020-07-07</td>\n",
       "      <td>10</td>\n",
       "      <td>Generic Smartphone</td>\n",
       "      <td>6</td>\n",
       "      <td>Chrome Mobile</td>\n",
       "      <td>0</td>\n",
       "      <td>0</td>\n",
       "    </tr>\n",
       "    <tr>\n",
       "      <th>2</th>\n",
       "      <td>0016d14a-ae18-4a02-a204-6ba53b52f2ed</td>\n",
       "      <td>exposed</td>\n",
       "      <td>2020-07-05</td>\n",
       "      <td>2</td>\n",
       "      <td>E5823</td>\n",
       "      <td>6</td>\n",
       "      <td>Chrome Mobile WebView</td>\n",
       "      <td>0</td>\n",
       "      <td>1</td>\n",
       "    </tr>\n",
       "    <tr>\n",
       "      <th>3</th>\n",
       "      <td>00187412-2932-4542-a8ef-3633901c98d9</td>\n",
       "      <td>control</td>\n",
       "      <td>2020-07-03</td>\n",
       "      <td>15</td>\n",
       "      <td>Samsung SM-A705FN</td>\n",
       "      <td>6</td>\n",
       "      <td>Facebook</td>\n",
       "      <td>0</td>\n",
       "      <td>0</td>\n",
       "    </tr>\n",
       "    <tr>\n",
       "      <th>4</th>\n",
       "      <td>001a7785-d3fe-4e11-a344-c8735acacc2c</td>\n",
       "      <td>control</td>\n",
       "      <td>2020-07-03</td>\n",
       "      <td>15</td>\n",
       "      <td>Generic Smartphone</td>\n",
       "      <td>6</td>\n",
       "      <td>Chrome Mobile</td>\n",
       "      <td>0</td>\n",
       "      <td>0</td>\n",
       "    </tr>\n",
       "  </tbody>\n",
       "</table>\n",
       "</div>"
      ],
      "text/plain": [
       "                             auction_id experiment        date  hour  \\\n",
       "0  0008ef63-77a7-448b-bd1e-075f42c55e39    exposed  2020-07-10     8   \n",
       "1  000eabc5-17ce-4137-8efe-44734d914446    exposed  2020-07-07    10   \n",
       "2  0016d14a-ae18-4a02-a204-6ba53b52f2ed    exposed  2020-07-05     2   \n",
       "3  00187412-2932-4542-a8ef-3633901c98d9    control  2020-07-03    15   \n",
       "4  001a7785-d3fe-4e11-a344-c8735acacc2c    control  2020-07-03    15   \n",
       "\n",
       "          device_make  platform_os                browser  yes  no  \n",
       "0  Generic Smartphone            6          Chrome Mobile    0   0  \n",
       "1  Generic Smartphone            6          Chrome Mobile    0   0  \n",
       "2               E5823            6  Chrome Mobile WebView    0   1  \n",
       "3   Samsung SM-A705FN            6               Facebook    0   0  \n",
       "4  Generic Smartphone            6          Chrome Mobile    0   0  "
      ]
     },
     "execution_count": 57,
     "metadata": {},
     "output_type": "execute_result"
    }
   ],
   "source": [
    "from sklearn.linear_model import LogisticRegression\n",
    "from sklearn.preprocessing import LabelEncoder\n",
    "\n",
    "dfMl = pd.read_csv('ABAdRecall.csv')\n",
    "dfMl.head()"
   ]
  },
  {
   "cell_type": "code",
   "execution_count": 58,
   "metadata": {},
   "outputs": [
    {
     "name": "stdout",
     "output_type": "stream",
     "text": [
      "['Android' 'Chrome' 'Chrome Mobile' 'Chrome Mobile WebView'\n",
      " 'Chrome Mobile iOS' 'Edge Mobile' 'Facebook' 'Firefox Mobile'\n",
      " 'Mobile Safari' 'Mobile Safari UI/WKWebView' 'Opera Mini' 'Opera Mobile'\n",
      " 'Pinterest' 'Puffin' 'Samsung Internet']\n"
     ]
    },
    {
     "data": {
      "text/html": [
       "<div>\n",
       "<style scoped>\n",
       "    .dataframe tbody tr th:only-of-type {\n",
       "        vertical-align: middle;\n",
       "    }\n",
       "\n",
       "    .dataframe tbody tr th {\n",
       "        vertical-align: top;\n",
       "    }\n",
       "\n",
       "    .dataframe thead th {\n",
       "        text-align: right;\n",
       "    }\n",
       "</style>\n",
       "<table border=\"1\" class=\"dataframe\">\n",
       "  <thead>\n",
       "    <tr style=\"text-align: right;\">\n",
       "      <th></th>\n",
       "      <th>auction_id</th>\n",
       "      <th>experiment</th>\n",
       "      <th>date</th>\n",
       "      <th>hour</th>\n",
       "      <th>device_make</th>\n",
       "      <th>platform_os</th>\n",
       "      <th>browser</th>\n",
       "      <th>yes</th>\n",
       "      <th>no</th>\n",
       "    </tr>\n",
       "  </thead>\n",
       "  <tbody>\n",
       "    <tr>\n",
       "      <th>0</th>\n",
       "      <td>0008ef63-77a7-448b-bd1e-075f42c55e39</td>\n",
       "      <td>exposed</td>\n",
       "      <td>2020-07-10</td>\n",
       "      <td>8</td>\n",
       "      <td>Generic Smartphone</td>\n",
       "      <td>6</td>\n",
       "      <td>2</td>\n",
       "      <td>0</td>\n",
       "      <td>0</td>\n",
       "    </tr>\n",
       "    <tr>\n",
       "      <th>1</th>\n",
       "      <td>000eabc5-17ce-4137-8efe-44734d914446</td>\n",
       "      <td>exposed</td>\n",
       "      <td>2020-07-07</td>\n",
       "      <td>10</td>\n",
       "      <td>Generic Smartphone</td>\n",
       "      <td>6</td>\n",
       "      <td>2</td>\n",
       "      <td>0</td>\n",
       "      <td>0</td>\n",
       "    </tr>\n",
       "    <tr>\n",
       "      <th>2</th>\n",
       "      <td>0016d14a-ae18-4a02-a204-6ba53b52f2ed</td>\n",
       "      <td>exposed</td>\n",
       "      <td>2020-07-05</td>\n",
       "      <td>2</td>\n",
       "      <td>E5823</td>\n",
       "      <td>6</td>\n",
       "      <td>3</td>\n",
       "      <td>0</td>\n",
       "      <td>1</td>\n",
       "    </tr>\n",
       "    <tr>\n",
       "      <th>3</th>\n",
       "      <td>00187412-2932-4542-a8ef-3633901c98d9</td>\n",
       "      <td>control</td>\n",
       "      <td>2020-07-03</td>\n",
       "      <td>15</td>\n",
       "      <td>Samsung SM-A705FN</td>\n",
       "      <td>6</td>\n",
       "      <td>6</td>\n",
       "      <td>0</td>\n",
       "      <td>0</td>\n",
       "    </tr>\n",
       "    <tr>\n",
       "      <th>4</th>\n",
       "      <td>001a7785-d3fe-4e11-a344-c8735acacc2c</td>\n",
       "      <td>control</td>\n",
       "      <td>2020-07-03</td>\n",
       "      <td>15</td>\n",
       "      <td>Generic Smartphone</td>\n",
       "      <td>6</td>\n",
       "      <td>2</td>\n",
       "      <td>0</td>\n",
       "      <td>0</td>\n",
       "    </tr>\n",
       "  </tbody>\n",
       "</table>\n",
       "</div>"
      ],
      "text/plain": [
       "                             auction_id experiment        date  hour  \\\n",
       "0  0008ef63-77a7-448b-bd1e-075f42c55e39    exposed  2020-07-10     8   \n",
       "1  000eabc5-17ce-4137-8efe-44734d914446    exposed  2020-07-07    10   \n",
       "2  0016d14a-ae18-4a02-a204-6ba53b52f2ed    exposed  2020-07-05     2   \n",
       "3  00187412-2932-4542-a8ef-3633901c98d9    control  2020-07-03    15   \n",
       "4  001a7785-d3fe-4e11-a344-c8735acacc2c    control  2020-07-03    15   \n",
       "\n",
       "          device_make  platform_os  browser  yes  no  \n",
       "0  Generic Smartphone            6        2    0   0  \n",
       "1  Generic Smartphone            6        2    0   0  \n",
       "2               E5823            6        3    0   1  \n",
       "3   Samsung SM-A705FN            6        6    0   0  \n",
       "4  Generic Smartphone            6        2    0   0  "
      ]
     },
     "execution_count": 58,
     "metadata": {},
     "output_type": "execute_result"
    }
   ],
   "source": [
    "# turn the browser category into a number\n",
    "labelEncoder = LabelEncoder()\n",
    "dfMl['browser'] = labelEncoder.fit_transform(dfMl[\"browser\"])\n",
    "browsers = labelEncoder.classes_\n",
    "print(browsers)\n",
    "dfMl.head()"
   ]
  },
  {
   "cell_type": "code",
   "execution_count": 59,
   "metadata": {},
   "outputs": [
    {
     "name": "stdout",
     "output_type": "stream",
     "text": [
      "270\n"
     ]
    },
    {
     "data": {
      "text/html": [
       "<div>\n",
       "<style scoped>\n",
       "    .dataframe tbody tr th:only-of-type {\n",
       "        vertical-align: middle;\n",
       "    }\n",
       "\n",
       "    .dataframe tbody tr th {\n",
       "        vertical-align: top;\n",
       "    }\n",
       "\n",
       "    .dataframe thead th {\n",
       "        text-align: right;\n",
       "    }\n",
       "</style>\n",
       "<table border=\"1\" class=\"dataframe\">\n",
       "  <thead>\n",
       "    <tr style=\"text-align: right;\">\n",
       "      <th></th>\n",
       "      <th>auction_id</th>\n",
       "      <th>experiment</th>\n",
       "      <th>date</th>\n",
       "      <th>hour</th>\n",
       "      <th>device_make</th>\n",
       "      <th>platform_os</th>\n",
       "      <th>browser</th>\n",
       "      <th>yes</th>\n",
       "      <th>no</th>\n",
       "    </tr>\n",
       "  </thead>\n",
       "  <tbody>\n",
       "    <tr>\n",
       "      <th>0</th>\n",
       "      <td>0008ef63-77a7-448b-bd1e-075f42c55e39</td>\n",
       "      <td>exposed</td>\n",
       "      <td>2020-07-10</td>\n",
       "      <td>8</td>\n",
       "      <td>46</td>\n",
       "      <td>6</td>\n",
       "      <td>2</td>\n",
       "      <td>0</td>\n",
       "      <td>0</td>\n",
       "    </tr>\n",
       "    <tr>\n",
       "      <th>1</th>\n",
       "      <td>000eabc5-17ce-4137-8efe-44734d914446</td>\n",
       "      <td>exposed</td>\n",
       "      <td>2020-07-07</td>\n",
       "      <td>10</td>\n",
       "      <td>46</td>\n",
       "      <td>6</td>\n",
       "      <td>2</td>\n",
       "      <td>0</td>\n",
       "      <td>0</td>\n",
       "    </tr>\n",
       "    <tr>\n",
       "      <th>2</th>\n",
       "      <td>0016d14a-ae18-4a02-a204-6ba53b52f2ed</td>\n",
       "      <td>exposed</td>\n",
       "      <td>2020-07-05</td>\n",
       "      <td>2</td>\n",
       "      <td>29</td>\n",
       "      <td>6</td>\n",
       "      <td>3</td>\n",
       "      <td>0</td>\n",
       "      <td>1</td>\n",
       "    </tr>\n",
       "    <tr>\n",
       "      <th>3</th>\n",
       "      <td>00187412-2932-4542-a8ef-3633901c98d9</td>\n",
       "      <td>control</td>\n",
       "      <td>2020-07-03</td>\n",
       "      <td>15</td>\n",
       "      <td>137</td>\n",
       "      <td>6</td>\n",
       "      <td>6</td>\n",
       "      <td>0</td>\n",
       "      <td>0</td>\n",
       "    </tr>\n",
       "    <tr>\n",
       "      <th>4</th>\n",
       "      <td>001a7785-d3fe-4e11-a344-c8735acacc2c</td>\n",
       "      <td>control</td>\n",
       "      <td>2020-07-03</td>\n",
       "      <td>15</td>\n",
       "      <td>46</td>\n",
       "      <td>6</td>\n",
       "      <td>2</td>\n",
       "      <td>0</td>\n",
       "      <td>0</td>\n",
       "    </tr>\n",
       "  </tbody>\n",
       "</table>\n",
       "</div>"
      ],
      "text/plain": [
       "                             auction_id experiment        date  hour  \\\n",
       "0  0008ef63-77a7-448b-bd1e-075f42c55e39    exposed  2020-07-10     8   \n",
       "1  000eabc5-17ce-4137-8efe-44734d914446    exposed  2020-07-07    10   \n",
       "2  0016d14a-ae18-4a02-a204-6ba53b52f2ed    exposed  2020-07-05     2   \n",
       "3  00187412-2932-4542-a8ef-3633901c98d9    control  2020-07-03    15   \n",
       "4  001a7785-d3fe-4e11-a344-c8735acacc2c    control  2020-07-03    15   \n",
       "\n",
       "   device_make  platform_os  browser  yes  no  \n",
       "0           46            6        2    0   0  \n",
       "1           46            6        2    0   0  \n",
       "2           29            6        3    0   1  \n",
       "3          137            6        6    0   0  \n",
       "4           46            6        2    0   0  "
      ]
     },
     "execution_count": 59,
     "metadata": {},
     "output_type": "execute_result"
    }
   ],
   "source": [
    "# Turn the device_make into a number\n",
    "dfMl['device_make'] = labelEncoder.fit_transform(dfMl[\"device_make\"])\n",
    "deviceMake = labelEncoder.classes_\n",
    "print(len(deviceMake))\n",
    "dfMl.head()"
   ]
  },
  {
   "cell_type": "code",
   "execution_count": 60,
   "metadata": {},
   "outputs": [
    {
     "data": {
      "text/html": [
       "<div>\n",
       "<style scoped>\n",
       "    .dataframe tbody tr th:only-of-type {\n",
       "        vertical-align: middle;\n",
       "    }\n",
       "\n",
       "    .dataframe tbody tr th {\n",
       "        vertical-align: top;\n",
       "    }\n",
       "\n",
       "    .dataframe thead th {\n",
       "        text-align: right;\n",
       "    }\n",
       "</style>\n",
       "<table border=\"1\" class=\"dataframe\">\n",
       "  <thead>\n",
       "    <tr style=\"text-align: right;\">\n",
       "      <th></th>\n",
       "      <th>auction_id</th>\n",
       "      <th>experiment</th>\n",
       "      <th>date</th>\n",
       "      <th>hour</th>\n",
       "      <th>device_make</th>\n",
       "      <th>platform_os</th>\n",
       "      <th>browser</th>\n",
       "      <th>yes</th>\n",
       "      <th>no</th>\n",
       "    </tr>\n",
       "  </thead>\n",
       "  <tbody>\n",
       "    <tr>\n",
       "      <th>0</th>\n",
       "      <td>0008ef63-77a7-448b-bd1e-075f42c55e39</td>\n",
       "      <td>exposed</td>\n",
       "      <td>4</td>\n",
       "      <td>8</td>\n",
       "      <td>46</td>\n",
       "      <td>6</td>\n",
       "      <td>2</td>\n",
       "      <td>0</td>\n",
       "      <td>0</td>\n",
       "    </tr>\n",
       "    <tr>\n",
       "      <th>1</th>\n",
       "      <td>000eabc5-17ce-4137-8efe-44734d914446</td>\n",
       "      <td>exposed</td>\n",
       "      <td>1</td>\n",
       "      <td>10</td>\n",
       "      <td>46</td>\n",
       "      <td>6</td>\n",
       "      <td>2</td>\n",
       "      <td>0</td>\n",
       "      <td>0</td>\n",
       "    </tr>\n",
       "    <tr>\n",
       "      <th>2</th>\n",
       "      <td>0016d14a-ae18-4a02-a204-6ba53b52f2ed</td>\n",
       "      <td>exposed</td>\n",
       "      <td>6</td>\n",
       "      <td>2</td>\n",
       "      <td>29</td>\n",
       "      <td>6</td>\n",
       "      <td>3</td>\n",
       "      <td>0</td>\n",
       "      <td>1</td>\n",
       "    </tr>\n",
       "    <tr>\n",
       "      <th>3</th>\n",
       "      <td>00187412-2932-4542-a8ef-3633901c98d9</td>\n",
       "      <td>control</td>\n",
       "      <td>4</td>\n",
       "      <td>15</td>\n",
       "      <td>137</td>\n",
       "      <td>6</td>\n",
       "      <td>6</td>\n",
       "      <td>0</td>\n",
       "      <td>0</td>\n",
       "    </tr>\n",
       "    <tr>\n",
       "      <th>4</th>\n",
       "      <td>001a7785-d3fe-4e11-a344-c8735acacc2c</td>\n",
       "      <td>control</td>\n",
       "      <td>4</td>\n",
       "      <td>15</td>\n",
       "      <td>46</td>\n",
       "      <td>6</td>\n",
       "      <td>2</td>\n",
       "      <td>0</td>\n",
       "      <td>0</td>\n",
       "    </tr>\n",
       "  </tbody>\n",
       "</table>\n",
       "</div>"
      ],
      "text/plain": [
       "                             auction_id experiment  date  hour  device_make  \\\n",
       "0  0008ef63-77a7-448b-bd1e-075f42c55e39    exposed     4     8           46   \n",
       "1  000eabc5-17ce-4137-8efe-44734d914446    exposed     1    10           46   \n",
       "2  0016d14a-ae18-4a02-a204-6ba53b52f2ed    exposed     6     2           29   \n",
       "3  00187412-2932-4542-a8ef-3633901c98d9    control     4    15          137   \n",
       "4  001a7785-d3fe-4e11-a344-c8735acacc2c    control     4    15           46   \n",
       "\n",
       "   platform_os  browser  yes  no  \n",
       "0            6        2    0   0  \n",
       "1            6        2    0   0  \n",
       "2            6        3    0   1  \n",
       "3            6        6    0   0  \n",
       "4            6        2    0   0  "
      ]
     },
     "execution_count": 60,
     "metadata": {},
     "output_type": "execute_result"
    }
   ],
   "source": [
    "#Turn the date column into a specific number\n",
    "dfMl.date = pd.to_datetime(dfMl.date)\n",
    "dfMl.date = dfMl.date.dt.dayofweek\n",
    "dfMl.head()"
   ]
  },
  {
   "cell_type": "code",
   "execution_count": 61,
   "metadata": {},
   "outputs": [
    {
     "name": "stdout",
     "output_type": "stream",
     "text": [
      "2\n"
     ]
    },
    {
     "data": {
      "text/html": [
       "<div>\n",
       "<style scoped>\n",
       "    .dataframe tbody tr th:only-of-type {\n",
       "        vertical-align: middle;\n",
       "    }\n",
       "\n",
       "    .dataframe tbody tr th {\n",
       "        vertical-align: top;\n",
       "    }\n",
       "\n",
       "    .dataframe thead th {\n",
       "        text-align: right;\n",
       "    }\n",
       "</style>\n",
       "<table border=\"1\" class=\"dataframe\">\n",
       "  <thead>\n",
       "    <tr style=\"text-align: right;\">\n",
       "      <th></th>\n",
       "      <th>auction_id</th>\n",
       "      <th>experiment</th>\n",
       "      <th>date</th>\n",
       "      <th>hour</th>\n",
       "      <th>device_make</th>\n",
       "      <th>platform_os</th>\n",
       "      <th>browser</th>\n",
       "      <th>yes</th>\n",
       "      <th>no</th>\n",
       "    </tr>\n",
       "  </thead>\n",
       "  <tbody>\n",
       "    <tr>\n",
       "      <th>0</th>\n",
       "      <td>0008ef63-77a7-448b-bd1e-075f42c55e39</td>\n",
       "      <td>1</td>\n",
       "      <td>4</td>\n",
       "      <td>8</td>\n",
       "      <td>46</td>\n",
       "      <td>6</td>\n",
       "      <td>2</td>\n",
       "      <td>0</td>\n",
       "      <td>0</td>\n",
       "    </tr>\n",
       "    <tr>\n",
       "      <th>1</th>\n",
       "      <td>000eabc5-17ce-4137-8efe-44734d914446</td>\n",
       "      <td>1</td>\n",
       "      <td>1</td>\n",
       "      <td>10</td>\n",
       "      <td>46</td>\n",
       "      <td>6</td>\n",
       "      <td>2</td>\n",
       "      <td>0</td>\n",
       "      <td>0</td>\n",
       "    </tr>\n",
       "    <tr>\n",
       "      <th>2</th>\n",
       "      <td>0016d14a-ae18-4a02-a204-6ba53b52f2ed</td>\n",
       "      <td>1</td>\n",
       "      <td>6</td>\n",
       "      <td>2</td>\n",
       "      <td>29</td>\n",
       "      <td>6</td>\n",
       "      <td>3</td>\n",
       "      <td>0</td>\n",
       "      <td>1</td>\n",
       "    </tr>\n",
       "    <tr>\n",
       "      <th>3</th>\n",
       "      <td>00187412-2932-4542-a8ef-3633901c98d9</td>\n",
       "      <td>0</td>\n",
       "      <td>4</td>\n",
       "      <td>15</td>\n",
       "      <td>137</td>\n",
       "      <td>6</td>\n",
       "      <td>6</td>\n",
       "      <td>0</td>\n",
       "      <td>0</td>\n",
       "    </tr>\n",
       "    <tr>\n",
       "      <th>4</th>\n",
       "      <td>001a7785-d3fe-4e11-a344-c8735acacc2c</td>\n",
       "      <td>0</td>\n",
       "      <td>4</td>\n",
       "      <td>15</td>\n",
       "      <td>46</td>\n",
       "      <td>6</td>\n",
       "      <td>2</td>\n",
       "      <td>0</td>\n",
       "      <td>0</td>\n",
       "    </tr>\n",
       "  </tbody>\n",
       "</table>\n",
       "</div>"
      ],
      "text/plain": [
       "                             auction_id  experiment  date  hour  device_make  \\\n",
       "0  0008ef63-77a7-448b-bd1e-075f42c55e39           1     4     8           46   \n",
       "1  000eabc5-17ce-4137-8efe-44734d914446           1     1    10           46   \n",
       "2  0016d14a-ae18-4a02-a204-6ba53b52f2ed           1     6     2           29   \n",
       "3  00187412-2932-4542-a8ef-3633901c98d9           0     4    15          137   \n",
       "4  001a7785-d3fe-4e11-a344-c8735acacc2c           0     4    15           46   \n",
       "\n",
       "   platform_os  browser  yes  no  \n",
       "0            6        2    0   0  \n",
       "1            6        2    0   0  \n",
       "2            6        3    0   1  \n",
       "3            6        6    0   0  \n",
       "4            6        2    0   0  "
      ]
     },
     "execution_count": 61,
     "metadata": {},
     "output_type": "execute_result"
    }
   ],
   "source": [
    "#Turn experiment column into binary\n",
    "dfMl['experiment'] = labelEncoder.fit_transform(dfMl[\"experiment\"])\n",
    "experiment = labelEncoder.classes_\n",
    "print(len(experiment))\n",
    "dfMl.head()"
   ]
  },
  {
   "cell_type": "markdown",
   "metadata": {},
   "source": [
    "Drop the platform_os Column as its not distributed enough and auction_id as it's a unique identifier "
   ]
  },
  {
   "cell_type": "code",
   "execution_count": 62,
   "metadata": {},
   "outputs": [
    {
     "data": {
      "text/html": [
       "<div>\n",
       "<style scoped>\n",
       "    .dataframe tbody tr th:only-of-type {\n",
       "        vertical-align: middle;\n",
       "    }\n",
       "\n",
       "    .dataframe tbody tr th {\n",
       "        vertical-align: top;\n",
       "    }\n",
       "\n",
       "    .dataframe thead th {\n",
       "        text-align: right;\n",
       "    }\n",
       "</style>\n",
       "<table border=\"1\" class=\"dataframe\">\n",
       "  <thead>\n",
       "    <tr style=\"text-align: right;\">\n",
       "      <th></th>\n",
       "      <th>experiment</th>\n",
       "      <th>date</th>\n",
       "      <th>hour</th>\n",
       "      <th>device_make</th>\n",
       "      <th>browser</th>\n",
       "      <th>yes</th>\n",
       "      <th>no</th>\n",
       "    </tr>\n",
       "  </thead>\n",
       "  <tbody>\n",
       "    <tr>\n",
       "      <th>0</th>\n",
       "      <td>1</td>\n",
       "      <td>4</td>\n",
       "      <td>8</td>\n",
       "      <td>46</td>\n",
       "      <td>2</td>\n",
       "      <td>0</td>\n",
       "      <td>0</td>\n",
       "    </tr>\n",
       "    <tr>\n",
       "      <th>1</th>\n",
       "      <td>1</td>\n",
       "      <td>1</td>\n",
       "      <td>10</td>\n",
       "      <td>46</td>\n",
       "      <td>2</td>\n",
       "      <td>0</td>\n",
       "      <td>0</td>\n",
       "    </tr>\n",
       "    <tr>\n",
       "      <th>2</th>\n",
       "      <td>1</td>\n",
       "      <td>6</td>\n",
       "      <td>2</td>\n",
       "      <td>29</td>\n",
       "      <td>3</td>\n",
       "      <td>0</td>\n",
       "      <td>1</td>\n",
       "    </tr>\n",
       "    <tr>\n",
       "      <th>3</th>\n",
       "      <td>0</td>\n",
       "      <td>4</td>\n",
       "      <td>15</td>\n",
       "      <td>137</td>\n",
       "      <td>6</td>\n",
       "      <td>0</td>\n",
       "      <td>0</td>\n",
       "    </tr>\n",
       "    <tr>\n",
       "      <th>4</th>\n",
       "      <td>0</td>\n",
       "      <td>4</td>\n",
       "      <td>15</td>\n",
       "      <td>46</td>\n",
       "      <td>2</td>\n",
       "      <td>0</td>\n",
       "      <td>0</td>\n",
       "    </tr>\n",
       "  </tbody>\n",
       "</table>\n",
       "</div>"
      ],
      "text/plain": [
       "   experiment  date  hour  device_make  browser  yes  no\n",
       "0           1     4     8           46        2    0   0\n",
       "1           1     1    10           46        2    0   0\n",
       "2           1     6     2           29        3    0   1\n",
       "3           0     4    15          137        6    0   0\n",
       "4           0     4    15           46        2    0   0"
      ]
     },
     "execution_count": 62,
     "metadata": {},
     "output_type": "execute_result"
    }
   ],
   "source": [
    "# dropping the platform_os and auction_id\n",
    "dfMl.drop(['auction_id', 'platform_os'], axis=1, inplace=True)\n",
    "dfMl.head()"
   ]
  },
  {
   "cell_type": "code",
   "execution_count": 63,
   "metadata": {},
   "outputs": [
    {
     "data": {
      "text/html": [
       "<div>\n",
       "<style scoped>\n",
       "    .dataframe tbody tr th:only-of-type {\n",
       "        vertical-align: middle;\n",
       "    }\n",
       "\n",
       "    .dataframe tbody tr th {\n",
       "        vertical-align: top;\n",
       "    }\n",
       "\n",
       "    .dataframe thead th {\n",
       "        text-align: right;\n",
       "    }\n",
       "</style>\n",
       "<table border=\"1\" class=\"dataframe\">\n",
       "  <thead>\n",
       "    <tr style=\"text-align: right;\">\n",
       "      <th></th>\n",
       "      <th>experiment</th>\n",
       "      <th>date</th>\n",
       "      <th>hour</th>\n",
       "      <th>device_make</th>\n",
       "      <th>browser</th>\n",
       "      <th>yes</th>\n",
       "      <th>no</th>\n",
       "      <th>targetCol</th>\n",
       "    </tr>\n",
       "  </thead>\n",
       "  <tbody>\n",
       "    <tr>\n",
       "      <th>0</th>\n",
       "      <td>1</td>\n",
       "      <td>4</td>\n",
       "      <td>8</td>\n",
       "      <td>46</td>\n",
       "      <td>2</td>\n",
       "      <td>0</td>\n",
       "      <td>0</td>\n",
       "      <td>2.0</td>\n",
       "    </tr>\n",
       "    <tr>\n",
       "      <th>1</th>\n",
       "      <td>1</td>\n",
       "      <td>1</td>\n",
       "      <td>10</td>\n",
       "      <td>46</td>\n",
       "      <td>2</td>\n",
       "      <td>0</td>\n",
       "      <td>0</td>\n",
       "      <td>2.0</td>\n",
       "    </tr>\n",
       "    <tr>\n",
       "      <th>2</th>\n",
       "      <td>1</td>\n",
       "      <td>6</td>\n",
       "      <td>2</td>\n",
       "      <td>29</td>\n",
       "      <td>3</td>\n",
       "      <td>0</td>\n",
       "      <td>1</td>\n",
       "      <td>0.0</td>\n",
       "    </tr>\n",
       "    <tr>\n",
       "      <th>3</th>\n",
       "      <td>0</td>\n",
       "      <td>4</td>\n",
       "      <td>15</td>\n",
       "      <td>137</td>\n",
       "      <td>6</td>\n",
       "      <td>0</td>\n",
       "      <td>0</td>\n",
       "      <td>2.0</td>\n",
       "    </tr>\n",
       "    <tr>\n",
       "      <th>4</th>\n",
       "      <td>0</td>\n",
       "      <td>4</td>\n",
       "      <td>15</td>\n",
       "      <td>46</td>\n",
       "      <td>2</td>\n",
       "      <td>0</td>\n",
       "      <td>0</td>\n",
       "      <td>2.0</td>\n",
       "    </tr>\n",
       "  </tbody>\n",
       "</table>\n",
       "</div>"
      ],
      "text/plain": [
       "   experiment  date  hour  device_make  browser  yes  no  targetCol\n",
       "0           1     4     8           46        2    0   0        2.0\n",
       "1           1     1    10           46        2    0   0        2.0\n",
       "2           1     6     2           29        3    0   1        0.0\n",
       "3           0     4    15          137        6    0   0        2.0\n",
       "4           0     4    15           46        2    0   0        2.0"
      ]
     },
     "execution_count": 63,
     "metadata": {},
     "output_type": "execute_result"
    }
   ],
   "source": [
    "# creating a new column that will be our target column\n",
    "dfMl.loc[dfMl['no'] == 1, 'targetCol'] = 0\n",
    "dfMl.loc[dfMl['yes'] == 1, 'targetCol'] = 1\n",
    "dfMl.loc[dfMl['yes'] == dfMl['no'], 'targetCol'] = 2\n",
    "dfMl.head()"
   ]
  },
  {
   "cell_type": "code",
   "execution_count": 64,
   "metadata": {},
   "outputs": [
    {
     "data": {
      "text/html": [
       "<div>\n",
       "<style scoped>\n",
       "    .dataframe tbody tr th:only-of-type {\n",
       "        vertical-align: middle;\n",
       "    }\n",
       "\n",
       "    .dataframe tbody tr th {\n",
       "        vertical-align: top;\n",
       "    }\n",
       "\n",
       "    .dataframe thead th {\n",
       "        text-align: right;\n",
       "    }\n",
       "</style>\n",
       "<table border=\"1\" class=\"dataframe\">\n",
       "  <thead>\n",
       "    <tr style=\"text-align: right;\">\n",
       "      <th></th>\n",
       "      <th>experiment</th>\n",
       "      <th>date</th>\n",
       "      <th>hour</th>\n",
       "      <th>device_make</th>\n",
       "      <th>browser</th>\n",
       "      <th>targetCol</th>\n",
       "    </tr>\n",
       "  </thead>\n",
       "  <tbody>\n",
       "    <tr>\n",
       "      <th>0</th>\n",
       "      <td>1</td>\n",
       "      <td>4</td>\n",
       "      <td>8</td>\n",
       "      <td>46</td>\n",
       "      <td>2</td>\n",
       "      <td>2.0</td>\n",
       "    </tr>\n",
       "    <tr>\n",
       "      <th>1</th>\n",
       "      <td>1</td>\n",
       "      <td>1</td>\n",
       "      <td>10</td>\n",
       "      <td>46</td>\n",
       "      <td>2</td>\n",
       "      <td>2.0</td>\n",
       "    </tr>\n",
       "    <tr>\n",
       "      <th>2</th>\n",
       "      <td>1</td>\n",
       "      <td>6</td>\n",
       "      <td>2</td>\n",
       "      <td>29</td>\n",
       "      <td>3</td>\n",
       "      <td>0.0</td>\n",
       "    </tr>\n",
       "    <tr>\n",
       "      <th>3</th>\n",
       "      <td>0</td>\n",
       "      <td>4</td>\n",
       "      <td>15</td>\n",
       "      <td>137</td>\n",
       "      <td>6</td>\n",
       "      <td>2.0</td>\n",
       "    </tr>\n",
       "    <tr>\n",
       "      <th>4</th>\n",
       "      <td>0</td>\n",
       "      <td>4</td>\n",
       "      <td>15</td>\n",
       "      <td>46</td>\n",
       "      <td>2</td>\n",
       "      <td>2.0</td>\n",
       "    </tr>\n",
       "  </tbody>\n",
       "</table>\n",
       "</div>"
      ],
      "text/plain": [
       "   experiment  date  hour  device_make  browser  targetCol\n",
       "0           1     4     8           46        2        2.0\n",
       "1           1     1    10           46        2        2.0\n",
       "2           1     6     2           29        3        0.0\n",
       "3           0     4    15          137        6        2.0\n",
       "4           0     4    15           46        2        2.0"
      ]
     },
     "execution_count": 64,
     "metadata": {},
     "output_type": "execute_result"
    }
   ],
   "source": [
    "# droping the yes and no cols\n",
    "dfMl.drop(['yes', 'no'], axis=1, inplace=True)\n",
    "dfMl.head()"
   ]
  },
  {
   "cell_type": "code",
   "execution_count": 93,
   "metadata": {},
   "outputs": [
    {
     "data": {
      "text/html": [
       "<div>\n",
       "<style scoped>\n",
       "    .dataframe tbody tr th:only-of-type {\n",
       "        vertical-align: middle;\n",
       "    }\n",
       "\n",
       "    .dataframe tbody tr th {\n",
       "        vertical-align: top;\n",
       "    }\n",
       "\n",
       "    .dataframe thead th {\n",
       "        text-align: right;\n",
       "    }\n",
       "</style>\n",
       "<table border=\"1\" class=\"dataframe\">\n",
       "  <thead>\n",
       "    <tr style=\"text-align: right;\">\n",
       "      <th></th>\n",
       "      <th>experiment</th>\n",
       "      <th>date</th>\n",
       "      <th>hour</th>\n",
       "      <th>device_make</th>\n",
       "      <th>browser</th>\n",
       "    </tr>\n",
       "  </thead>\n",
       "  <tbody>\n",
       "    <tr>\n",
       "      <th>0</th>\n",
       "      <td>1</td>\n",
       "      <td>4</td>\n",
       "      <td>8</td>\n",
       "      <td>46</td>\n",
       "      <td>2</td>\n",
       "    </tr>\n",
       "    <tr>\n",
       "      <th>1</th>\n",
       "      <td>1</td>\n",
       "      <td>1</td>\n",
       "      <td>10</td>\n",
       "      <td>46</td>\n",
       "      <td>2</td>\n",
       "    </tr>\n",
       "    <tr>\n",
       "      <th>2</th>\n",
       "      <td>1</td>\n",
       "      <td>6</td>\n",
       "      <td>2</td>\n",
       "      <td>29</td>\n",
       "      <td>3</td>\n",
       "    </tr>\n",
       "    <tr>\n",
       "      <th>3</th>\n",
       "      <td>0</td>\n",
       "      <td>4</td>\n",
       "      <td>15</td>\n",
       "      <td>137</td>\n",
       "      <td>6</td>\n",
       "    </tr>\n",
       "    <tr>\n",
       "      <th>4</th>\n",
       "      <td>0</td>\n",
       "      <td>4</td>\n",
       "      <td>15</td>\n",
       "      <td>46</td>\n",
       "      <td>2</td>\n",
       "    </tr>\n",
       "  </tbody>\n",
       "</table>\n",
       "</div>"
      ],
      "text/plain": [
       "   experiment  date  hour  device_make  browser\n",
       "0           1     4     8           46        2\n",
       "1           1     1    10           46        2\n",
       "2           1     6     2           29        3\n",
       "3           0     4    15          137        6\n",
       "4           0     4    15           46        2"
      ]
     },
     "execution_count": 93,
     "metadata": {},
     "output_type": "execute_result"
    }
   ],
   "source": [
    "# creating the X(features) and Y(targetCol) dataframes\n",
    "Y = dfMl['targetCol']\n",
    "X = dfMl.drop(['targetCol'], axis=1)\n",
    "features = X.columns\n",
    "X.head()"
   ]
  },
  {
   "cell_type": "markdown",
   "metadata": {},
   "source": [
    "### Model Design"
   ]
  },
  {
   "cell_type": "code",
   "execution_count": 66,
   "metadata": {},
   "outputs": [],
   "source": [
    "import xgboost as xgb\n",
    "from sklearn.tree import DecisionTreeClassifier\n",
    "from sklearn.model_selection import train_test_split, KFold\n",
    "from sklearn.linear_model import LogisticRegression\n",
    "from sklearn.metrics import accuracy_score"
   ]
  },
  {
   "cell_type": "markdown",
   "metadata": {},
   "source": [
    "### K-fold Cross Validation\n",
    "K-Fold CV is where a given data set is split into a K number of sections/folds where each fold is used as a testing set at some point. Lets take the scenario of 5-Fold cross validation(K=5). Here, the data set is split into 5 folds. In the first iteration, the first fold is used to test the model and the rest are used to train the model. In the second iteration, 2nd fold is used as the testing set while the rest serve as the training set. This process is repeated until each fold of the 5 folds have been used as the testing set.\n",
    "Image for post"
   ]
  },
  {
   "cell_type": "code",
   "execution_count": 90,
   "metadata": {},
   "outputs": [
    {
     "name": "stderr",
     "output_type": "stream",
     "text": [
      "c:\\users\\gkkar\\appdata\\local\\programs\\python\\python36\\lib\\site-packages\\sklearn\\linear_model\\_logistic.py:940: ConvergenceWarning: lbfgs failed to converge (status=1):\n",
      "STOP: TOTAL NO. of ITERATIONS REACHED LIMIT.\n",
      "\n",
      "Increase the number of iterations (max_iter) or scale the data as shown in:\n",
      "    https://scikit-learn.org/stable/modules/preprocessing.html\n",
      "Please also refer to the documentation for alternative solver options:\n",
      "    https://scikit-learn.org/stable/modules/linear_model.html#logistic-regression\n",
      "  extra_warning_msg=_LOGISTIC_SOLVER_CONVERGENCE_MSG)\n",
      "c:\\users\\gkkar\\appdata\\local\\programs\\python\\python36\\lib\\site-packages\\sklearn\\linear_model\\_logistic.py:940: ConvergenceWarning: lbfgs failed to converge (status=1):\n",
      "STOP: TOTAL NO. of ITERATIONS REACHED LIMIT.\n",
      "\n",
      "Increase the number of iterations (max_iter) or scale the data as shown in:\n",
      "    https://scikit-learn.org/stable/modules/preprocessing.html\n",
      "Please also refer to the documentation for alternative solver options:\n",
      "    https://scikit-learn.org/stable/modules/linear_model.html#logistic-regression\n",
      "  extra_warning_msg=_LOGISTIC_SOLVER_CONVERGENCE_MSG)\n",
      "c:\\users\\gkkar\\appdata\\local\\programs\\python\\python36\\lib\\site-packages\\sklearn\\linear_model\\_logistic.py:940: ConvergenceWarning: lbfgs failed to converge (status=1):\n",
      "STOP: TOTAL NO. of ITERATIONS REACHED LIMIT.\n",
      "\n",
      "Increase the number of iterations (max_iter) or scale the data as shown in:\n",
      "    https://scikit-learn.org/stable/modules/preprocessing.html\n",
      "Please also refer to the documentation for alternative solver options:\n",
      "    https://scikit-learn.org/stable/modules/linear_model.html#logistic-regression\n",
      "  extra_warning_msg=_LOGISTIC_SOLVER_CONVERGENCE_MSG)\n",
      "c:\\users\\gkkar\\appdata\\local\\programs\\python\\python36\\lib\\site-packages\\sklearn\\linear_model\\_logistic.py:940: ConvergenceWarning: lbfgs failed to converge (status=1):\n",
      "STOP: TOTAL NO. of ITERATIONS REACHED LIMIT.\n",
      "\n",
      "Increase the number of iterations (max_iter) or scale the data as shown in:\n",
      "    https://scikit-learn.org/stable/modules/preprocessing.html\n",
      "Please also refer to the documentation for alternative solver options:\n",
      "    https://scikit-learn.org/stable/modules/linear_model.html#logistic-regression\n",
      "  extra_warning_msg=_LOGISTIC_SOLVER_CONVERGENCE_MSG)\n",
      "c:\\users\\gkkar\\appdata\\local\\programs\\python\\python36\\lib\\site-packages\\sklearn\\linear_model\\_logistic.py:940: ConvergenceWarning: lbfgs failed to converge (status=1):\n",
      "STOP: TOTAL NO. of ITERATIONS REACHED LIMIT.\n",
      "\n",
      "Increase the number of iterations (max_iter) or scale the data as shown in:\n",
      "    https://scikit-learn.org/stable/modules/preprocessing.html\n",
      "Please also refer to the documentation for alternative solver options:\n",
      "    https://scikit-learn.org/stable/modules/linear_model.html#logistic-regression\n",
      "  extra_warning_msg=_LOGISTIC_SOLVER_CONVERGENCE_MSG)\n"
     ]
    },
    {
     "name": "stdout",
     "output_type": "stream",
     "text": [
      "The scores for xgboost are: \n",
      "0: 0.83\n",
      "1: 0.84\n",
      "2: 0.84\n",
      "3: 0.84\n",
      "4: 0.83\n",
      "\n",
      "\n",
      " The scores for Logistic regression are: \n",
      "0: 0.83\n",
      "1: 0.85\n",
      "2: 0.86\n",
      "3: 0.85\n",
      "4: 0.84\n",
      "\n",
      "\n",
      " The scores for Decision Tree are: \n",
      "0: 0.77\n",
      "1: 0.77\n",
      "2: 0.79\n",
      "3: 0.79\n",
      "4: 0.78\n"
     ]
    }
   ],
   "source": [
    "# dividing the data set into 90% train set 10% test set\n",
    "xTrain, xTest, yTrain, yTest = train_test_split(X, Y, test_size=0.1, random_state=42)\n",
    "\n",
    "# Defining the models to use \n",
    "xGradient = xgb.XGBClassifier()\n",
    "logReg = LogisticRegression()\n",
    "decTree = DecisionTreeClassifier()    \n",
    "\n",
    "def modelKfold(model, x, y):\n",
    "    # A list to append all the score for each fold\n",
    "    scores = []\n",
    "    \n",
    "    # split the data further using KFold\n",
    "    cv = KFold(n_splits=5,random_state=42, shuffle=True)\n",
    "    for trainIndex, testIndex in cv.split(xTrain):\n",
    "\n",
    "        cvXTrain, cvXTest = x.iloc[trainIndex], x.iloc[testIndex]\n",
    "        cvYTrain, cvYTest = y.iloc[trainIndex], y.iloc[testIndex]\n",
    "        \n",
    "        # Train the model and predict on the test set\n",
    "        modelTrained = model.fit(cvXTrain, cvYTrain)\n",
    "        yPred = modelTrained.predict(x.iloc[testIndex])\n",
    "        \n",
    "        # find the score (score for one fold) and append them to the scores list(all the scores)\n",
    "        scores.append(round(accuracy_score(cvYTest, yPred), 2))\n",
    "        \n",
    "    return modelTrained, scores\n",
    "\n",
    "xGradientTrained, xgScores = modelKfold(xGradient, xTrain, yTrain)\n",
    "logRegTrained, lrScores= modelKfold(logReg, xTrain, yTrain)\n",
    "decTreeTrained, dtScores= modelKfold(decTree, xTrain, yTrain)\n",
    "\n",
    "print(\"The scores for xgboost are: \")\n",
    "print('\\n'.join('{}: {}'.format(*k) for k in enumerate(xgScores)))\n",
    "print(\"\\n\\n The scores for Logistic regression are: \")\n",
    "print('\\n'.join('{}: {}'.format(*k) for k in enumerate(lrScores)))\n",
    "print(\"\\n\\n The scores for Decision Tree are: \")\n",
    "print('\\n'.join('{}: {}'.format(*k) for k in enumerate(dtScores)))"
   ]
  },
  {
   "cell_type": "code",
   "execution_count": 91,
   "metadata": {},
   "outputs": [
    {
     "name": "stdout",
     "output_type": "stream",
     "text": [
      "The prediction on the test is:  0.85\n"
     ]
    }
   ],
   "source": [
    "# logistic regression has the best values\n",
    "lrPred = logRegTrained.predict(xTest)\n",
    "print(\"The prediction on the test is: \", round(accuracy_score(yTest, lrPred), 2))"
   ]
  },
  {
   "cell_type": "code",
   "execution_count": 94,
   "metadata": {},
   "outputs": [
    {
     "name": "stdout",
     "output_type": "stream",
     "text": [
      "Feature: 0, Score: -0.17089\n",
      "Feature: 1, Score: -0.02100\n",
      "Feature: 2, Score: -0.01313\n",
      "Feature: 3, Score: -0.00099\n",
      "Feature: 4, Score: 0.01585\n"
     ]
    },
    {
     "data": {
      "image/png": "[encoded data removed]",
      "text/plain": [
       "<Figure size 842.4x595.44 with 1 Axes>"
      ]
     },
     "metadata": {},
     "output_type": "display_data"
    },
    {
     "data": {
      "text/plain": [
       "Index(['experiment', 'date', 'hour', 'device_make', 'browser'], dtype='object')"
      ]
     },
     "execution_count": 94,
     "metadata": {},
     "output_type": "execute_result"
    }
   ],
   "source": [
    "# get importance\n",
    "importance = logRegTrained.coef_[0]\n",
    "\n",
    "# summarize feature importance\n",
    "for i,v in enumerate(importance):\n",
    "    print('Feature: %0d, Score: %.5f' % (i,v))\n",
    "    \n",
    "# plot feature importance\n",
    "plt.bar([x for x in range(len(importance))], importance)\n",
    "plt.show()\n",
    "features"
   ]
  },
  {
   "cell_type": "markdown",
   "metadata": {},
   "source": [
    "The Above graph shows the barplot of feature importance of the different columns"
   ]
  },
  {
   "cell_type": "code",
   "execution_count": null,
   "metadata": {},
   "outputs": [],
   "source": []
  }
 ],
 "metadata": {
  "kernelspec": {
   "display_name": "Python 3",
   "language": "python",
   "name": "python3"
  },
  "language_info": {
   "codemirror_mode": {
    "name": "ipython",
    "version": 3
   },
   "file_extension": ".py",
   "mimetype": "text/x-python",
   "name": "python",
   "nbconvert_exporter": "python",
   "pygments_lexer": "ipython3",
   "version": "3.6.8"
  }
 },
 "nbformat": 4,
 "nbformat_minor": 4
}
